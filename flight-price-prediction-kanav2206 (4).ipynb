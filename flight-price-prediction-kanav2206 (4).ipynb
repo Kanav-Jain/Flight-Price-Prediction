{
 "cells": [
  {
   "cell_type": "markdown",
   "source": [
    "# **Flight Price Prediction Using Supervised ML**\r\n",
    "\r\n",
    "**Dataset Used: [*Dataset*](https://drive.google.com/drive/folders/1lPoRgB7CmvT6lPs--0YTVy2tPLTANmly?usp=sharing)**"
   ],
   "metadata": {
    "papermill": {
     "duration": 0.063018,
     "end_time": "2021-09-18T12:53:04.486336",
     "exception": false,
     "start_time": "2021-09-18T12:53:04.423318",
     "status": "completed"
    },
    "tags": []
   }
  },
  {
   "cell_type": "markdown",
   "source": [
    "# **Importing Required Libraries**"
   ],
   "metadata": {
    "papermill": {
     "duration": 0.063302,
     "end_time": "2021-09-18T12:53:04.612732",
     "exception": false,
     "start_time": "2021-09-18T12:53:04.549430",
     "status": "completed"
    },
    "tags": []
   }
  },
  {
   "cell_type": "code",
   "execution_count": 1,
   "source": [
    "import numpy as np\r\n",
    "import pandas as pd\r\n",
    "import matplotlib.pyplot as plt\r\n",
    "import seaborn as sns\r\n",
    "from sklearn.ensemble import ExtraTreesRegressor\r\n",
    "from sklearn.model_selection import train_test_split\r\n",
    "from sklearn.ensemble import RandomForestRegressor\r\n",
    "from sklearn.model_selection import RandomizedSearchCV\r\n",
    "from sklearn.preprocessing import StandardScaler\r\n",
    "from sklearn.metrics import mean_absolute_error, mean_squared_error,r2_score"
   ],
   "outputs": [],
   "metadata": {
    "execution": {
     "iopub.execute_input": "2021-09-18T12:53:04.819383Z",
     "iopub.status.busy": "2021-09-18T12:53:04.818713Z",
     "iopub.status.idle": "2021-09-18T12:53:05.735431Z",
     "shell.execute_reply": "2021-09-18T12:53:05.734815Z",
     "shell.execute_reply.started": "2021-09-18T12:45:41.799012Z"
    },
    "papermill": {
     "duration": 1.059838,
     "end_time": "2021-09-18T12:53:05.735579",
     "exception": false,
     "start_time": "2021-09-18T12:53:04.675741",
     "status": "completed"
    },
    "tags": []
   }
  },
  {
   "cell_type": "markdown",
   "source": [
    "# **Importing Train Data**"
   ],
   "metadata": {
    "papermill": {
     "duration": 0.062682,
     "end_time": "2021-09-18T12:53:05.861875",
     "exception": false,
     "start_time": "2021-09-18T12:53:05.799193",
     "status": "completed"
    },
    "tags": []
   }
  },
  {
   "cell_type": "code",
   "execution_count": 2,
   "source": [
    "train_data = pd.read_csv(\"Data_Train.csv\")"
   ],
   "outputs": [],
   "metadata": {
    "execution": {
     "iopub.execute_input": "2021-09-18T12:53:05.991783Z",
     "iopub.status.busy": "2021-09-18T12:53:05.991246Z",
     "iopub.status.idle": "2021-09-18T12:53:06.068032Z",
     "shell.execute_reply": "2021-09-18T12:53:06.070260Z",
     "shell.execute_reply.started": "2021-09-18T12:07:35.411135Z"
    },
    "papermill": {
     "duration": 0.14585,
     "end_time": "2021-09-18T12:53:06.070505",
     "exception": false,
     "start_time": "2021-09-18T12:53:05.924655",
     "status": "completed"
    },
    "tags": []
   }
  },
  {
   "cell_type": "code",
   "execution_count": 3,
   "source": [
    "train_data = train_data.drop(\"Unnamed: 0\", axis = 1)"
   ],
   "outputs": [],
   "metadata": {
    "execution": {
     "iopub.execute_input": "2021-09-18T12:53:06.226887Z",
     "iopub.status.busy": "2021-09-18T12:53:06.219336Z",
     "iopub.status.idle": "2021-09-18T12:53:06.238149Z",
     "shell.execute_reply": "2021-09-18T12:53:06.237048Z",
     "shell.execute_reply.started": "2021-09-18T12:07:36.580925Z"
    },
    "papermill": {
     "duration": 0.094423,
     "end_time": "2021-09-18T12:53:06.238316",
     "exception": false,
     "start_time": "2021-09-18T12:53:06.143893",
     "status": "completed"
    },
    "tags": []
   }
  },
  {
   "cell_type": "code",
   "execution_count": 4,
   "source": [
    "train_data.head()"
   ],
   "outputs": [
    {
     "output_type": "execute_result",
     "data": {
      "text/html": [
       "<div>\n",
       "<style scoped>\n",
       "    .dataframe tbody tr th:only-of-type {\n",
       "        vertical-align: middle;\n",
       "    }\n",
       "\n",
       "    .dataframe tbody tr th {\n",
       "        vertical-align: top;\n",
       "    }\n",
       "\n",
       "    .dataframe thead th {\n",
       "        text-align: right;\n",
       "    }\n",
       "</style>\n",
       "<table border=\"1\" class=\"dataframe\">\n",
       "  <thead>\n",
       "    <tr style=\"text-align: right;\">\n",
       "      <th></th>\n",
       "      <th>Airline</th>\n",
       "      <th>Date_of_Journey</th>\n",
       "      <th>Source</th>\n",
       "      <th>Destination</th>\n",
       "      <th>Route</th>\n",
       "      <th>Dep_Time</th>\n",
       "      <th>Arrival_Time</th>\n",
       "      <th>Duration</th>\n",
       "      <th>Total_Stops</th>\n",
       "      <th>Additional_Info</th>\n",
       "      <th>Price</th>\n",
       "    </tr>\n",
       "  </thead>\n",
       "  <tbody>\n",
       "    <tr>\n",
       "      <th>0</th>\n",
       "      <td>IndiGo</td>\n",
       "      <td>24/03/2019</td>\n",
       "      <td>Banglore</td>\n",
       "      <td>New Delhi</td>\n",
       "      <td>BLR → DEL</td>\n",
       "      <td>22:20</td>\n",
       "      <td>01:10 22 Mar</td>\n",
       "      <td>2h 50m</td>\n",
       "      <td>non-stop</td>\n",
       "      <td>No info</td>\n",
       "      <td>3897</td>\n",
       "    </tr>\n",
       "    <tr>\n",
       "      <th>1</th>\n",
       "      <td>Air India</td>\n",
       "      <td>1/05/2019</td>\n",
       "      <td>Kolkata</td>\n",
       "      <td>Banglore</td>\n",
       "      <td>CCU → IXR → BBI → BLR</td>\n",
       "      <td>05:50</td>\n",
       "      <td>13:15</td>\n",
       "      <td>7h 25m</td>\n",
       "      <td>2 stops</td>\n",
       "      <td>No info</td>\n",
       "      <td>7662</td>\n",
       "    </tr>\n",
       "    <tr>\n",
       "      <th>2</th>\n",
       "      <td>Jet Airways</td>\n",
       "      <td>9/06/2019</td>\n",
       "      <td>Delhi</td>\n",
       "      <td>Cochin</td>\n",
       "      <td>DEL → LKO → BOM → COK</td>\n",
       "      <td>09:25</td>\n",
       "      <td>04:25 10 Jun</td>\n",
       "      <td>19h</td>\n",
       "      <td>2 stops</td>\n",
       "      <td>No info</td>\n",
       "      <td>13882</td>\n",
       "    </tr>\n",
       "    <tr>\n",
       "      <th>3</th>\n",
       "      <td>IndiGo</td>\n",
       "      <td>12/05/2019</td>\n",
       "      <td>Kolkata</td>\n",
       "      <td>Banglore</td>\n",
       "      <td>CCU → NAG → BLR</td>\n",
       "      <td>18:05</td>\n",
       "      <td>23:30</td>\n",
       "      <td>5h 25m</td>\n",
       "      <td>1 stop</td>\n",
       "      <td>No info</td>\n",
       "      <td>6218</td>\n",
       "    </tr>\n",
       "    <tr>\n",
       "      <th>4</th>\n",
       "      <td>IndiGo</td>\n",
       "      <td>01/03/2019</td>\n",
       "      <td>Banglore</td>\n",
       "      <td>New Delhi</td>\n",
       "      <td>BLR → NAG → DEL</td>\n",
       "      <td>16:50</td>\n",
       "      <td>21:35</td>\n",
       "      <td>4h 45m</td>\n",
       "      <td>1 stop</td>\n",
       "      <td>No info</td>\n",
       "      <td>13302</td>\n",
       "    </tr>\n",
       "  </tbody>\n",
       "</table>\n",
       "</div>"
      ],
      "text/plain": [
       "       Airline Date_of_Journey    Source Destination                  Route  \\\n",
       "0       IndiGo      24/03/2019  Banglore   New Delhi              BLR → DEL   \n",
       "1    Air India       1/05/2019   Kolkata    Banglore  CCU → IXR → BBI → BLR   \n",
       "2  Jet Airways       9/06/2019     Delhi      Cochin  DEL → LKO → BOM → COK   \n",
       "3       IndiGo      12/05/2019   Kolkata    Banglore        CCU → NAG → BLR   \n",
       "4       IndiGo      01/03/2019  Banglore   New Delhi        BLR → NAG → DEL   \n",
       "\n",
       "  Dep_Time  Arrival_Time Duration Total_Stops Additional_Info  Price  \n",
       "0    22:20  01:10 22 Mar   2h 50m    non-stop         No info   3897  \n",
       "1    05:50         13:15   7h 25m     2 stops         No info   7662  \n",
       "2    09:25  04:25 10 Jun      19h     2 stops         No info  13882  \n",
       "3    18:05         23:30   5h 25m      1 stop         No info   6218  \n",
       "4    16:50         21:35   4h 45m      1 stop         No info  13302  "
      ]
     },
     "metadata": {},
     "execution_count": 4
    }
   ],
   "metadata": {
    "execution": {
     "iopub.execute_input": "2021-09-18T12:53:06.395486Z",
     "iopub.status.busy": "2021-09-18T12:53:06.394758Z",
     "iopub.status.idle": "2021-09-18T12:53:06.411443Z",
     "shell.execute_reply": "2021-09-18T12:53:06.412070Z",
     "shell.execute_reply.started": "2021-09-18T12:07:37.206500Z"
    },
    "papermill": {
     "duration": 0.087672,
     "end_time": "2021-09-18T12:53:06.412253",
     "exception": false,
     "start_time": "2021-09-18T12:53:06.324581",
     "status": "completed"
    },
    "tags": []
   }
  },
  {
   "cell_type": "code",
   "execution_count": 5,
   "source": [
    "pd.set_option('display.max_columns', None)"
   ],
   "outputs": [],
   "metadata": {
    "execution": {
     "iopub.execute_input": "2021-09-18T12:53:06.583550Z",
     "iopub.status.busy": "2021-09-18T12:53:06.582771Z",
     "iopub.status.idle": "2021-09-18T12:53:06.584694Z",
     "shell.execute_reply": "2021-09-18T12:53:06.585127Z",
     "shell.execute_reply.started": "2021-09-18T12:07:38.006196Z"
    },
    "papermill": {
     "duration": 0.069916,
     "end_time": "2021-09-18T12:53:06.585249",
     "exception": false,
     "start_time": "2021-09-18T12:53:06.515333",
     "status": "completed"
    },
    "tags": []
   }
  },
  {
   "cell_type": "code",
   "execution_count": 6,
   "source": [
    "train_data.info()"
   ],
   "outputs": [
    {
     "output_type": "stream",
     "name": "stdout",
     "text": [
      "<class 'pandas.core.frame.DataFrame'>\n",
      "RangeIndex: 10683 entries, 0 to 10682\n",
      "Data columns (total 11 columns):\n",
      " #   Column           Non-Null Count  Dtype \n",
      "---  ------           --------------  ----- \n",
      " 0   Airline          10683 non-null  object\n",
      " 1   Date_of_Journey  10683 non-null  object\n",
      " 2   Source           10683 non-null  object\n",
      " 3   Destination      10683 non-null  object\n",
      " 4   Route            10682 non-null  object\n",
      " 5   Dep_Time         10683 non-null  object\n",
      " 6   Arrival_Time     10683 non-null  object\n",
      " 7   Duration         10683 non-null  object\n",
      " 8   Total_Stops      10682 non-null  object\n",
      " 9   Additional_Info  10683 non-null  object\n",
      " 10  Price            10683 non-null  int64 \n",
      "dtypes: int64(1), object(10)\n",
      "memory usage: 918.2+ KB\n"
     ]
    }
   ],
   "metadata": {
    "execution": {
     "iopub.execute_input": "2021-09-18T12:53:06.729961Z",
     "iopub.status.busy": "2021-09-18T12:53:06.725154Z",
     "iopub.status.idle": "2021-09-18T12:53:06.740683Z",
     "shell.execute_reply": "2021-09-18T12:53:06.741209Z",
     "shell.execute_reply.started": "2021-09-18T12:07:38.949336Z"
    },
    "papermill": {
     "duration": 0.092668,
     "end_time": "2021-09-18T12:53:06.741390",
     "exception": false,
     "start_time": "2021-09-18T12:53:06.648722",
     "status": "completed"
    },
    "tags": []
   }
  },
  {
   "cell_type": "markdown",
   "source": [
    "CLEARLY, NO NULL DATA IS THERE!\n",
    "\n",
    "LETS CONFIRM THIS BELOW"
   ],
   "metadata": {
    "papermill": {
     "duration": 0.064584,
     "end_time": "2021-09-18T12:53:06.872796",
     "exception": false,
     "start_time": "2021-09-18T12:53:06.808212",
     "status": "completed"
    },
    "tags": []
   }
  },
  {
   "cell_type": "code",
   "execution_count": 7,
   "source": [
    "train_data.isnull().sum()\r\n"
   ],
   "outputs": [
    {
     "output_type": "execute_result",
     "data": {
      "text/plain": [
       "Airline            0\n",
       "Date_of_Journey    0\n",
       "Source             0\n",
       "Destination        0\n",
       "Route              1\n",
       "Dep_Time           0\n",
       "Arrival_Time       0\n",
       "Duration           0\n",
       "Total_Stops        1\n",
       "Additional_Info    0\n",
       "Price              0\n",
       "dtype: int64"
      ]
     },
     "metadata": {},
     "execution_count": 7
    }
   ],
   "metadata": {
    "execution": {
     "iopub.execute_input": "2021-09-18T12:53:07.021224Z",
     "iopub.status.busy": "2021-09-18T12:53:07.013572Z",
     "iopub.status.idle": "2021-09-18T12:53:07.032155Z",
     "shell.execute_reply": "2021-09-18T12:53:07.032703Z",
     "shell.execute_reply.started": "2021-09-18T12:07:40.482924Z"
    },
    "papermill": {
     "duration": 0.095991,
     "end_time": "2021-09-18T12:53:07.032972",
     "exception": false,
     "start_time": "2021-09-18T12:53:06.936981",
     "status": "completed"
    },
    "tags": []
   }
  },
  {
   "cell_type": "code",
   "execution_count": 8,
   "source": [
    "train_data[\"Duration\"].value_counts()"
   ],
   "outputs": [
    {
     "output_type": "execute_result",
     "data": {
      "text/plain": [
       "2h 50m     550\n",
       "1h 30m     386\n",
       "2h 55m     337\n",
       "2h 45m     337\n",
       "2h 35m     329\n",
       "          ... \n",
       "30h 25m      1\n",
       "42h 5m       1\n",
       "37h 10m      1\n",
       "29h 10m      1\n",
       "36h 25m      1\n",
       "Name: Duration, Length: 368, dtype: int64"
      ]
     },
     "metadata": {},
     "execution_count": 8
    }
   ],
   "metadata": {
    "execution": {
     "iopub.execute_input": "2021-09-18T12:53:07.175584Z",
     "iopub.status.busy": "2021-09-18T12:53:07.174815Z",
     "iopub.status.idle": "2021-09-18T12:53:07.177779Z",
     "shell.execute_reply": "2021-09-18T12:53:07.178201Z",
     "shell.execute_reply.started": "2021-09-18T12:07:41.327574Z"
    },
    "papermill": {
     "duration": 0.076868,
     "end_time": "2021-09-18T12:53:07.178334",
     "exception": false,
     "start_time": "2021-09-18T12:53:07.101466",
     "status": "completed"
    },
    "tags": []
   }
  },
  {
   "cell_type": "markdown",
   "source": [
    "# **EXPLORATORY DATA ANALYSIS**"
   ],
   "metadata": {
    "papermill": {
     "duration": 0.064314,
     "end_time": "2021-09-18T12:53:07.307905",
     "exception": false,
     "start_time": "2021-09-18T12:53:07.243591",
     "status": "completed"
    },
    "tags": []
   }
  },
  {
   "cell_type": "markdown",
   "source": [
    "We can see that ***Date_of_Journey*** is a object data type and in order to use this in our model for prediction we need to convert it into ***timestamp***!\n",
    "\n",
    "We can do this easily with the help of ***pandas.to_datetime*** method.\n",
    "\n",
    "We will add two columns here:\n",
    "1. Journey_day -> Day of Journey\n",
    "2. Journey_month -> Month of Journey"
   ],
   "metadata": {
    "papermill": {
     "duration": 0.064388,
     "end_time": "2021-09-18T12:53:07.436583",
     "exception": false,
     "start_time": "2021-09-18T12:53:07.372195",
     "status": "completed"
    },
    "tags": []
   }
  },
  {
   "cell_type": "code",
   "execution_count": 9,
   "source": [
    "train_data[\"Journey_day\"] = pd.to_datetime(train_data.Date_of_Journey, format=\"%d/%m/%Y\").dt.day"
   ],
   "outputs": [],
   "metadata": {
    "execution": {
     "iopub.execute_input": "2021-09-18T12:53:07.570997Z",
     "iopub.status.busy": "2021-09-18T12:53:07.570244Z",
     "iopub.status.idle": "2021-09-18T12:53:07.579957Z",
     "shell.execute_reply": "2021-09-18T12:53:07.579441Z",
     "shell.execute_reply.started": "2021-09-18T12:07:43.547898Z"
    },
    "papermill": {
     "duration": 0.079208,
     "end_time": "2021-09-18T12:53:07.580062",
     "exception": false,
     "start_time": "2021-09-18T12:53:07.500854",
     "status": "completed"
    },
    "tags": []
   }
  },
  {
   "cell_type": "code",
   "execution_count": 10,
   "source": [
    "train_data[\"Journey_month\"] = pd.to_datetime(train_data[\"Date_of_Journey\"], format = \"%d/%m/%Y\").dt.month"
   ],
   "outputs": [],
   "metadata": {
    "execution": {
     "iopub.execute_input": "2021-09-18T12:53:07.711469Z",
     "iopub.status.busy": "2021-09-18T12:53:07.710658Z",
     "iopub.status.idle": "2021-09-18T12:53:07.719812Z",
     "shell.execute_reply": "2021-09-18T12:53:07.719386Z",
     "shell.execute_reply.started": "2021-09-18T12:07:44.133403Z"
    },
    "papermill": {
     "duration": 0.076008,
     "end_time": "2021-09-18T12:53:07.719912",
     "exception": false,
     "start_time": "2021-09-18T12:53:07.643904",
     "status": "completed"
    },
    "tags": []
   }
  },
  {
   "cell_type": "code",
   "execution_count": 11,
   "source": [
    "train_data[\"Journey_Year\"] = pd.to_datetime(train_data[\"Date_of_Journey\"], format = \"%d/%m/%Y\").dt.year"
   ],
   "outputs": [],
   "metadata": {
    "execution": {
     "iopub.execute_input": "2021-09-18T12:53:07.852260Z",
     "iopub.status.busy": "2021-09-18T12:53:07.851785Z",
     "iopub.status.idle": "2021-09-18T12:53:07.858661Z",
     "shell.execute_reply": "2021-09-18T12:53:07.859108Z",
     "shell.execute_reply.started": "2021-09-18T12:07:44.660841Z"
    },
    "papermill": {
     "duration": 0.075382,
     "end_time": "2021-09-18T12:53:07.859223",
     "exception": false,
     "start_time": "2021-09-18T12:53:07.783841",
     "status": "completed"
    },
    "tags": []
   }
  },
  {
   "cell_type": "code",
   "execution_count": 12,
   "source": [
    "# Checking if there are multiple Journey years.\r\n",
    "train_data[\"Journey_Year\"].value_counts()"
   ],
   "outputs": [
    {
     "output_type": "execute_result",
     "data": {
      "text/plain": [
       "2019    10683\n",
       "Name: Journey_Year, dtype: int64"
      ]
     },
     "metadata": {},
     "execution_count": 12
    }
   ],
   "metadata": {
    "execution": {
     "iopub.execute_input": "2021-09-18T12:53:07.994669Z",
     "iopub.status.busy": "2021-09-18T12:53:07.992188Z",
     "iopub.status.idle": "2021-09-18T12:53:07.996843Z",
     "shell.execute_reply": "2021-09-18T12:53:07.997233Z",
     "shell.execute_reply.started": "2021-09-18T12:07:45.169886Z"
    },
    "papermill": {
     "duration": 0.073231,
     "end_time": "2021-09-18T12:53:07.997350",
     "exception": false,
     "start_time": "2021-09-18T12:53:07.924119",
     "status": "completed"
    },
    "tags": []
   }
  },
  {
   "cell_type": "code",
   "execution_count": 13,
   "source": [
    "# Since its only one year, i.e. 2019, we can drop this column and also we can now drop the parent column, i.e. **Date_of_Journey**.\r\n",
    "train_data.drop(['Date_of_Journey','Journey_Year' ], axis = 1, inplace = True)"
   ],
   "outputs": [],
   "metadata": {
    "execution": {
     "iopub.execute_input": "2021-09-18T12:53:08.192313Z",
     "iopub.status.busy": "2021-09-18T12:53:08.191508Z",
     "iopub.status.idle": "2021-09-18T12:53:08.201309Z",
     "shell.execute_reply": "2021-09-18T12:53:08.201963Z",
     "shell.execute_reply.started": "2021-09-18T12:07:45.650066Z"
    },
    "papermill": {
     "duration": 0.124918,
     "end_time": "2021-09-18T12:53:08.202156",
     "exception": false,
     "start_time": "2021-09-18T12:53:08.077238",
     "status": "completed"
    },
    "tags": []
   }
  },
  {
   "cell_type": "markdown",
   "source": [
    "Now, we need to perform the same steps for **Dep_Time**, **Arrival_Time** to extract values we need for our model."
   ],
   "metadata": {
    "papermill": {
     "duration": 0.105958,
     "end_time": "2021-09-18T12:53:08.421999",
     "exception": false,
     "start_time": "2021-09-18T12:53:08.316041",
     "status": "completed"
    },
    "tags": []
   }
  },
  {
   "cell_type": "code",
   "execution_count": 14,
   "source": [
    "#For Dep_time column.\r\n",
    "# Extracting Hours.\r\n",
    "train_data[\"Dep_hour\"] = pd.to_datetime(train_data[\"Dep_Time\"]).dt.hour\r\n",
    "\r\n",
    "# Extracting Minutes.\r\n",
    "train_data[\"Dep_min\"] = pd.to_datetime(train_data[\"Dep_Time\"]).dt.minute\r\n",
    "\r\n",
    "# Now we can drop Dep_Time as it is of no use to our model.\r\n",
    "train_data.drop([\"Dep_Time\"], axis = 1, inplace = True)"
   ],
   "outputs": [],
   "metadata": {
    "execution": {
     "iopub.execute_input": "2021-09-18T12:53:08.631911Z",
     "iopub.status.busy": "2021-09-18T12:53:08.631119Z",
     "iopub.status.idle": "2021-09-18T12:53:08.659588Z",
     "shell.execute_reply": "2021-09-18T12:53:08.659178Z",
     "shell.execute_reply.started": "2021-09-18T12:07:46.474733Z"
    },
    "papermill": {
     "duration": 0.129043,
     "end_time": "2021-09-18T12:53:08.659699",
     "exception": false,
     "start_time": "2021-09-18T12:53:08.530656",
     "status": "completed"
    },
    "tags": []
   }
  },
  {
   "cell_type": "code",
   "execution_count": 15,
   "source": [
    "#For Arrival time column.\r\n",
    "# Extracting Hours\r\n",
    "train_data[\"Arrival_hour\"] = pd.to_datetime(train_data.Arrival_Time).dt.hour\r\n",
    "\r\n",
    "# Extracting Minutes\r\n",
    "train_data[\"Arrival_min\"] = pd.to_datetime(train_data.Arrival_Time).dt.minute\r\n",
    "\r\n",
    "# Now we can drop Arrival_Time as it is of no use to our model\r\n",
    "train_data.drop([\"Arrival_Time\"], axis = 1, inplace = True)"
   ],
   "outputs": [],
   "metadata": {
    "execution": {
     "iopub.execute_input": "2021-09-18T12:53:08.796307Z",
     "iopub.status.busy": "2021-09-18T12:53:08.795557Z",
     "iopub.status.idle": "2021-09-18T12:53:08.969475Z",
     "shell.execute_reply": "2021-09-18T12:53:08.969031Z",
     "shell.execute_reply.started": "2021-09-18T12:07:46.939954Z"
    },
    "papermill": {
     "duration": 0.244161,
     "end_time": "2021-09-18T12:53:08.969604",
     "exception": false,
     "start_time": "2021-09-18T12:53:08.725443",
     "status": "completed"
    },
    "tags": []
   }
  },
  {
   "cell_type": "markdown",
   "source": [
    "For the **Duration_time** column,  we can create two lists, *Hours* and *Minutes* and then add them to our dataframe!"
   ],
   "metadata": {
    "papermill": {
     "duration": 0.064568,
     "end_time": "2021-09-18T12:53:09.098738",
     "exception": false,
     "start_time": "2021-09-18T12:53:09.034170",
     "status": "completed"
    },
    "tags": []
   }
  },
  {
   "cell_type": "code",
   "execution_count": 16,
   "source": [
    "duration = list(train_data[\"Duration\"])\r\n",
    "\r\n",
    "for i in range(len(duration)):\r\n",
    "    if len(duration[i].split()) != 2:    # Check if duration contains only hour or mins\r\n",
    "        if \"h\" in duration[i]:\r\n",
    "            duration[i] = duration[i].strip() + \" 0m\"   # Adds 0 minute\r\n",
    "        else:\r\n",
    "            duration[i] = \"0h \" + duration[i]           # Adds 0 hour\r\n",
    "\r\n",
    "duration_hours = []\r\n",
    "duration_mins = []\r\n",
    "for i in range(len(duration)):\r\n",
    "    duration_hours.append(int(duration[i].split(sep = \"h\")[0]))    # Extract hours from duration\r\n",
    "    duration_mins.append(int(duration[i].split(sep = \"m\")[0].split()[-1]))"
   ],
   "outputs": [],
   "metadata": {
    "execution": {
     "iopub.execute_input": "2021-09-18T12:53:09.254840Z",
     "iopub.status.busy": "2021-09-18T12:53:09.244316Z",
     "iopub.status.idle": "2021-09-18T12:53:09.258606Z",
     "shell.execute_reply": "2021-09-18T12:53:09.258181Z",
     "shell.execute_reply.started": "2021-09-18T12:07:47.958125Z"
    },
    "papermill": {
     "duration": 0.095552,
     "end_time": "2021-09-18T12:53:09.258714",
     "exception": false,
     "start_time": "2021-09-18T12:53:09.163162",
     "status": "completed"
    },
    "tags": []
   }
  },
  {
   "cell_type": "code",
   "execution_count": 17,
   "source": [
    "# Adding duration_hours and duration_mins list to train_data dataframe\r\n",
    "\r\n",
    "train_data[\"Duration_hours\"] = duration_hours\r\n",
    "train_data[\"Duration_mins\"] = duration_mins"
   ],
   "outputs": [],
   "metadata": {
    "execution": {
     "iopub.execute_input": "2021-09-18T12:53:09.401871Z",
     "iopub.status.busy": "2021-09-18T12:53:09.400386Z",
     "iopub.status.idle": "2021-09-18T12:53:09.402577Z",
     "shell.execute_reply": "2021-09-18T12:53:09.402961Z",
     "shell.execute_reply.started": "2021-09-18T12:07:48.552304Z"
    },
    "papermill": {
     "duration": 0.080004,
     "end_time": "2021-09-18T12:53:09.403077",
     "exception": false,
     "start_time": "2021-09-18T12:53:09.323073",
     "status": "completed"
    },
    "tags": []
   }
  },
  {
   "cell_type": "code",
   "execution_count": 18,
   "source": [
    "# Now we can remove the Duration column.\r\n",
    "train_data.drop([\"Duration\"], axis = 1, inplace = True)"
   ],
   "outputs": [],
   "metadata": {
    "execution": {
     "iopub.execute_input": "2021-09-18T12:53:09.538428Z",
     "iopub.status.busy": "2021-09-18T12:53:09.537877Z",
     "iopub.status.idle": "2021-09-18T12:53:09.542946Z",
     "shell.execute_reply": "2021-09-18T12:53:09.542510Z",
     "shell.execute_reply.started": "2021-09-18T12:07:49.059495Z"
    },
    "papermill": {
     "duration": 0.073936,
     "end_time": "2021-09-18T12:53:09.543049",
     "exception": false,
     "start_time": "2021-09-18T12:53:09.469113",
     "status": "completed"
    },
    "tags": []
   }
  },
  {
   "cell_type": "markdown",
   "source": [
    "# **Handling Categorical Data**\n",
    "Now that we have handled the time and data data, we can shift our focus to preprocessing the categorical data in our dataframe in order to make it fit for training our model\n",
    "\n",
    "We can do this easily with the help of ***OneHotEncoder*** and ***LabelEncoder***\n",
    "\n",
    "We will perform our operations on various columns by creating new dataframes and in the end we will concatenate all the dataframes!"
   ],
   "metadata": {
    "papermill": {
     "duration": 0.064416,
     "end_time": "2021-09-18T12:53:09.672181",
     "exception": false,
     "start_time": "2021-09-18T12:53:09.607765",
     "status": "completed"
    },
    "tags": []
   }
  },
  {
   "cell_type": "code",
   "execution_count": 19,
   "source": [
    "train_data[\"Airline\"].value_counts()"
   ],
   "outputs": [
    {
     "output_type": "execute_result",
     "data": {
      "text/plain": [
       "Jet Airways                          3849\n",
       "IndiGo                               2053\n",
       "Air India                            1752\n",
       "Multiple carriers                    1196\n",
       "SpiceJet                              818\n",
       "Vistara                               479\n",
       "Air Asia                              319\n",
       "GoAir                                 194\n",
       "Multiple carriers Premium economy      13\n",
       "Jet Airways Business                    6\n",
       "Vistara Premium economy                 3\n",
       "Trujet                                  1\n",
       "Name: Airline, dtype: int64"
      ]
     },
     "metadata": {},
     "execution_count": 19
    }
   ],
   "metadata": {
    "execution": {
     "iopub.execute_input": "2021-09-18T12:53:09.809683Z",
     "iopub.status.busy": "2021-09-18T12:53:09.809030Z",
     "iopub.status.idle": "2021-09-18T12:53:09.812888Z",
     "shell.execute_reply": "2021-09-18T12:53:09.813246Z",
     "shell.execute_reply.started": "2021-09-18T12:07:50.020926Z"
    },
    "papermill": {
     "duration": 0.076403,
     "end_time": "2021-09-18T12:53:09.813384",
     "exception": false,
     "start_time": "2021-09-18T12:53:09.736981",
     "status": "completed"
    },
    "tags": []
   }
  },
  {
   "cell_type": "code",
   "execution_count": 20,
   "source": [
    "Airline = train_data[[\"Airline\"]]\r\n",
    "Airline = pd.get_dummies(Airline, drop_first= True)\r\n",
    "Airline.head()"
   ],
   "outputs": [
    {
     "output_type": "execute_result",
     "data": {
      "text/html": [
       "<div>\n",
       "<style scoped>\n",
       "    .dataframe tbody tr th:only-of-type {\n",
       "        vertical-align: middle;\n",
       "    }\n",
       "\n",
       "    .dataframe tbody tr th {\n",
       "        vertical-align: top;\n",
       "    }\n",
       "\n",
       "    .dataframe thead th {\n",
       "        text-align: right;\n",
       "    }\n",
       "</style>\n",
       "<table border=\"1\" class=\"dataframe\">\n",
       "  <thead>\n",
       "    <tr style=\"text-align: right;\">\n",
       "      <th></th>\n",
       "      <th>Airline_Air India</th>\n",
       "      <th>Airline_GoAir</th>\n",
       "      <th>Airline_IndiGo</th>\n",
       "      <th>Airline_Jet Airways</th>\n",
       "      <th>Airline_Jet Airways Business</th>\n",
       "      <th>Airline_Multiple carriers</th>\n",
       "      <th>Airline_Multiple carriers Premium economy</th>\n",
       "      <th>Airline_SpiceJet</th>\n",
       "      <th>Airline_Trujet</th>\n",
       "      <th>Airline_Vistara</th>\n",
       "      <th>Airline_Vistara Premium economy</th>\n",
       "    </tr>\n",
       "  </thead>\n",
       "  <tbody>\n",
       "    <tr>\n",
       "      <th>0</th>\n",
       "      <td>0</td>\n",
       "      <td>0</td>\n",
       "      <td>1</td>\n",
       "      <td>0</td>\n",
       "      <td>0</td>\n",
       "      <td>0</td>\n",
       "      <td>0</td>\n",
       "      <td>0</td>\n",
       "      <td>0</td>\n",
       "      <td>0</td>\n",
       "      <td>0</td>\n",
       "    </tr>\n",
       "    <tr>\n",
       "      <th>1</th>\n",
       "      <td>1</td>\n",
       "      <td>0</td>\n",
       "      <td>0</td>\n",
       "      <td>0</td>\n",
       "      <td>0</td>\n",
       "      <td>0</td>\n",
       "      <td>0</td>\n",
       "      <td>0</td>\n",
       "      <td>0</td>\n",
       "      <td>0</td>\n",
       "      <td>0</td>\n",
       "    </tr>\n",
       "    <tr>\n",
       "      <th>2</th>\n",
       "      <td>0</td>\n",
       "      <td>0</td>\n",
       "      <td>0</td>\n",
       "      <td>1</td>\n",
       "      <td>0</td>\n",
       "      <td>0</td>\n",
       "      <td>0</td>\n",
       "      <td>0</td>\n",
       "      <td>0</td>\n",
       "      <td>0</td>\n",
       "      <td>0</td>\n",
       "    </tr>\n",
       "    <tr>\n",
       "      <th>3</th>\n",
       "      <td>0</td>\n",
       "      <td>0</td>\n",
       "      <td>1</td>\n",
       "      <td>0</td>\n",
       "      <td>0</td>\n",
       "      <td>0</td>\n",
       "      <td>0</td>\n",
       "      <td>0</td>\n",
       "      <td>0</td>\n",
       "      <td>0</td>\n",
       "      <td>0</td>\n",
       "    </tr>\n",
       "    <tr>\n",
       "      <th>4</th>\n",
       "      <td>0</td>\n",
       "      <td>0</td>\n",
       "      <td>1</td>\n",
       "      <td>0</td>\n",
       "      <td>0</td>\n",
       "      <td>0</td>\n",
       "      <td>0</td>\n",
       "      <td>0</td>\n",
       "      <td>0</td>\n",
       "      <td>0</td>\n",
       "      <td>0</td>\n",
       "    </tr>\n",
       "  </tbody>\n",
       "</table>\n",
       "</div>"
      ],
      "text/plain": [
       "   Airline_Air India  Airline_GoAir  Airline_IndiGo  Airline_Jet Airways  \\\n",
       "0                  0              0               1                    0   \n",
       "1                  1              0               0                    0   \n",
       "2                  0              0               0                    1   \n",
       "3                  0              0               1                    0   \n",
       "4                  0              0               1                    0   \n",
       "\n",
       "   Airline_Jet Airways Business  Airline_Multiple carriers  \\\n",
       "0                             0                          0   \n",
       "1                             0                          0   \n",
       "2                             0                          0   \n",
       "3                             0                          0   \n",
       "4                             0                          0   \n",
       "\n",
       "   Airline_Multiple carriers Premium economy  Airline_SpiceJet  \\\n",
       "0                                          0                 0   \n",
       "1                                          0                 0   \n",
       "2                                          0                 0   \n",
       "3                                          0                 0   \n",
       "4                                          0                 0   \n",
       "\n",
       "   Airline_Trujet  Airline_Vistara  Airline_Vistara Premium economy  \n",
       "0               0                0                                0  \n",
       "1               0                0                                0  \n",
       "2               0                0                                0  \n",
       "3               0                0                                0  \n",
       "4               0                0                                0  "
      ]
     },
     "metadata": {},
     "execution_count": 20
    }
   ],
   "metadata": {
    "execution": {
     "iopub.execute_input": "2021-09-18T12:53:09.947972Z",
     "iopub.status.busy": "2021-09-18T12:53:09.947176Z",
     "iopub.status.idle": "2021-09-18T12:53:09.962540Z",
     "shell.execute_reply": "2021-09-18T12:53:09.962018Z",
     "shell.execute_reply.started": "2021-09-18T12:07:50.513609Z"
    },
    "papermill": {
     "duration": 0.085001,
     "end_time": "2021-09-18T12:53:09.962646",
     "exception": false,
     "start_time": "2021-09-18T12:53:09.877645",
     "status": "completed"
    },
    "tags": []
   }
  },
  {
   "cell_type": "code",
   "execution_count": 21,
   "source": [
    "train_data[\"Source\"].value_counts()"
   ],
   "outputs": [
    {
     "output_type": "execute_result",
     "data": {
      "text/plain": [
       "Delhi       4537\n",
       "Kolkata     2871\n",
       "Banglore    2197\n",
       "Mumbai       697\n",
       "Chennai      381\n",
       "Name: Source, dtype: int64"
      ]
     },
     "metadata": {},
     "execution_count": 21
    }
   ],
   "metadata": {
    "execution": {
     "iopub.execute_input": "2021-09-18T12:53:10.102100Z",
     "iopub.status.busy": "2021-09-18T12:53:10.101459Z",
     "iopub.status.idle": "2021-09-18T12:53:10.104452Z",
     "shell.execute_reply": "2021-09-18T12:53:10.104844Z",
     "shell.execute_reply.started": "2021-09-18T12:07:51.020065Z"
    },
    "papermill": {
     "duration": 0.077218,
     "end_time": "2021-09-18T12:53:10.104963",
     "exception": false,
     "start_time": "2021-09-18T12:53:10.027745",
     "status": "completed"
    },
    "tags": []
   }
  },
  {
   "cell_type": "code",
   "execution_count": 22,
   "source": [
    "Source = train_data[[\"Source\"]]\r\n",
    "Source = pd.get_dummies(Source, drop_first= True)\r\n",
    "Source.head()"
   ],
   "outputs": [
    {
     "output_type": "execute_result",
     "data": {
      "text/html": [
       "<div>\n",
       "<style scoped>\n",
       "    .dataframe tbody tr th:only-of-type {\n",
       "        vertical-align: middle;\n",
       "    }\n",
       "\n",
       "    .dataframe tbody tr th {\n",
       "        vertical-align: top;\n",
       "    }\n",
       "\n",
       "    .dataframe thead th {\n",
       "        text-align: right;\n",
       "    }\n",
       "</style>\n",
       "<table border=\"1\" class=\"dataframe\">\n",
       "  <thead>\n",
       "    <tr style=\"text-align: right;\">\n",
       "      <th></th>\n",
       "      <th>Source_Chennai</th>\n",
       "      <th>Source_Delhi</th>\n",
       "      <th>Source_Kolkata</th>\n",
       "      <th>Source_Mumbai</th>\n",
       "    </tr>\n",
       "  </thead>\n",
       "  <tbody>\n",
       "    <tr>\n",
       "      <th>0</th>\n",
       "      <td>0</td>\n",
       "      <td>0</td>\n",
       "      <td>0</td>\n",
       "      <td>0</td>\n",
       "    </tr>\n",
       "    <tr>\n",
       "      <th>1</th>\n",
       "      <td>0</td>\n",
       "      <td>0</td>\n",
       "      <td>1</td>\n",
       "      <td>0</td>\n",
       "    </tr>\n",
       "    <tr>\n",
       "      <th>2</th>\n",
       "      <td>0</td>\n",
       "      <td>1</td>\n",
       "      <td>0</td>\n",
       "      <td>0</td>\n",
       "    </tr>\n",
       "    <tr>\n",
       "      <th>3</th>\n",
       "      <td>0</td>\n",
       "      <td>0</td>\n",
       "      <td>1</td>\n",
       "      <td>0</td>\n",
       "    </tr>\n",
       "    <tr>\n",
       "      <th>4</th>\n",
       "      <td>0</td>\n",
       "      <td>0</td>\n",
       "      <td>0</td>\n",
       "      <td>0</td>\n",
       "    </tr>\n",
       "  </tbody>\n",
       "</table>\n",
       "</div>"
      ],
      "text/plain": [
       "   Source_Chennai  Source_Delhi  Source_Kolkata  Source_Mumbai\n",
       "0               0             0               0              0\n",
       "1               0             0               1              0\n",
       "2               0             1               0              0\n",
       "3               0             0               1              0\n",
       "4               0             0               0              0"
      ]
     },
     "metadata": {},
     "execution_count": 22
    }
   ],
   "metadata": {
    "execution": {
     "iopub.execute_input": "2021-09-18T12:53:10.281675Z",
     "iopub.status.busy": "2021-09-18T12:53:10.280402Z",
     "iopub.status.idle": "2021-09-18T12:53:10.290508Z",
     "shell.execute_reply": "2021-09-18T12:53:10.291193Z",
     "shell.execute_reply.started": "2021-09-18T12:07:51.554265Z"
    },
    "papermill": {
     "duration": 0.083241,
     "end_time": "2021-09-18T12:53:10.291330",
     "exception": false,
     "start_time": "2021-09-18T12:53:10.208089",
     "status": "completed"
    },
    "tags": []
   }
  },
  {
   "cell_type": "code",
   "execution_count": 23,
   "source": [
    "train_data[\"Destination\"].value_counts()"
   ],
   "outputs": [
    {
     "output_type": "execute_result",
     "data": {
      "text/plain": [
       "Cochin       4537\n",
       "Banglore     2871\n",
       "Delhi        1265\n",
       "New Delhi     932\n",
       "Hyderabad     697\n",
       "Kolkata       381\n",
       "Name: Destination, dtype: int64"
      ]
     },
     "metadata": {},
     "execution_count": 23
    }
   ],
   "metadata": {
    "execution": {
     "iopub.execute_input": "2021-09-18T12:53:10.430787Z",
     "iopub.status.busy": "2021-09-18T12:53:10.430120Z",
     "iopub.status.idle": "2021-09-18T12:53:10.432813Z",
     "shell.execute_reply": "2021-09-18T12:53:10.433200Z",
     "shell.execute_reply.started": "2021-09-18T12:07:52.180962Z"
    },
    "papermill": {
     "duration": 0.076092,
     "end_time": "2021-09-18T12:53:10.433327",
     "exception": false,
     "start_time": "2021-09-18T12:53:10.357235",
     "status": "completed"
    },
    "tags": []
   }
  },
  {
   "cell_type": "code",
   "execution_count": 24,
   "source": [
    "Destination = train_data[[\"Destination\"]]\r\n",
    "Destination = pd.get_dummies(Destination, drop_first = True)\r\n",
    "Destination.head()"
   ],
   "outputs": [
    {
     "output_type": "execute_result",
     "data": {
      "text/html": [
       "<div>\n",
       "<style scoped>\n",
       "    .dataframe tbody tr th:only-of-type {\n",
       "        vertical-align: middle;\n",
       "    }\n",
       "\n",
       "    .dataframe tbody tr th {\n",
       "        vertical-align: top;\n",
       "    }\n",
       "\n",
       "    .dataframe thead th {\n",
       "        text-align: right;\n",
       "    }\n",
       "</style>\n",
       "<table border=\"1\" class=\"dataframe\">\n",
       "  <thead>\n",
       "    <tr style=\"text-align: right;\">\n",
       "      <th></th>\n",
       "      <th>Destination_Cochin</th>\n",
       "      <th>Destination_Delhi</th>\n",
       "      <th>Destination_Hyderabad</th>\n",
       "      <th>Destination_Kolkata</th>\n",
       "      <th>Destination_New Delhi</th>\n",
       "    </tr>\n",
       "  </thead>\n",
       "  <tbody>\n",
       "    <tr>\n",
       "      <th>0</th>\n",
       "      <td>0</td>\n",
       "      <td>0</td>\n",
       "      <td>0</td>\n",
       "      <td>0</td>\n",
       "      <td>1</td>\n",
       "    </tr>\n",
       "    <tr>\n",
       "      <th>1</th>\n",
       "      <td>0</td>\n",
       "      <td>0</td>\n",
       "      <td>0</td>\n",
       "      <td>0</td>\n",
       "      <td>0</td>\n",
       "    </tr>\n",
       "    <tr>\n",
       "      <th>2</th>\n",
       "      <td>1</td>\n",
       "      <td>0</td>\n",
       "      <td>0</td>\n",
       "      <td>0</td>\n",
       "      <td>0</td>\n",
       "    </tr>\n",
       "    <tr>\n",
       "      <th>3</th>\n",
       "      <td>0</td>\n",
       "      <td>0</td>\n",
       "      <td>0</td>\n",
       "      <td>0</td>\n",
       "      <td>0</td>\n",
       "    </tr>\n",
       "    <tr>\n",
       "      <th>4</th>\n",
       "      <td>0</td>\n",
       "      <td>0</td>\n",
       "      <td>0</td>\n",
       "      <td>0</td>\n",
       "      <td>1</td>\n",
       "    </tr>\n",
       "  </tbody>\n",
       "</table>\n",
       "</div>"
      ],
      "text/plain": [
       "   Destination_Cochin  Destination_Delhi  Destination_Hyderabad  \\\n",
       "0                   0                  0                      0   \n",
       "1                   0                  0                      0   \n",
       "2                   1                  0                      0   \n",
       "3                   0                  0                      0   \n",
       "4                   0                  0                      0   \n",
       "\n",
       "   Destination_Kolkata  Destination_New Delhi  \n",
       "0                    0                      1  \n",
       "1                    0                      0  \n",
       "2                    0                      0  \n",
       "3                    0                      0  \n",
       "4                    0                      1  "
      ]
     },
     "metadata": {},
     "execution_count": 24
    }
   ],
   "metadata": {
    "execution": {
     "iopub.execute_input": "2021-09-18T12:53:10.575207Z",
     "iopub.status.busy": "2021-09-18T12:53:10.574216Z",
     "iopub.status.idle": "2021-09-18T12:53:10.585899Z",
     "shell.execute_reply": "2021-09-18T12:53:10.586379Z",
     "shell.execute_reply.started": "2021-09-18T12:07:52.661387Z"
    },
    "papermill": {
     "duration": 0.082003,
     "end_time": "2021-09-18T12:53:10.586500",
     "exception": false,
     "start_time": "2021-09-18T12:53:10.504497",
     "status": "completed"
    },
    "tags": []
   }
  },
  {
   "cell_type": "code",
   "execution_count": 25,
   "source": [
    "train_data[\"Route\"]"
   ],
   "outputs": [
    {
     "output_type": "execute_result",
     "data": {
      "text/plain": [
       "0                    BLR → DEL\n",
       "1        CCU → IXR → BBI → BLR\n",
       "2        DEL → LKO → BOM → COK\n",
       "3              CCU → NAG → BLR\n",
       "4              BLR → NAG → DEL\n",
       "                 ...          \n",
       "10678                CCU → BLR\n",
       "10679                CCU → BLR\n",
       "10680                BLR → DEL\n",
       "10681                BLR → DEL\n",
       "10682    DEL → GOI → BOM → COK\n",
       "Name: Route, Length: 10683, dtype: object"
      ]
     },
     "metadata": {},
     "execution_count": 25
    }
   ],
   "metadata": {
    "execution": {
     "iopub.execute_input": "2021-09-18T12:53:10.725969Z",
     "iopub.status.busy": "2021-09-18T12:53:10.725303Z",
     "iopub.status.idle": "2021-09-18T12:53:10.727984Z",
     "shell.execute_reply": "2021-09-18T12:53:10.728664Z",
     "shell.execute_reply.started": "2021-09-18T12:07:53.142458Z"
    },
    "papermill": {
     "duration": 0.075783,
     "end_time": "2021-09-18T12:53:10.728849",
     "exception": false,
     "start_time": "2021-09-18T12:53:10.653066",
     "status": "completed"
    },
    "tags": []
   }
  },
  {
   "cell_type": "code",
   "execution_count": 26,
   "source": [
    "train_data['Additional_Info'].value_counts()"
   ],
   "outputs": [
    {
     "output_type": "execute_result",
     "data": {
      "text/plain": [
       "No info                         8345\n",
       "In-flight meal not included     1982\n",
       "No check-in baggage included     320\n",
       "1 Long layover                    19\n",
       "Change airports                    7\n",
       "Business class                     4\n",
       "No Info                            3\n",
       "Red-eye flight                     1\n",
       "1 Short layover                    1\n",
       "2 Long layover                     1\n",
       "Name: Additional_Info, dtype: int64"
      ]
     },
     "metadata": {},
     "execution_count": 26
    }
   ],
   "metadata": {
    "execution": {
     "iopub.execute_input": "2021-09-18T12:53:10.870833Z",
     "iopub.status.busy": "2021-09-18T12:53:10.870204Z",
     "iopub.status.idle": "2021-09-18T12:53:10.872760Z",
     "shell.execute_reply": "2021-09-18T12:53:10.873149Z",
     "shell.execute_reply.started": "2021-09-18T12:07:54.351003Z"
    },
    "papermill": {
     "duration": 0.0771,
     "end_time": "2021-09-18T12:53:10.873263",
     "exception": false,
     "start_time": "2021-09-18T12:53:10.796163",
     "status": "completed"
    },
    "tags": []
   }
  },
  {
   "cell_type": "markdown",
   "source": [
    "Now we can see that **Route** and **Total_Stops** are related to each other,  we can drop route.\n",
    "Also,  **Additional_Info** contains mostly *'no info'*, so we can drop it too."
   ],
   "metadata": {
    "papermill": {
     "duration": 0.067301,
     "end_time": "2021-09-18T12:53:11.007524",
     "exception": false,
     "start_time": "2021-09-18T12:53:10.940223",
     "status": "completed"
    },
    "tags": []
   }
  },
  {
   "cell_type": "code",
   "execution_count": 27,
   "source": [
    "train_data.drop([\"Route\", \"Additional_Info\"], axis = 1, inplace = True)"
   ],
   "outputs": [],
   "metadata": {
    "execution": {
     "iopub.execute_input": "2021-09-18T12:53:11.149553Z",
     "iopub.status.busy": "2021-09-18T12:53:11.148051Z",
     "iopub.status.idle": "2021-09-18T12:53:11.150171Z",
     "shell.execute_reply": "2021-09-18T12:53:11.150592Z",
     "shell.execute_reply.started": "2021-09-18T12:07:55.987411Z"
    },
    "papermill": {
     "duration": 0.075535,
     "end_time": "2021-09-18T12:53:11.150714",
     "exception": false,
     "start_time": "2021-09-18T12:53:11.075179",
     "status": "completed"
    },
    "tags": []
   }
  },
  {
   "cell_type": "code",
   "execution_count": 28,
   "source": [
    "train_data.replace({\"non-stop\": 0, \"1 stop\": 1, \"2 stops\": 2, \"3 stops\": 3, \"4 stops\": 4}, inplace = True)"
   ],
   "outputs": [],
   "metadata": {
    "execution": {
     "iopub.execute_input": "2021-09-18T12:53:11.288675Z",
     "iopub.status.busy": "2021-09-18T12:53:11.287914Z",
     "iopub.status.idle": "2021-09-18T12:53:11.309957Z",
     "shell.execute_reply": "2021-09-18T12:53:11.309571Z",
     "shell.execute_reply.started": "2021-09-18T12:07:56.587410Z"
    },
    "papermill": {
     "duration": 0.092008,
     "end_time": "2021-09-18T12:53:11.310060",
     "exception": false,
     "start_time": "2021-09-18T12:53:11.218052",
     "status": "completed"
    },
    "tags": []
   }
  },
  {
   "cell_type": "code",
   "execution_count": 29,
   "source": [
    "# Concatenate dataframe --> train_data + Airline + Source + Destination\r\n",
    "final_data = pd.concat([train_data, Airline, Source, Destination], axis = 1)"
   ],
   "outputs": [],
   "metadata": {
    "execution": {
     "iopub.execute_input": "2021-09-18T12:53:11.449931Z",
     "iopub.status.busy": "2021-09-18T12:53:11.449385Z",
     "iopub.status.idle": "2021-09-18T12:53:11.451748Z",
     "shell.execute_reply": "2021-09-18T12:53:11.452208Z",
     "shell.execute_reply.started": "2021-09-18T12:07:57.278772Z"
    },
    "papermill": {
     "duration": 0.074573,
     "end_time": "2021-09-18T12:53:11.452333",
     "exception": false,
     "start_time": "2021-09-18T12:53:11.377760",
     "status": "completed"
    },
    "tags": []
   }
  },
  {
   "cell_type": "code",
   "execution_count": 30,
   "source": [
    "final_data.head()"
   ],
   "outputs": [
    {
     "output_type": "execute_result",
     "data": {
      "text/html": [
       "<div>\n",
       "<style scoped>\n",
       "    .dataframe tbody tr th:only-of-type {\n",
       "        vertical-align: middle;\n",
       "    }\n",
       "\n",
       "    .dataframe tbody tr th {\n",
       "        vertical-align: top;\n",
       "    }\n",
       "\n",
       "    .dataframe thead th {\n",
       "        text-align: right;\n",
       "    }\n",
       "</style>\n",
       "<table border=\"1\" class=\"dataframe\">\n",
       "  <thead>\n",
       "    <tr style=\"text-align: right;\">\n",
       "      <th></th>\n",
       "      <th>Airline</th>\n",
       "      <th>Source</th>\n",
       "      <th>Destination</th>\n",
       "      <th>Total_Stops</th>\n",
       "      <th>Price</th>\n",
       "      <th>Journey_day</th>\n",
       "      <th>Journey_month</th>\n",
       "      <th>Dep_hour</th>\n",
       "      <th>Dep_min</th>\n",
       "      <th>Arrival_hour</th>\n",
       "      <th>Arrival_min</th>\n",
       "      <th>Duration_hours</th>\n",
       "      <th>Duration_mins</th>\n",
       "      <th>Airline_Air India</th>\n",
       "      <th>Airline_GoAir</th>\n",
       "      <th>Airline_IndiGo</th>\n",
       "      <th>Airline_Jet Airways</th>\n",
       "      <th>Airline_Jet Airways Business</th>\n",
       "      <th>Airline_Multiple carriers</th>\n",
       "      <th>Airline_Multiple carriers Premium economy</th>\n",
       "      <th>Airline_SpiceJet</th>\n",
       "      <th>Airline_Trujet</th>\n",
       "      <th>Airline_Vistara</th>\n",
       "      <th>Airline_Vistara Premium economy</th>\n",
       "      <th>Source_Chennai</th>\n",
       "      <th>Source_Delhi</th>\n",
       "      <th>Source_Kolkata</th>\n",
       "      <th>Source_Mumbai</th>\n",
       "      <th>Destination_Cochin</th>\n",
       "      <th>Destination_Delhi</th>\n",
       "      <th>Destination_Hyderabad</th>\n",
       "      <th>Destination_Kolkata</th>\n",
       "      <th>Destination_New Delhi</th>\n",
       "    </tr>\n",
       "  </thead>\n",
       "  <tbody>\n",
       "    <tr>\n",
       "      <th>0</th>\n",
       "      <td>IndiGo</td>\n",
       "      <td>Banglore</td>\n",
       "      <td>New Delhi</td>\n",
       "      <td>0.0</td>\n",
       "      <td>3897</td>\n",
       "      <td>24</td>\n",
       "      <td>3</td>\n",
       "      <td>22</td>\n",
       "      <td>20</td>\n",
       "      <td>1</td>\n",
       "      <td>10</td>\n",
       "      <td>2</td>\n",
       "      <td>50</td>\n",
       "      <td>0</td>\n",
       "      <td>0</td>\n",
       "      <td>1</td>\n",
       "      <td>0</td>\n",
       "      <td>0</td>\n",
       "      <td>0</td>\n",
       "      <td>0</td>\n",
       "      <td>0</td>\n",
       "      <td>0</td>\n",
       "      <td>0</td>\n",
       "      <td>0</td>\n",
       "      <td>0</td>\n",
       "      <td>0</td>\n",
       "      <td>0</td>\n",
       "      <td>0</td>\n",
       "      <td>0</td>\n",
       "      <td>0</td>\n",
       "      <td>0</td>\n",
       "      <td>0</td>\n",
       "      <td>1</td>\n",
       "    </tr>\n",
       "    <tr>\n",
       "      <th>1</th>\n",
       "      <td>Air India</td>\n",
       "      <td>Kolkata</td>\n",
       "      <td>Banglore</td>\n",
       "      <td>2.0</td>\n",
       "      <td>7662</td>\n",
       "      <td>1</td>\n",
       "      <td>5</td>\n",
       "      <td>5</td>\n",
       "      <td>50</td>\n",
       "      <td>13</td>\n",
       "      <td>15</td>\n",
       "      <td>7</td>\n",
       "      <td>25</td>\n",
       "      <td>1</td>\n",
       "      <td>0</td>\n",
       "      <td>0</td>\n",
       "      <td>0</td>\n",
       "      <td>0</td>\n",
       "      <td>0</td>\n",
       "      <td>0</td>\n",
       "      <td>0</td>\n",
       "      <td>0</td>\n",
       "      <td>0</td>\n",
       "      <td>0</td>\n",
       "      <td>0</td>\n",
       "      <td>0</td>\n",
       "      <td>1</td>\n",
       "      <td>0</td>\n",
       "      <td>0</td>\n",
       "      <td>0</td>\n",
       "      <td>0</td>\n",
       "      <td>0</td>\n",
       "      <td>0</td>\n",
       "    </tr>\n",
       "    <tr>\n",
       "      <th>2</th>\n",
       "      <td>Jet Airways</td>\n",
       "      <td>Delhi</td>\n",
       "      <td>Cochin</td>\n",
       "      <td>2.0</td>\n",
       "      <td>13882</td>\n",
       "      <td>9</td>\n",
       "      <td>6</td>\n",
       "      <td>9</td>\n",
       "      <td>25</td>\n",
       "      <td>4</td>\n",
       "      <td>25</td>\n",
       "      <td>19</td>\n",
       "      <td>0</td>\n",
       "      <td>0</td>\n",
       "      <td>0</td>\n",
       "      <td>0</td>\n",
       "      <td>1</td>\n",
       "      <td>0</td>\n",
       "      <td>0</td>\n",
       "      <td>0</td>\n",
       "      <td>0</td>\n",
       "      <td>0</td>\n",
       "      <td>0</td>\n",
       "      <td>0</td>\n",
       "      <td>0</td>\n",
       "      <td>1</td>\n",
       "      <td>0</td>\n",
       "      <td>0</td>\n",
       "      <td>1</td>\n",
       "      <td>0</td>\n",
       "      <td>0</td>\n",
       "      <td>0</td>\n",
       "      <td>0</td>\n",
       "    </tr>\n",
       "    <tr>\n",
       "      <th>3</th>\n",
       "      <td>IndiGo</td>\n",
       "      <td>Kolkata</td>\n",
       "      <td>Banglore</td>\n",
       "      <td>1.0</td>\n",
       "      <td>6218</td>\n",
       "      <td>12</td>\n",
       "      <td>5</td>\n",
       "      <td>18</td>\n",
       "      <td>5</td>\n",
       "      <td>23</td>\n",
       "      <td>30</td>\n",
       "      <td>5</td>\n",
       "      <td>25</td>\n",
       "      <td>0</td>\n",
       "      <td>0</td>\n",
       "      <td>1</td>\n",
       "      <td>0</td>\n",
       "      <td>0</td>\n",
       "      <td>0</td>\n",
       "      <td>0</td>\n",
       "      <td>0</td>\n",
       "      <td>0</td>\n",
       "      <td>0</td>\n",
       "      <td>0</td>\n",
       "      <td>0</td>\n",
       "      <td>0</td>\n",
       "      <td>1</td>\n",
       "      <td>0</td>\n",
       "      <td>0</td>\n",
       "      <td>0</td>\n",
       "      <td>0</td>\n",
       "      <td>0</td>\n",
       "      <td>0</td>\n",
       "    </tr>\n",
       "    <tr>\n",
       "      <th>4</th>\n",
       "      <td>IndiGo</td>\n",
       "      <td>Banglore</td>\n",
       "      <td>New Delhi</td>\n",
       "      <td>1.0</td>\n",
       "      <td>13302</td>\n",
       "      <td>1</td>\n",
       "      <td>3</td>\n",
       "      <td>16</td>\n",
       "      <td>50</td>\n",
       "      <td>21</td>\n",
       "      <td>35</td>\n",
       "      <td>4</td>\n",
       "      <td>45</td>\n",
       "      <td>0</td>\n",
       "      <td>0</td>\n",
       "      <td>1</td>\n",
       "      <td>0</td>\n",
       "      <td>0</td>\n",
       "      <td>0</td>\n",
       "      <td>0</td>\n",
       "      <td>0</td>\n",
       "      <td>0</td>\n",
       "      <td>0</td>\n",
       "      <td>0</td>\n",
       "      <td>0</td>\n",
       "      <td>0</td>\n",
       "      <td>0</td>\n",
       "      <td>0</td>\n",
       "      <td>0</td>\n",
       "      <td>0</td>\n",
       "      <td>0</td>\n",
       "      <td>0</td>\n",
       "      <td>1</td>\n",
       "    </tr>\n",
       "  </tbody>\n",
       "</table>\n",
       "</div>"
      ],
      "text/plain": [
       "       Airline    Source Destination  Total_Stops  Price  Journey_day  \\\n",
       "0       IndiGo  Banglore   New Delhi          0.0   3897           24   \n",
       "1    Air India   Kolkata    Banglore          2.0   7662            1   \n",
       "2  Jet Airways     Delhi      Cochin          2.0  13882            9   \n",
       "3       IndiGo   Kolkata    Banglore          1.0   6218           12   \n",
       "4       IndiGo  Banglore   New Delhi          1.0  13302            1   \n",
       "\n",
       "   Journey_month  Dep_hour  Dep_min  Arrival_hour  Arrival_min  \\\n",
       "0              3        22       20             1           10   \n",
       "1              5         5       50            13           15   \n",
       "2              6         9       25             4           25   \n",
       "3              5        18        5            23           30   \n",
       "4              3        16       50            21           35   \n",
       "\n",
       "   Duration_hours  Duration_mins  Airline_Air India  Airline_GoAir  \\\n",
       "0               2             50                  0              0   \n",
       "1               7             25                  1              0   \n",
       "2              19              0                  0              0   \n",
       "3               5             25                  0              0   \n",
       "4               4             45                  0              0   \n",
       "\n",
       "   Airline_IndiGo  Airline_Jet Airways  Airline_Jet Airways Business  \\\n",
       "0               1                    0                             0   \n",
       "1               0                    0                             0   \n",
       "2               0                    1                             0   \n",
       "3               1                    0                             0   \n",
       "4               1                    0                             0   \n",
       "\n",
       "   Airline_Multiple carriers  Airline_Multiple carriers Premium economy  \\\n",
       "0                          0                                          0   \n",
       "1                          0                                          0   \n",
       "2                          0                                          0   \n",
       "3                          0                                          0   \n",
       "4                          0                                          0   \n",
       "\n",
       "   Airline_SpiceJet  Airline_Trujet  Airline_Vistara  \\\n",
       "0                 0               0                0   \n",
       "1                 0               0                0   \n",
       "2                 0               0                0   \n",
       "3                 0               0                0   \n",
       "4                 0               0                0   \n",
       "\n",
       "   Airline_Vistara Premium economy  Source_Chennai  Source_Delhi  \\\n",
       "0                                0               0             0   \n",
       "1                                0               0             0   \n",
       "2                                0               0             1   \n",
       "3                                0               0             0   \n",
       "4                                0               0             0   \n",
       "\n",
       "   Source_Kolkata  Source_Mumbai  Destination_Cochin  Destination_Delhi  \\\n",
       "0               0              0                   0                  0   \n",
       "1               1              0                   0                  0   \n",
       "2               0              0                   1                  0   \n",
       "3               1              0                   0                  0   \n",
       "4               0              0                   0                  0   \n",
       "\n",
       "   Destination_Hyderabad  Destination_Kolkata  Destination_New Delhi  \n",
       "0                      0                    0                      1  \n",
       "1                      0                    0                      0  \n",
       "2                      0                    0                      0  \n",
       "3                      0                    0                      0  \n",
       "4                      0                    0                      1  "
      ]
     },
     "metadata": {},
     "execution_count": 30
    }
   ],
   "metadata": {
    "execution": {
     "iopub.execute_input": "2021-09-18T12:53:11.592558Z",
     "iopub.status.busy": "2021-09-18T12:53:11.591759Z",
     "iopub.status.idle": "2021-09-18T12:53:11.610862Z",
     "shell.execute_reply": "2021-09-18T12:53:11.610478Z",
     "shell.execute_reply.started": "2021-09-18T12:07:58.129045Z"
    },
    "papermill": {
     "duration": 0.090397,
     "end_time": "2021-09-18T12:53:11.610962",
     "exception": false,
     "start_time": "2021-09-18T12:53:11.520565",
     "status": "completed"
    },
    "tags": []
   }
  },
  {
   "cell_type": "code",
   "execution_count": 31,
   "source": [
    "# Now we just need to drop the parent categorical columns and our preprocessing will be complete!\r\n",
    "final_data.drop([\"Airline\", \"Source\", \"Destination\"], axis = 1, inplace = True)"
   ],
   "outputs": [],
   "metadata": {
    "execution": {
     "iopub.execute_input": "2021-09-18T12:53:11.753607Z",
     "iopub.status.busy": "2021-09-18T12:53:11.753052Z",
     "iopub.status.idle": "2021-09-18T12:53:11.757471Z",
     "shell.execute_reply": "2021-09-18T12:53:11.757896Z",
     "shell.execute_reply.started": "2021-09-18T12:07:58.882236Z"
    },
    "papermill": {
     "duration": 0.077618,
     "end_time": "2021-09-18T12:53:11.758009",
     "exception": false,
     "start_time": "2021-09-18T12:53:11.680391",
     "status": "completed"
    },
    "tags": []
   }
  },
  {
   "cell_type": "code",
   "execution_count": 32,
   "source": [
    "final_data.shape"
   ],
   "outputs": [
    {
     "output_type": "execute_result",
     "data": {
      "text/plain": [
       "(10683, 30)"
      ]
     },
     "metadata": {},
     "execution_count": 32
    }
   ],
   "metadata": {
    "execution": {
     "iopub.execute_input": "2021-09-18T12:53:11.898686Z",
     "iopub.status.busy": "2021-09-18T12:53:11.898090Z",
     "iopub.status.idle": "2021-09-18T12:53:11.900658Z",
     "shell.execute_reply": "2021-09-18T12:53:11.901058Z",
     "shell.execute_reply.started": "2021-09-18T12:07:59.676444Z"
    },
    "papermill": {
     "duration": 0.075063,
     "end_time": "2021-09-18T12:53:11.901173",
     "exception": false,
     "start_time": "2021-09-18T12:53:11.826110",
     "status": "completed"
    },
    "tags": []
   }
  },
  {
   "cell_type": "code",
   "execution_count": 33,
   "source": [
    "final_data.info()"
   ],
   "outputs": [
    {
     "output_type": "stream",
     "name": "stdout",
     "text": [
      "<class 'pandas.core.frame.DataFrame'>\n",
      "RangeIndex: 10683 entries, 0 to 10682\n",
      "Data columns (total 30 columns):\n",
      " #   Column                                     Non-Null Count  Dtype  \n",
      "---  ------                                     --------------  -----  \n",
      " 0   Total_Stops                                10682 non-null  float64\n",
      " 1   Price                                      10683 non-null  int64  \n",
      " 2   Journey_day                                10683 non-null  int64  \n",
      " 3   Journey_month                              10683 non-null  int64  \n",
      " 4   Dep_hour                                   10683 non-null  int64  \n",
      " 5   Dep_min                                    10683 non-null  int64  \n",
      " 6   Arrival_hour                               10683 non-null  int64  \n",
      " 7   Arrival_min                                10683 non-null  int64  \n",
      " 8   Duration_hours                             10683 non-null  int64  \n",
      " 9   Duration_mins                              10683 non-null  int64  \n",
      " 10  Airline_Air India                          10683 non-null  uint8  \n",
      " 11  Airline_GoAir                              10683 non-null  uint8  \n",
      " 12  Airline_IndiGo                             10683 non-null  uint8  \n",
      " 13  Airline_Jet Airways                        10683 non-null  uint8  \n",
      " 14  Airline_Jet Airways Business               10683 non-null  uint8  \n",
      " 15  Airline_Multiple carriers                  10683 non-null  uint8  \n",
      " 16  Airline_Multiple carriers Premium economy  10683 non-null  uint8  \n",
      " 17  Airline_SpiceJet                           10683 non-null  uint8  \n",
      " 18  Airline_Trujet                             10683 non-null  uint8  \n",
      " 19  Airline_Vistara                            10683 non-null  uint8  \n",
      " 20  Airline_Vistara Premium economy            10683 non-null  uint8  \n",
      " 21  Source_Chennai                             10683 non-null  uint8  \n",
      " 22  Source_Delhi                               10683 non-null  uint8  \n",
      " 23  Source_Kolkata                             10683 non-null  uint8  \n",
      " 24  Source_Mumbai                              10683 non-null  uint8  \n",
      " 25  Destination_Cochin                         10683 non-null  uint8  \n",
      " 26  Destination_Delhi                          10683 non-null  uint8  \n",
      " 27  Destination_Hyderabad                      10683 non-null  uint8  \n",
      " 28  Destination_Kolkata                        10683 non-null  uint8  \n",
      " 29  Destination_New Delhi                      10683 non-null  uint8  \n",
      "dtypes: float64(1), int64(9), uint8(20)\n",
      "memory usage: 1.0 MB\n"
     ]
    }
   ],
   "metadata": {
    "execution": {
     "iopub.execute_input": "2021-09-18T12:53:12.042743Z",
     "iopub.status.busy": "2021-09-18T12:53:12.041873Z",
     "iopub.status.idle": "2021-09-18T12:53:12.055151Z",
     "shell.execute_reply": "2021-09-18T12:53:12.054733Z",
     "shell.execute_reply.started": "2021-09-18T12:08:00.314868Z"
    },
    "papermill": {
     "duration": 0.085773,
     "end_time": "2021-09-18T12:53:12.055252",
     "exception": false,
     "start_time": "2021-09-18T12:53:11.969479",
     "status": "completed"
    },
    "tags": []
   }
  },
  {
   "cell_type": "code",
   "execution_count": 34,
   "source": [
    "final_data[final_data['Total_Stops'].isna()]"
   ],
   "outputs": [
    {
     "output_type": "execute_result",
     "data": {
      "text/html": [
       "<div>\n",
       "<style scoped>\n",
       "    .dataframe tbody tr th:only-of-type {\n",
       "        vertical-align: middle;\n",
       "    }\n",
       "\n",
       "    .dataframe tbody tr th {\n",
       "        vertical-align: top;\n",
       "    }\n",
       "\n",
       "    .dataframe thead th {\n",
       "        text-align: right;\n",
       "    }\n",
       "</style>\n",
       "<table border=\"1\" class=\"dataframe\">\n",
       "  <thead>\n",
       "    <tr style=\"text-align: right;\">\n",
       "      <th></th>\n",
       "      <th>Total_Stops</th>\n",
       "      <th>Price</th>\n",
       "      <th>Journey_day</th>\n",
       "      <th>Journey_month</th>\n",
       "      <th>Dep_hour</th>\n",
       "      <th>Dep_min</th>\n",
       "      <th>Arrival_hour</th>\n",
       "      <th>Arrival_min</th>\n",
       "      <th>Duration_hours</th>\n",
       "      <th>Duration_mins</th>\n",
       "      <th>Airline_Air India</th>\n",
       "      <th>Airline_GoAir</th>\n",
       "      <th>Airline_IndiGo</th>\n",
       "      <th>Airline_Jet Airways</th>\n",
       "      <th>Airline_Jet Airways Business</th>\n",
       "      <th>Airline_Multiple carriers</th>\n",
       "      <th>Airline_Multiple carriers Premium economy</th>\n",
       "      <th>Airline_SpiceJet</th>\n",
       "      <th>Airline_Trujet</th>\n",
       "      <th>Airline_Vistara</th>\n",
       "      <th>Airline_Vistara Premium economy</th>\n",
       "      <th>Source_Chennai</th>\n",
       "      <th>Source_Delhi</th>\n",
       "      <th>Source_Kolkata</th>\n",
       "      <th>Source_Mumbai</th>\n",
       "      <th>Destination_Cochin</th>\n",
       "      <th>Destination_Delhi</th>\n",
       "      <th>Destination_Hyderabad</th>\n",
       "      <th>Destination_Kolkata</th>\n",
       "      <th>Destination_New Delhi</th>\n",
       "    </tr>\n",
       "  </thead>\n",
       "  <tbody>\n",
       "    <tr>\n",
       "      <th>9039</th>\n",
       "      <td>NaN</td>\n",
       "      <td>7480</td>\n",
       "      <td>6</td>\n",
       "      <td>5</td>\n",
       "      <td>9</td>\n",
       "      <td>45</td>\n",
       "      <td>9</td>\n",
       "      <td>25</td>\n",
       "      <td>23</td>\n",
       "      <td>40</td>\n",
       "      <td>1</td>\n",
       "      <td>0</td>\n",
       "      <td>0</td>\n",
       "      <td>0</td>\n",
       "      <td>0</td>\n",
       "      <td>0</td>\n",
       "      <td>0</td>\n",
       "      <td>0</td>\n",
       "      <td>0</td>\n",
       "      <td>0</td>\n",
       "      <td>0</td>\n",
       "      <td>0</td>\n",
       "      <td>1</td>\n",
       "      <td>0</td>\n",
       "      <td>0</td>\n",
       "      <td>1</td>\n",
       "      <td>0</td>\n",
       "      <td>0</td>\n",
       "      <td>0</td>\n",
       "      <td>0</td>\n",
       "    </tr>\n",
       "  </tbody>\n",
       "</table>\n",
       "</div>"
      ],
      "text/plain": [
       "      Total_Stops  Price  Journey_day  Journey_month  Dep_hour  Dep_min  \\\n",
       "9039          NaN   7480            6              5         9       45   \n",
       "\n",
       "      Arrival_hour  Arrival_min  Duration_hours  Duration_mins  \\\n",
       "9039             9           25              23             40   \n",
       "\n",
       "      Airline_Air India  Airline_GoAir  Airline_IndiGo  Airline_Jet Airways  \\\n",
       "9039                  1              0               0                    0   \n",
       "\n",
       "      Airline_Jet Airways Business  Airline_Multiple carriers  \\\n",
       "9039                             0                          0   \n",
       "\n",
       "      Airline_Multiple carriers Premium economy  Airline_SpiceJet  \\\n",
       "9039                                          0                 0   \n",
       "\n",
       "      Airline_Trujet  Airline_Vistara  Airline_Vistara Premium economy  \\\n",
       "9039               0                0                                0   \n",
       "\n",
       "      Source_Chennai  Source_Delhi  Source_Kolkata  Source_Mumbai  \\\n",
       "9039               0             1               0              0   \n",
       "\n",
       "      Destination_Cochin  Destination_Delhi  Destination_Hyderabad  \\\n",
       "9039                   1                  0                      0   \n",
       "\n",
       "      Destination_Kolkata  Destination_New Delhi  \n",
       "9039                    0                      0  "
      ]
     },
     "metadata": {},
     "execution_count": 34
    }
   ],
   "metadata": {
    "execution": {
     "iopub.execute_input": "2021-09-18T12:53:12.211004Z",
     "iopub.status.busy": "2021-09-18T12:53:12.210379Z",
     "iopub.status.idle": "2021-09-18T12:53:12.213487Z",
     "shell.execute_reply": "2021-09-18T12:53:12.213877Z",
     "shell.execute_reply.started": "2021-09-18T12:08:00.949013Z"
    },
    "papermill": {
     "duration": 0.088884,
     "end_time": "2021-09-18T12:53:12.213994",
     "exception": false,
     "start_time": "2021-09-18T12:53:12.125110",
     "status": "completed"
    },
    "tags": []
   }
  },
  {
   "cell_type": "code",
   "execution_count": 35,
   "source": [
    "final_data = final_data.drop(9039, axis = 0)"
   ],
   "outputs": [],
   "metadata": {
    "execution": {
     "iopub.execute_input": "2021-09-18T12:53:12.358022Z",
     "iopub.status.busy": "2021-09-18T12:53:12.357205Z",
     "iopub.status.idle": "2021-09-18T12:53:12.360435Z",
     "shell.execute_reply": "2021-09-18T12:53:12.360797Z",
     "shell.execute_reply.started": "2021-09-18T12:08:01.534694Z"
    },
    "papermill": {
     "duration": 0.076832,
     "end_time": "2021-09-18T12:53:12.360916",
     "exception": false,
     "start_time": "2021-09-18T12:53:12.284084",
     "status": "completed"
    },
    "tags": []
   }
  },
  {
   "cell_type": "code",
   "execution_count": 36,
   "source": [
    "final_data['Airline_Trujet'].value_counts()"
   ],
   "outputs": [
    {
     "output_type": "execute_result",
     "data": {
      "text/plain": [
       "0    10681\n",
       "1        1\n",
       "Name: Airline_Trujet, dtype: int64"
      ]
     },
     "metadata": {},
     "execution_count": 36
    }
   ],
   "metadata": {
    "execution": {
     "iopub.execute_input": "2021-09-18T12:53:12.504638Z",
     "iopub.status.busy": "2021-09-18T12:53:12.504127Z",
     "iopub.status.idle": "2021-09-18T12:53:12.509978Z",
     "shell.execute_reply": "2021-09-18T12:53:12.510332Z",
     "shell.execute_reply.started": "2021-09-18T12:08:02.289638Z"
    },
    "papermill": {
     "duration": 0.080157,
     "end_time": "2021-09-18T12:53:12.510465",
     "exception": false,
     "start_time": "2021-09-18T12:53:12.430308",
     "status": "completed"
    },
    "tags": []
   }
  },
  {
   "cell_type": "markdown",
   "source": [
    "Since this flight has just been used one time we can drop this column."
   ],
   "metadata": {
    "papermill": {
     "duration": 0.06889,
     "end_time": "2021-09-18T12:53:12.648536",
     "exception": false,
     "start_time": "2021-09-18T12:53:12.579646",
     "status": "completed"
    },
    "tags": []
   }
  },
  {
   "cell_type": "code",
   "execution_count": 37,
   "source": [
    "final_data = final_data.drop('Airline_Trujet', axis = 1)"
   ],
   "outputs": [],
   "metadata": {
    "execution": {
     "iopub.execute_input": "2021-09-18T12:53:12.794434Z",
     "iopub.status.busy": "2021-09-18T12:53:12.793213Z",
     "iopub.status.idle": "2021-09-18T12:53:12.796791Z",
     "shell.execute_reply": "2021-09-18T12:53:12.796376Z",
     "shell.execute_reply.started": "2021-09-18T12:08:03.616037Z"
    },
    "papermill": {
     "duration": 0.078425,
     "end_time": "2021-09-18T12:53:12.796887",
     "exception": false,
     "start_time": "2021-09-18T12:53:12.718462",
     "status": "completed"
    },
    "tags": []
   }
  },
  {
   "cell_type": "code",
   "execution_count": 38,
   "source": [
    "final_data.head()"
   ],
   "outputs": [
    {
     "output_type": "execute_result",
     "data": {
      "text/html": [
       "<div>\n",
       "<style scoped>\n",
       "    .dataframe tbody tr th:only-of-type {\n",
       "        vertical-align: middle;\n",
       "    }\n",
       "\n",
       "    .dataframe tbody tr th {\n",
       "        vertical-align: top;\n",
       "    }\n",
       "\n",
       "    .dataframe thead th {\n",
       "        text-align: right;\n",
       "    }\n",
       "</style>\n",
       "<table border=\"1\" class=\"dataframe\">\n",
       "  <thead>\n",
       "    <tr style=\"text-align: right;\">\n",
       "      <th></th>\n",
       "      <th>Total_Stops</th>\n",
       "      <th>Price</th>\n",
       "      <th>Journey_day</th>\n",
       "      <th>Journey_month</th>\n",
       "      <th>Dep_hour</th>\n",
       "      <th>Dep_min</th>\n",
       "      <th>Arrival_hour</th>\n",
       "      <th>Arrival_min</th>\n",
       "      <th>Duration_hours</th>\n",
       "      <th>Duration_mins</th>\n",
       "      <th>Airline_Air India</th>\n",
       "      <th>Airline_GoAir</th>\n",
       "      <th>Airline_IndiGo</th>\n",
       "      <th>Airline_Jet Airways</th>\n",
       "      <th>Airline_Jet Airways Business</th>\n",
       "      <th>Airline_Multiple carriers</th>\n",
       "      <th>Airline_Multiple carriers Premium economy</th>\n",
       "      <th>Airline_SpiceJet</th>\n",
       "      <th>Airline_Vistara</th>\n",
       "      <th>Airline_Vistara Premium economy</th>\n",
       "      <th>Source_Chennai</th>\n",
       "      <th>Source_Delhi</th>\n",
       "      <th>Source_Kolkata</th>\n",
       "      <th>Source_Mumbai</th>\n",
       "      <th>Destination_Cochin</th>\n",
       "      <th>Destination_Delhi</th>\n",
       "      <th>Destination_Hyderabad</th>\n",
       "      <th>Destination_Kolkata</th>\n",
       "      <th>Destination_New Delhi</th>\n",
       "    </tr>\n",
       "  </thead>\n",
       "  <tbody>\n",
       "    <tr>\n",
       "      <th>0</th>\n",
       "      <td>0.0</td>\n",
       "      <td>3897</td>\n",
       "      <td>24</td>\n",
       "      <td>3</td>\n",
       "      <td>22</td>\n",
       "      <td>20</td>\n",
       "      <td>1</td>\n",
       "      <td>10</td>\n",
       "      <td>2</td>\n",
       "      <td>50</td>\n",
       "      <td>0</td>\n",
       "      <td>0</td>\n",
       "      <td>1</td>\n",
       "      <td>0</td>\n",
       "      <td>0</td>\n",
       "      <td>0</td>\n",
       "      <td>0</td>\n",
       "      <td>0</td>\n",
       "      <td>0</td>\n",
       "      <td>0</td>\n",
       "      <td>0</td>\n",
       "      <td>0</td>\n",
       "      <td>0</td>\n",
       "      <td>0</td>\n",
       "      <td>0</td>\n",
       "      <td>0</td>\n",
       "      <td>0</td>\n",
       "      <td>0</td>\n",
       "      <td>1</td>\n",
       "    </tr>\n",
       "    <tr>\n",
       "      <th>1</th>\n",
       "      <td>2.0</td>\n",
       "      <td>7662</td>\n",
       "      <td>1</td>\n",
       "      <td>5</td>\n",
       "      <td>5</td>\n",
       "      <td>50</td>\n",
       "      <td>13</td>\n",
       "      <td>15</td>\n",
       "      <td>7</td>\n",
       "      <td>25</td>\n",
       "      <td>1</td>\n",
       "      <td>0</td>\n",
       "      <td>0</td>\n",
       "      <td>0</td>\n",
       "      <td>0</td>\n",
       "      <td>0</td>\n",
       "      <td>0</td>\n",
       "      <td>0</td>\n",
       "      <td>0</td>\n",
       "      <td>0</td>\n",
       "      <td>0</td>\n",
       "      <td>0</td>\n",
       "      <td>1</td>\n",
       "      <td>0</td>\n",
       "      <td>0</td>\n",
       "      <td>0</td>\n",
       "      <td>0</td>\n",
       "      <td>0</td>\n",
       "      <td>0</td>\n",
       "    </tr>\n",
       "    <tr>\n",
       "      <th>2</th>\n",
       "      <td>2.0</td>\n",
       "      <td>13882</td>\n",
       "      <td>9</td>\n",
       "      <td>6</td>\n",
       "      <td>9</td>\n",
       "      <td>25</td>\n",
       "      <td>4</td>\n",
       "      <td>25</td>\n",
       "      <td>19</td>\n",
       "      <td>0</td>\n",
       "      <td>0</td>\n",
       "      <td>0</td>\n",
       "      <td>0</td>\n",
       "      <td>1</td>\n",
       "      <td>0</td>\n",
       "      <td>0</td>\n",
       "      <td>0</td>\n",
       "      <td>0</td>\n",
       "      <td>0</td>\n",
       "      <td>0</td>\n",
       "      <td>0</td>\n",
       "      <td>1</td>\n",
       "      <td>0</td>\n",
       "      <td>0</td>\n",
       "      <td>1</td>\n",
       "      <td>0</td>\n",
       "      <td>0</td>\n",
       "      <td>0</td>\n",
       "      <td>0</td>\n",
       "    </tr>\n",
       "    <tr>\n",
       "      <th>3</th>\n",
       "      <td>1.0</td>\n",
       "      <td>6218</td>\n",
       "      <td>12</td>\n",
       "      <td>5</td>\n",
       "      <td>18</td>\n",
       "      <td>5</td>\n",
       "      <td>23</td>\n",
       "      <td>30</td>\n",
       "      <td>5</td>\n",
       "      <td>25</td>\n",
       "      <td>0</td>\n",
       "      <td>0</td>\n",
       "      <td>1</td>\n",
       "      <td>0</td>\n",
       "      <td>0</td>\n",
       "      <td>0</td>\n",
       "      <td>0</td>\n",
       "      <td>0</td>\n",
       "      <td>0</td>\n",
       "      <td>0</td>\n",
       "      <td>0</td>\n",
       "      <td>0</td>\n",
       "      <td>1</td>\n",
       "      <td>0</td>\n",
       "      <td>0</td>\n",
       "      <td>0</td>\n",
       "      <td>0</td>\n",
       "      <td>0</td>\n",
       "      <td>0</td>\n",
       "    </tr>\n",
       "    <tr>\n",
       "      <th>4</th>\n",
       "      <td>1.0</td>\n",
       "      <td>13302</td>\n",
       "      <td>1</td>\n",
       "      <td>3</td>\n",
       "      <td>16</td>\n",
       "      <td>50</td>\n",
       "      <td>21</td>\n",
       "      <td>35</td>\n",
       "      <td>4</td>\n",
       "      <td>45</td>\n",
       "      <td>0</td>\n",
       "      <td>0</td>\n",
       "      <td>1</td>\n",
       "      <td>0</td>\n",
       "      <td>0</td>\n",
       "      <td>0</td>\n",
       "      <td>0</td>\n",
       "      <td>0</td>\n",
       "      <td>0</td>\n",
       "      <td>0</td>\n",
       "      <td>0</td>\n",
       "      <td>0</td>\n",
       "      <td>0</td>\n",
       "      <td>0</td>\n",
       "      <td>0</td>\n",
       "      <td>0</td>\n",
       "      <td>0</td>\n",
       "      <td>0</td>\n",
       "      <td>1</td>\n",
       "    </tr>\n",
       "  </tbody>\n",
       "</table>\n",
       "</div>"
      ],
      "text/plain": [
       "   Total_Stops  Price  Journey_day  Journey_month  Dep_hour  Dep_min  \\\n",
       "0          0.0   3897           24              3        22       20   \n",
       "1          2.0   7662            1              5         5       50   \n",
       "2          2.0  13882            9              6         9       25   \n",
       "3          1.0   6218           12              5        18        5   \n",
       "4          1.0  13302            1              3        16       50   \n",
       "\n",
       "   Arrival_hour  Arrival_min  Duration_hours  Duration_mins  \\\n",
       "0             1           10               2             50   \n",
       "1            13           15               7             25   \n",
       "2             4           25              19              0   \n",
       "3            23           30               5             25   \n",
       "4            21           35               4             45   \n",
       "\n",
       "   Airline_Air India  Airline_GoAir  Airline_IndiGo  Airline_Jet Airways  \\\n",
       "0                  0              0               1                    0   \n",
       "1                  1              0               0                    0   \n",
       "2                  0              0               0                    1   \n",
       "3                  0              0               1                    0   \n",
       "4                  0              0               1                    0   \n",
       "\n",
       "   Airline_Jet Airways Business  Airline_Multiple carriers  \\\n",
       "0                             0                          0   \n",
       "1                             0                          0   \n",
       "2                             0                          0   \n",
       "3                             0                          0   \n",
       "4                             0                          0   \n",
       "\n",
       "   Airline_Multiple carriers Premium economy  Airline_SpiceJet  \\\n",
       "0                                          0                 0   \n",
       "1                                          0                 0   \n",
       "2                                          0                 0   \n",
       "3                                          0                 0   \n",
       "4                                          0                 0   \n",
       "\n",
       "   Airline_Vistara  Airline_Vistara Premium economy  Source_Chennai  \\\n",
       "0                0                                0               0   \n",
       "1                0                                0               0   \n",
       "2                0                                0               0   \n",
       "3                0                                0               0   \n",
       "4                0                                0               0   \n",
       "\n",
       "   Source_Delhi  Source_Kolkata  Source_Mumbai  Destination_Cochin  \\\n",
       "0             0               0              0                   0   \n",
       "1             0               1              0                   0   \n",
       "2             1               0              0                   1   \n",
       "3             0               1              0                   0   \n",
       "4             0               0              0                   0   \n",
       "\n",
       "   Destination_Delhi  Destination_Hyderabad  Destination_Kolkata  \\\n",
       "0                  0                      0                    0   \n",
       "1                  0                      0                    0   \n",
       "2                  0                      0                    0   \n",
       "3                  0                      0                    0   \n",
       "4                  0                      0                    0   \n",
       "\n",
       "   Destination_New Delhi  \n",
       "0                      1  \n",
       "1                      0  \n",
       "2                      0  \n",
       "3                      0  \n",
       "4                      1  "
      ]
     },
     "metadata": {},
     "execution_count": 38
    }
   ],
   "metadata": {
    "execution": {
     "iopub.execute_input": "2021-09-18T12:53:12.953380Z",
     "iopub.status.busy": "2021-09-18T12:53:12.951134Z",
     "iopub.status.idle": "2021-09-18T12:53:12.956246Z",
     "shell.execute_reply": "2021-09-18T12:53:12.956745Z",
     "shell.execute_reply.started": "2021-09-18T12:08:04.273151Z"
    },
    "papermill": {
     "duration": 0.090645,
     "end_time": "2021-09-18T12:53:12.956874",
     "exception": false,
     "start_time": "2021-09-18T12:53:12.866229",
     "status": "completed"
    },
    "tags": []
   }
  },
  {
   "cell_type": "code",
   "execution_count": 39,
   "source": [
    "final_data.info()"
   ],
   "outputs": [
    {
     "output_type": "stream",
     "name": "stdout",
     "text": [
      "<class 'pandas.core.frame.DataFrame'>\n",
      "Int64Index: 10682 entries, 0 to 10682\n",
      "Data columns (total 29 columns):\n",
      " #   Column                                     Non-Null Count  Dtype  \n",
      "---  ------                                     --------------  -----  \n",
      " 0   Total_Stops                                10682 non-null  float64\n",
      " 1   Price                                      10682 non-null  int64  \n",
      " 2   Journey_day                                10682 non-null  int64  \n",
      " 3   Journey_month                              10682 non-null  int64  \n",
      " 4   Dep_hour                                   10682 non-null  int64  \n",
      " 5   Dep_min                                    10682 non-null  int64  \n",
      " 6   Arrival_hour                               10682 non-null  int64  \n",
      " 7   Arrival_min                                10682 non-null  int64  \n",
      " 8   Duration_hours                             10682 non-null  int64  \n",
      " 9   Duration_mins                              10682 non-null  int64  \n",
      " 10  Airline_Air India                          10682 non-null  uint8  \n",
      " 11  Airline_GoAir                              10682 non-null  uint8  \n",
      " 12  Airline_IndiGo                             10682 non-null  uint8  \n",
      " 13  Airline_Jet Airways                        10682 non-null  uint8  \n",
      " 14  Airline_Jet Airways Business               10682 non-null  uint8  \n",
      " 15  Airline_Multiple carriers                  10682 non-null  uint8  \n",
      " 16  Airline_Multiple carriers Premium economy  10682 non-null  uint8  \n",
      " 17  Airline_SpiceJet                           10682 non-null  uint8  \n",
      " 18  Airline_Vistara                            10682 non-null  uint8  \n",
      " 19  Airline_Vistara Premium economy            10682 non-null  uint8  \n",
      " 20  Source_Chennai                             10682 non-null  uint8  \n",
      " 21  Source_Delhi                               10682 non-null  uint8  \n",
      " 22  Source_Kolkata                             10682 non-null  uint8  \n",
      " 23  Source_Mumbai                              10682 non-null  uint8  \n",
      " 24  Destination_Cochin                         10682 non-null  uint8  \n",
      " 25  Destination_Delhi                          10682 non-null  uint8  \n",
      " 26  Destination_Hyderabad                      10682 non-null  uint8  \n",
      " 27  Destination_Kolkata                        10682 non-null  uint8  \n",
      " 28  Destination_New Delhi                      10682 non-null  uint8  \n",
      "dtypes: float64(1), int64(9), uint8(19)\n",
      "memory usage: 1.1 MB\n"
     ]
    }
   ],
   "metadata": {
    "execution": {
     "iopub.execute_input": "2021-09-18T12:53:13.104099Z",
     "iopub.status.busy": "2021-09-18T12:53:13.102850Z",
     "iopub.status.idle": "2021-09-18T12:53:13.117790Z",
     "shell.execute_reply": "2021-09-18T12:53:13.117365Z",
     "shell.execute_reply.started": "2021-09-18T12:08:04.835247Z"
    },
    "papermill": {
     "duration": 0.090413,
     "end_time": "2021-09-18T12:53:13.117898",
     "exception": false,
     "start_time": "2021-09-18T12:53:13.027485",
     "status": "completed"
    },
    "tags": []
   }
  },
  {
   "cell_type": "markdown",
   "source": [
    "# **Feature Selection**\n",
    "\n",
    "We need to find the features which affects our target feature the most"
   ],
   "metadata": {
    "papermill": {
     "duration": 0.070606,
     "end_time": "2021-09-18T12:53:13.260117",
     "exception": false,
     "start_time": "2021-09-18T12:53:13.189511",
     "status": "completed"
    },
    "tags": []
   }
  },
  {
   "cell_type": "code",
   "execution_count": 40,
   "source": [
    "final_data.shape"
   ],
   "outputs": [
    {
     "output_type": "execute_result",
     "data": {
      "text/plain": [
       "(10682, 29)"
      ]
     },
     "metadata": {},
     "execution_count": 40
    }
   ],
   "metadata": {
    "execution": {
     "iopub.execute_input": "2021-09-18T12:53:13.406213Z",
     "iopub.status.busy": "2021-09-18T12:53:13.405531Z",
     "iopub.status.idle": "2021-09-18T12:53:13.408180Z",
     "shell.execute_reply": "2021-09-18T12:53:13.408624Z",
     "shell.execute_reply.started": "2021-09-18T12:08:06.139905Z"
    },
    "papermill": {
     "duration": 0.077444,
     "end_time": "2021-09-18T12:53:13.408752",
     "exception": false,
     "start_time": "2021-09-18T12:53:13.331308",
     "status": "completed"
    },
    "tags": []
   }
  },
  {
   "cell_type": "code",
   "execution_count": 41,
   "source": [
    "print(final_data.columns)"
   ],
   "outputs": [
    {
     "output_type": "stream",
     "name": "stdout",
     "text": [
      "Index(['Total_Stops', 'Price', 'Journey_day', 'Journey_month', 'Dep_hour',\n",
      "       'Dep_min', 'Arrival_hour', 'Arrival_min', 'Duration_hours',\n",
      "       'Duration_mins', 'Airline_Air India', 'Airline_GoAir', 'Airline_IndiGo',\n",
      "       'Airline_Jet Airways', 'Airline_Jet Airways Business',\n",
      "       'Airline_Multiple carriers',\n",
      "       'Airline_Multiple carriers Premium economy', 'Airline_SpiceJet',\n",
      "       'Airline_Vistara', 'Airline_Vistara Premium economy', 'Source_Chennai',\n",
      "       'Source_Delhi', 'Source_Kolkata', 'Source_Mumbai', 'Destination_Cochin',\n",
      "       'Destination_Delhi', 'Destination_Hyderabad', 'Destination_Kolkata',\n",
      "       'Destination_New Delhi'],\n",
      "      dtype='object')\n"
     ]
    }
   ],
   "metadata": {
    "execution": {
     "iopub.execute_input": "2021-09-18T12:53:13.553871Z",
     "iopub.status.busy": "2021-09-18T12:53:13.553224Z",
     "iopub.status.idle": "2021-09-18T12:53:13.555899Z",
     "shell.execute_reply": "2021-09-18T12:53:13.556480Z",
     "shell.execute_reply.started": "2021-09-18T12:08:06.903791Z"
    },
    "papermill": {
     "duration": 0.077673,
     "end_time": "2021-09-18T12:53:13.556640",
     "exception": false,
     "start_time": "2021-09-18T12:53:13.478967",
     "status": "completed"
    },
    "tags": []
   }
  },
  {
   "cell_type": "code",
   "execution_count": 42,
   "source": [
    "final_data.head()"
   ],
   "outputs": [
    {
     "output_type": "execute_result",
     "data": {
      "text/html": [
       "<div>\n",
       "<style scoped>\n",
       "    .dataframe tbody tr th:only-of-type {\n",
       "        vertical-align: middle;\n",
       "    }\n",
       "\n",
       "    .dataframe tbody tr th {\n",
       "        vertical-align: top;\n",
       "    }\n",
       "\n",
       "    .dataframe thead th {\n",
       "        text-align: right;\n",
       "    }\n",
       "</style>\n",
       "<table border=\"1\" class=\"dataframe\">\n",
       "  <thead>\n",
       "    <tr style=\"text-align: right;\">\n",
       "      <th></th>\n",
       "      <th>Total_Stops</th>\n",
       "      <th>Price</th>\n",
       "      <th>Journey_day</th>\n",
       "      <th>Journey_month</th>\n",
       "      <th>Dep_hour</th>\n",
       "      <th>Dep_min</th>\n",
       "      <th>Arrival_hour</th>\n",
       "      <th>Arrival_min</th>\n",
       "      <th>Duration_hours</th>\n",
       "      <th>Duration_mins</th>\n",
       "      <th>Airline_Air India</th>\n",
       "      <th>Airline_GoAir</th>\n",
       "      <th>Airline_IndiGo</th>\n",
       "      <th>Airline_Jet Airways</th>\n",
       "      <th>Airline_Jet Airways Business</th>\n",
       "      <th>Airline_Multiple carriers</th>\n",
       "      <th>Airline_Multiple carriers Premium economy</th>\n",
       "      <th>Airline_SpiceJet</th>\n",
       "      <th>Airline_Vistara</th>\n",
       "      <th>Airline_Vistara Premium economy</th>\n",
       "      <th>Source_Chennai</th>\n",
       "      <th>Source_Delhi</th>\n",
       "      <th>Source_Kolkata</th>\n",
       "      <th>Source_Mumbai</th>\n",
       "      <th>Destination_Cochin</th>\n",
       "      <th>Destination_Delhi</th>\n",
       "      <th>Destination_Hyderabad</th>\n",
       "      <th>Destination_Kolkata</th>\n",
       "      <th>Destination_New Delhi</th>\n",
       "    </tr>\n",
       "  </thead>\n",
       "  <tbody>\n",
       "    <tr>\n",
       "      <th>0</th>\n",
       "      <td>0.0</td>\n",
       "      <td>3897</td>\n",
       "      <td>24</td>\n",
       "      <td>3</td>\n",
       "      <td>22</td>\n",
       "      <td>20</td>\n",
       "      <td>1</td>\n",
       "      <td>10</td>\n",
       "      <td>2</td>\n",
       "      <td>50</td>\n",
       "      <td>0</td>\n",
       "      <td>0</td>\n",
       "      <td>1</td>\n",
       "      <td>0</td>\n",
       "      <td>0</td>\n",
       "      <td>0</td>\n",
       "      <td>0</td>\n",
       "      <td>0</td>\n",
       "      <td>0</td>\n",
       "      <td>0</td>\n",
       "      <td>0</td>\n",
       "      <td>0</td>\n",
       "      <td>0</td>\n",
       "      <td>0</td>\n",
       "      <td>0</td>\n",
       "      <td>0</td>\n",
       "      <td>0</td>\n",
       "      <td>0</td>\n",
       "      <td>1</td>\n",
       "    </tr>\n",
       "    <tr>\n",
       "      <th>1</th>\n",
       "      <td>2.0</td>\n",
       "      <td>7662</td>\n",
       "      <td>1</td>\n",
       "      <td>5</td>\n",
       "      <td>5</td>\n",
       "      <td>50</td>\n",
       "      <td>13</td>\n",
       "      <td>15</td>\n",
       "      <td>7</td>\n",
       "      <td>25</td>\n",
       "      <td>1</td>\n",
       "      <td>0</td>\n",
       "      <td>0</td>\n",
       "      <td>0</td>\n",
       "      <td>0</td>\n",
       "      <td>0</td>\n",
       "      <td>0</td>\n",
       "      <td>0</td>\n",
       "      <td>0</td>\n",
       "      <td>0</td>\n",
       "      <td>0</td>\n",
       "      <td>0</td>\n",
       "      <td>1</td>\n",
       "      <td>0</td>\n",
       "      <td>0</td>\n",
       "      <td>0</td>\n",
       "      <td>0</td>\n",
       "      <td>0</td>\n",
       "      <td>0</td>\n",
       "    </tr>\n",
       "    <tr>\n",
       "      <th>2</th>\n",
       "      <td>2.0</td>\n",
       "      <td>13882</td>\n",
       "      <td>9</td>\n",
       "      <td>6</td>\n",
       "      <td>9</td>\n",
       "      <td>25</td>\n",
       "      <td>4</td>\n",
       "      <td>25</td>\n",
       "      <td>19</td>\n",
       "      <td>0</td>\n",
       "      <td>0</td>\n",
       "      <td>0</td>\n",
       "      <td>0</td>\n",
       "      <td>1</td>\n",
       "      <td>0</td>\n",
       "      <td>0</td>\n",
       "      <td>0</td>\n",
       "      <td>0</td>\n",
       "      <td>0</td>\n",
       "      <td>0</td>\n",
       "      <td>0</td>\n",
       "      <td>1</td>\n",
       "      <td>0</td>\n",
       "      <td>0</td>\n",
       "      <td>1</td>\n",
       "      <td>0</td>\n",
       "      <td>0</td>\n",
       "      <td>0</td>\n",
       "      <td>0</td>\n",
       "    </tr>\n",
       "    <tr>\n",
       "      <th>3</th>\n",
       "      <td>1.0</td>\n",
       "      <td>6218</td>\n",
       "      <td>12</td>\n",
       "      <td>5</td>\n",
       "      <td>18</td>\n",
       "      <td>5</td>\n",
       "      <td>23</td>\n",
       "      <td>30</td>\n",
       "      <td>5</td>\n",
       "      <td>25</td>\n",
       "      <td>0</td>\n",
       "      <td>0</td>\n",
       "      <td>1</td>\n",
       "      <td>0</td>\n",
       "      <td>0</td>\n",
       "      <td>0</td>\n",
       "      <td>0</td>\n",
       "      <td>0</td>\n",
       "      <td>0</td>\n",
       "      <td>0</td>\n",
       "      <td>0</td>\n",
       "      <td>0</td>\n",
       "      <td>1</td>\n",
       "      <td>0</td>\n",
       "      <td>0</td>\n",
       "      <td>0</td>\n",
       "      <td>0</td>\n",
       "      <td>0</td>\n",
       "      <td>0</td>\n",
       "    </tr>\n",
       "    <tr>\n",
       "      <th>4</th>\n",
       "      <td>1.0</td>\n",
       "      <td>13302</td>\n",
       "      <td>1</td>\n",
       "      <td>3</td>\n",
       "      <td>16</td>\n",
       "      <td>50</td>\n",
       "      <td>21</td>\n",
       "      <td>35</td>\n",
       "      <td>4</td>\n",
       "      <td>45</td>\n",
       "      <td>0</td>\n",
       "      <td>0</td>\n",
       "      <td>1</td>\n",
       "      <td>0</td>\n",
       "      <td>0</td>\n",
       "      <td>0</td>\n",
       "      <td>0</td>\n",
       "      <td>0</td>\n",
       "      <td>0</td>\n",
       "      <td>0</td>\n",
       "      <td>0</td>\n",
       "      <td>0</td>\n",
       "      <td>0</td>\n",
       "      <td>0</td>\n",
       "      <td>0</td>\n",
       "      <td>0</td>\n",
       "      <td>0</td>\n",
       "      <td>0</td>\n",
       "      <td>1</td>\n",
       "    </tr>\n",
       "  </tbody>\n",
       "</table>\n",
       "</div>"
      ],
      "text/plain": [
       "   Total_Stops  Price  Journey_day  Journey_month  Dep_hour  Dep_min  \\\n",
       "0          0.0   3897           24              3        22       20   \n",
       "1          2.0   7662            1              5         5       50   \n",
       "2          2.0  13882            9              6         9       25   \n",
       "3          1.0   6218           12              5        18        5   \n",
       "4          1.0  13302            1              3        16       50   \n",
       "\n",
       "   Arrival_hour  Arrival_min  Duration_hours  Duration_mins  \\\n",
       "0             1           10               2             50   \n",
       "1            13           15               7             25   \n",
       "2             4           25              19              0   \n",
       "3            23           30               5             25   \n",
       "4            21           35               4             45   \n",
       "\n",
       "   Airline_Air India  Airline_GoAir  Airline_IndiGo  Airline_Jet Airways  \\\n",
       "0                  0              0               1                    0   \n",
       "1                  1              0               0                    0   \n",
       "2                  0              0               0                    1   \n",
       "3                  0              0               1                    0   \n",
       "4                  0              0               1                    0   \n",
       "\n",
       "   Airline_Jet Airways Business  Airline_Multiple carriers  \\\n",
       "0                             0                          0   \n",
       "1                             0                          0   \n",
       "2                             0                          0   \n",
       "3                             0                          0   \n",
       "4                             0                          0   \n",
       "\n",
       "   Airline_Multiple carriers Premium economy  Airline_SpiceJet  \\\n",
       "0                                          0                 0   \n",
       "1                                          0                 0   \n",
       "2                                          0                 0   \n",
       "3                                          0                 0   \n",
       "4                                          0                 0   \n",
       "\n",
       "   Airline_Vistara  Airline_Vistara Premium economy  Source_Chennai  \\\n",
       "0                0                                0               0   \n",
       "1                0                                0               0   \n",
       "2                0                                0               0   \n",
       "3                0                                0               0   \n",
       "4                0                                0               0   \n",
       "\n",
       "   Source_Delhi  Source_Kolkata  Source_Mumbai  Destination_Cochin  \\\n",
       "0             0               0              0                   0   \n",
       "1             0               1              0                   0   \n",
       "2             1               0              0                   1   \n",
       "3             0               1              0                   0   \n",
       "4             0               0              0                   0   \n",
       "\n",
       "   Destination_Delhi  Destination_Hyderabad  Destination_Kolkata  \\\n",
       "0                  0                      0                    0   \n",
       "1                  0                      0                    0   \n",
       "2                  0                      0                    0   \n",
       "3                  0                      0                    0   \n",
       "4                  0                      0                    0   \n",
       "\n",
       "   Destination_New Delhi  \n",
       "0                      1  \n",
       "1                      0  \n",
       "2                      0  \n",
       "3                      0  \n",
       "4                      1  "
      ]
     },
     "metadata": {},
     "execution_count": 42
    }
   ],
   "metadata": {
    "execution": {
     "iopub.execute_input": "2021-09-18T12:53:13.722449Z",
     "iopub.status.busy": "2021-09-18T12:53:13.711823Z",
     "iopub.status.idle": "2021-09-18T12:53:13.725323Z",
     "shell.execute_reply": "2021-09-18T12:53:13.725813Z",
     "shell.execute_reply.started": "2021-09-18T12:08:07.715651Z"
    },
    "papermill": {
     "duration": 0.09724,
     "end_time": "2021-09-18T12:53:13.725948",
     "exception": false,
     "start_time": "2021-09-18T12:53:13.628708",
     "status": "completed"
    },
    "tags": []
   }
  },
  {
   "cell_type": "code",
   "execution_count": 43,
   "source": [
    "X = final_data.drop('Price', axis = 1)\r\n",
    "y = final_data['Price']"
   ],
   "outputs": [],
   "metadata": {
    "execution": {
     "iopub.execute_input": "2021-09-18T12:53:13.876530Z",
     "iopub.status.busy": "2021-09-18T12:53:13.875673Z",
     "iopub.status.idle": "2021-09-18T12:53:13.881131Z",
     "shell.execute_reply": "2021-09-18T12:53:13.880695Z",
     "shell.execute_reply.started": "2021-09-18T12:08:08.307053Z"
    },
    "papermill": {
     "duration": 0.079933,
     "end_time": "2021-09-18T12:53:13.881250",
     "exception": false,
     "start_time": "2021-09-18T12:53:13.801317",
     "status": "completed"
    },
    "tags": []
   }
  },
  {
   "cell_type": "code",
   "execution_count": 44,
   "source": [
    "X.head()"
   ],
   "outputs": [
    {
     "output_type": "execute_result",
     "data": {
      "text/html": [
       "<div>\n",
       "<style scoped>\n",
       "    .dataframe tbody tr th:only-of-type {\n",
       "        vertical-align: middle;\n",
       "    }\n",
       "\n",
       "    .dataframe tbody tr th {\n",
       "        vertical-align: top;\n",
       "    }\n",
       "\n",
       "    .dataframe thead th {\n",
       "        text-align: right;\n",
       "    }\n",
       "</style>\n",
       "<table border=\"1\" class=\"dataframe\">\n",
       "  <thead>\n",
       "    <tr style=\"text-align: right;\">\n",
       "      <th></th>\n",
       "      <th>Total_Stops</th>\n",
       "      <th>Journey_day</th>\n",
       "      <th>Journey_month</th>\n",
       "      <th>Dep_hour</th>\n",
       "      <th>Dep_min</th>\n",
       "      <th>Arrival_hour</th>\n",
       "      <th>Arrival_min</th>\n",
       "      <th>Duration_hours</th>\n",
       "      <th>Duration_mins</th>\n",
       "      <th>Airline_Air India</th>\n",
       "      <th>Airline_GoAir</th>\n",
       "      <th>Airline_IndiGo</th>\n",
       "      <th>Airline_Jet Airways</th>\n",
       "      <th>Airline_Jet Airways Business</th>\n",
       "      <th>Airline_Multiple carriers</th>\n",
       "      <th>Airline_Multiple carriers Premium economy</th>\n",
       "      <th>Airline_SpiceJet</th>\n",
       "      <th>Airline_Vistara</th>\n",
       "      <th>Airline_Vistara Premium economy</th>\n",
       "      <th>Source_Chennai</th>\n",
       "      <th>Source_Delhi</th>\n",
       "      <th>Source_Kolkata</th>\n",
       "      <th>Source_Mumbai</th>\n",
       "      <th>Destination_Cochin</th>\n",
       "      <th>Destination_Delhi</th>\n",
       "      <th>Destination_Hyderabad</th>\n",
       "      <th>Destination_Kolkata</th>\n",
       "      <th>Destination_New Delhi</th>\n",
       "    </tr>\n",
       "  </thead>\n",
       "  <tbody>\n",
       "    <tr>\n",
       "      <th>0</th>\n",
       "      <td>0.0</td>\n",
       "      <td>24</td>\n",
       "      <td>3</td>\n",
       "      <td>22</td>\n",
       "      <td>20</td>\n",
       "      <td>1</td>\n",
       "      <td>10</td>\n",
       "      <td>2</td>\n",
       "      <td>50</td>\n",
       "      <td>0</td>\n",
       "      <td>0</td>\n",
       "      <td>1</td>\n",
       "      <td>0</td>\n",
       "      <td>0</td>\n",
       "      <td>0</td>\n",
       "      <td>0</td>\n",
       "      <td>0</td>\n",
       "      <td>0</td>\n",
       "      <td>0</td>\n",
       "      <td>0</td>\n",
       "      <td>0</td>\n",
       "      <td>0</td>\n",
       "      <td>0</td>\n",
       "      <td>0</td>\n",
       "      <td>0</td>\n",
       "      <td>0</td>\n",
       "      <td>0</td>\n",
       "      <td>1</td>\n",
       "    </tr>\n",
       "    <tr>\n",
       "      <th>1</th>\n",
       "      <td>2.0</td>\n",
       "      <td>1</td>\n",
       "      <td>5</td>\n",
       "      <td>5</td>\n",
       "      <td>50</td>\n",
       "      <td>13</td>\n",
       "      <td>15</td>\n",
       "      <td>7</td>\n",
       "      <td>25</td>\n",
       "      <td>1</td>\n",
       "      <td>0</td>\n",
       "      <td>0</td>\n",
       "      <td>0</td>\n",
       "      <td>0</td>\n",
       "      <td>0</td>\n",
       "      <td>0</td>\n",
       "      <td>0</td>\n",
       "      <td>0</td>\n",
       "      <td>0</td>\n",
       "      <td>0</td>\n",
       "      <td>0</td>\n",
       "      <td>1</td>\n",
       "      <td>0</td>\n",
       "      <td>0</td>\n",
       "      <td>0</td>\n",
       "      <td>0</td>\n",
       "      <td>0</td>\n",
       "      <td>0</td>\n",
       "    </tr>\n",
       "    <tr>\n",
       "      <th>2</th>\n",
       "      <td>2.0</td>\n",
       "      <td>9</td>\n",
       "      <td>6</td>\n",
       "      <td>9</td>\n",
       "      <td>25</td>\n",
       "      <td>4</td>\n",
       "      <td>25</td>\n",
       "      <td>19</td>\n",
       "      <td>0</td>\n",
       "      <td>0</td>\n",
       "      <td>0</td>\n",
       "      <td>0</td>\n",
       "      <td>1</td>\n",
       "      <td>0</td>\n",
       "      <td>0</td>\n",
       "      <td>0</td>\n",
       "      <td>0</td>\n",
       "      <td>0</td>\n",
       "      <td>0</td>\n",
       "      <td>0</td>\n",
       "      <td>1</td>\n",
       "      <td>0</td>\n",
       "      <td>0</td>\n",
       "      <td>1</td>\n",
       "      <td>0</td>\n",
       "      <td>0</td>\n",
       "      <td>0</td>\n",
       "      <td>0</td>\n",
       "    </tr>\n",
       "    <tr>\n",
       "      <th>3</th>\n",
       "      <td>1.0</td>\n",
       "      <td>12</td>\n",
       "      <td>5</td>\n",
       "      <td>18</td>\n",
       "      <td>5</td>\n",
       "      <td>23</td>\n",
       "      <td>30</td>\n",
       "      <td>5</td>\n",
       "      <td>25</td>\n",
       "      <td>0</td>\n",
       "      <td>0</td>\n",
       "      <td>1</td>\n",
       "      <td>0</td>\n",
       "      <td>0</td>\n",
       "      <td>0</td>\n",
       "      <td>0</td>\n",
       "      <td>0</td>\n",
       "      <td>0</td>\n",
       "      <td>0</td>\n",
       "      <td>0</td>\n",
       "      <td>0</td>\n",
       "      <td>1</td>\n",
       "      <td>0</td>\n",
       "      <td>0</td>\n",
       "      <td>0</td>\n",
       "      <td>0</td>\n",
       "      <td>0</td>\n",
       "      <td>0</td>\n",
       "    </tr>\n",
       "    <tr>\n",
       "      <th>4</th>\n",
       "      <td>1.0</td>\n",
       "      <td>1</td>\n",
       "      <td>3</td>\n",
       "      <td>16</td>\n",
       "      <td>50</td>\n",
       "      <td>21</td>\n",
       "      <td>35</td>\n",
       "      <td>4</td>\n",
       "      <td>45</td>\n",
       "      <td>0</td>\n",
       "      <td>0</td>\n",
       "      <td>1</td>\n",
       "      <td>0</td>\n",
       "      <td>0</td>\n",
       "      <td>0</td>\n",
       "      <td>0</td>\n",
       "      <td>0</td>\n",
       "      <td>0</td>\n",
       "      <td>0</td>\n",
       "      <td>0</td>\n",
       "      <td>0</td>\n",
       "      <td>0</td>\n",
       "      <td>0</td>\n",
       "      <td>0</td>\n",
       "      <td>0</td>\n",
       "      <td>0</td>\n",
       "      <td>0</td>\n",
       "      <td>1</td>\n",
       "    </tr>\n",
       "  </tbody>\n",
       "</table>\n",
       "</div>"
      ],
      "text/plain": [
       "   Total_Stops  Journey_day  Journey_month  Dep_hour  Dep_min  Arrival_hour  \\\n",
       "0          0.0           24              3        22       20             1   \n",
       "1          2.0            1              5         5       50            13   \n",
       "2          2.0            9              6         9       25             4   \n",
       "3          1.0           12              5        18        5            23   \n",
       "4          1.0            1              3        16       50            21   \n",
       "\n",
       "   Arrival_min  Duration_hours  Duration_mins  Airline_Air India  \\\n",
       "0           10               2             50                  0   \n",
       "1           15               7             25                  1   \n",
       "2           25              19              0                  0   \n",
       "3           30               5             25                  0   \n",
       "4           35               4             45                  0   \n",
       "\n",
       "   Airline_GoAir  Airline_IndiGo  Airline_Jet Airways  \\\n",
       "0              0               1                    0   \n",
       "1              0               0                    0   \n",
       "2              0               0                    1   \n",
       "3              0               1                    0   \n",
       "4              0               1                    0   \n",
       "\n",
       "   Airline_Jet Airways Business  Airline_Multiple carriers  \\\n",
       "0                             0                          0   \n",
       "1                             0                          0   \n",
       "2                             0                          0   \n",
       "3                             0                          0   \n",
       "4                             0                          0   \n",
       "\n",
       "   Airline_Multiple carriers Premium economy  Airline_SpiceJet  \\\n",
       "0                                          0                 0   \n",
       "1                                          0                 0   \n",
       "2                                          0                 0   \n",
       "3                                          0                 0   \n",
       "4                                          0                 0   \n",
       "\n",
       "   Airline_Vistara  Airline_Vistara Premium economy  Source_Chennai  \\\n",
       "0                0                                0               0   \n",
       "1                0                                0               0   \n",
       "2                0                                0               0   \n",
       "3                0                                0               0   \n",
       "4                0                                0               0   \n",
       "\n",
       "   Source_Delhi  Source_Kolkata  Source_Mumbai  Destination_Cochin  \\\n",
       "0             0               0              0                   0   \n",
       "1             0               1              0                   0   \n",
       "2             1               0              0                   1   \n",
       "3             0               1              0                   0   \n",
       "4             0               0              0                   0   \n",
       "\n",
       "   Destination_Delhi  Destination_Hyderabad  Destination_Kolkata  \\\n",
       "0                  0                      0                    0   \n",
       "1                  0                      0                    0   \n",
       "2                  0                      0                    0   \n",
       "3                  0                      0                    0   \n",
       "4                  0                      0                    0   \n",
       "\n",
       "   Destination_New Delhi  \n",
       "0                      1  \n",
       "1                      0  \n",
       "2                      0  \n",
       "3                      0  \n",
       "4                      1  "
      ]
     },
     "metadata": {},
     "execution_count": 44
    }
   ],
   "metadata": {
    "execution": {
     "iopub.execute_input": "2021-09-18T12:53:14.043024Z",
     "iopub.status.busy": "2021-09-18T12:53:14.042218Z",
     "iopub.status.idle": "2021-09-18T12:53:14.045524Z",
     "shell.execute_reply": "2021-09-18T12:53:14.046016Z",
     "shell.execute_reply.started": "2021-09-18T12:08:09.311110Z"
    },
    "papermill": {
     "duration": 0.093649,
     "end_time": "2021-09-18T12:53:14.046166",
     "exception": false,
     "start_time": "2021-09-18T12:53:13.952517",
     "status": "completed"
    },
    "tags": []
   }
  },
  {
   "cell_type": "code",
   "execution_count": 45,
   "source": [
    "y.head()"
   ],
   "outputs": [
    {
     "output_type": "execute_result",
     "data": {
      "text/plain": [
       "0     3897\n",
       "1     7662\n",
       "2    13882\n",
       "3     6218\n",
       "4    13302\n",
       "Name: Price, dtype: int64"
      ]
     },
     "metadata": {},
     "execution_count": 45
    }
   ],
   "metadata": {
    "execution": {
     "iopub.execute_input": "2021-09-18T12:53:14.207256Z",
     "iopub.status.busy": "2021-09-18T12:53:14.206588Z",
     "iopub.status.idle": "2021-09-18T12:53:14.209264Z",
     "shell.execute_reply": "2021-09-18T12:53:14.209765Z",
     "shell.execute_reply.started": "2021-09-18T12:08:10.118507Z"
    },
    "papermill": {
     "duration": 0.080655,
     "end_time": "2021-09-18T12:53:14.209898",
     "exception": false,
     "start_time": "2021-09-18T12:53:14.129243",
     "status": "completed"
    },
    "tags": []
   }
  },
  {
   "cell_type": "code",
   "execution_count": 46,
   "source": [
    "final_data.corr()['Price'].sort_values()"
   ],
   "outputs": [
    {
     "output_type": "execute_result",
     "data": {
      "text/plain": [
       "Airline_IndiGo                              -0.361070\n",
       "Destination_Delhi                           -0.313417\n",
       "Airline_SpiceJet                            -0.296565\n",
       "Destination_Hyderabad                       -0.230755\n",
       "Source_Mumbai                               -0.230755\n",
       "Destination_Kolkata                         -0.179223\n",
       "Source_Chennai                              -0.179223\n",
       "Journey_day                                 -0.153774\n",
       "Duration_mins                               -0.124855\n",
       "Journey_month                               -0.103643\n",
       "Airline_GoAir                               -0.095151\n",
       "Arrival_min                                 -0.086155\n",
       "Airline_Vistara                             -0.060654\n",
       "Dep_min                                     -0.024458\n",
       "Airline_Vistara Premium economy             -0.000454\n",
       "Dep_hour                                     0.006799\n",
       "Source_Kolkata                               0.009358\n",
       "Airline_Multiple carriers Premium economy    0.017650\n",
       "Arrival_hour                                 0.024244\n",
       "Airline_Air India                            0.050432\n",
       "Airline_Multiple carriers                    0.139793\n",
       "Destination_New Delhi                        0.189777\n",
       "Airline_Jet Airways Business                 0.253303\n",
       "Destination_Cochin                           0.270676\n",
       "Source_Delhi                                 0.270676\n",
       "Airline_Jet Airways                          0.416124\n",
       "Duration_hours                               0.508778\n",
       "Total_Stops                                  0.603897\n",
       "Price                                        1.000000\n",
       "Name: Price, dtype: float64"
      ]
     },
     "metadata": {},
     "execution_count": 46
    }
   ],
   "metadata": {
    "execution": {
     "iopub.execute_input": "2021-09-18T12:53:14.359540Z",
     "iopub.status.busy": "2021-09-18T12:53:14.358668Z",
     "iopub.status.idle": "2021-09-18T12:53:14.388989Z",
     "shell.execute_reply": "2021-09-18T12:53:14.388575Z",
     "shell.execute_reply.started": "2021-09-18T12:08:10.872995Z"
    },
    "papermill": {
     "duration": 0.106237,
     "end_time": "2021-09-18T12:53:14.389089",
     "exception": false,
     "start_time": "2021-09-18T12:53:14.282852",
     "status": "completed"
    },
    "tags": []
   }
  },
  {
   "cell_type": "markdown",
   "source": [
    "As we can see ***Total_Stops*** affects the price mostly. \n",
    "So ***Total_Stops*** is the most important feature here.\n",
    "Now we can visualize this correlation with the help of a *heatmap*."
   ],
   "metadata": {
    "papermill": {
     "duration": 0.075274,
     "end_time": "2021-09-18T12:53:14.543731",
     "exception": false,
     "start_time": "2021-09-18T12:53:14.468457",
     "status": "completed"
    },
    "tags": []
   }
  },
  {
   "cell_type": "code",
   "execution_count": 47,
   "source": [
    "plt.figure(figsize = (20,20))\r\n",
    "sns.heatmap(train_data.corr(), annot = True)\r\n",
    "\r\n",
    "plt.show()"
   ],
   "outputs": [
    {
     "output_type": "display_data",
     "data": {
      "image/png": "[encoded data removed]",
      "text/plain": [
       "<Figure size 1440x1440 with 2 Axes>"
      ]
     },
     "metadata": {
      "needs_background": "light"
     }
    }
   ],
   "metadata": {
    "execution": {
     "iopub.execute_input": "2021-09-18T12:53:14.695995Z",
     "iopub.status.busy": "2021-09-18T12:53:14.695277Z",
     "iopub.status.idle": "2021-09-18T12:53:15.532249Z",
     "shell.execute_reply": "2021-09-18T12:53:15.532673Z",
     "shell.execute_reply.started": "2021-09-18T12:08:12.953923Z"
    },
    "papermill": {
     "duration": 0.916173,
     "end_time": "2021-09-18T12:53:15.532830",
     "exception": false,
     "start_time": "2021-09-18T12:53:14.616657",
     "status": "completed"
    },
    "tags": []
   }
  },
  {
   "cell_type": "code",
   "execution_count": 48,
   "source": [
    "selection = ExtraTreesRegressor()\r\n",
    "selection.fit(X, y)"
   ],
   "outputs": [
    {
     "output_type": "execute_result",
     "data": {
      "text/plain": [
       "ExtraTreesRegressor()"
      ]
     },
     "metadata": {},
     "execution_count": 48
    }
   ],
   "metadata": {
    "execution": {
     "iopub.execute_input": "2021-09-18T12:53:15.691723Z",
     "iopub.status.busy": "2021-09-18T12:53:15.690964Z",
     "iopub.status.idle": "2021-09-18T12:53:18.075753Z",
     "shell.execute_reply": "2021-09-18T12:53:18.075299Z",
     "shell.execute_reply.started": "2021-09-18T12:08:14.241654Z"
    },
    "papermill": {
     "duration": 2.467004,
     "end_time": "2021-09-18T12:53:18.075878",
     "exception": false,
     "start_time": "2021-09-18T12:53:15.608874",
     "status": "completed"
    },
    "tags": []
   }
  },
  {
   "cell_type": "code",
   "execution_count": 49,
   "source": [
    "print(selection.feature_importances_)"
   ],
   "outputs": [
    {
     "output_type": "stream",
     "name": "stdout",
     "text": [
      "[2.46876753e-01 1.44153439e-01 5.28293679e-02 2.46187851e-02\n",
      " 2.10817406e-02 2.78769761e-02 1.91175510e-02 1.05765498e-01\n",
      " 1.77678054e-02 9.36736260e-03 2.27641539e-03 1.92490971e-02\n",
      " 1.34552591e-01 6.68292503e-02 1.74737556e-02 8.42582122e-04\n",
      " 3.69305800e-03 4.99304705e-03 8.93020371e-05 4.55476522e-04\n",
      " 9.57289296e-03 3.41597476e-03 7.25441791e-03 1.17027727e-02\n",
      " 1.60748211e-02 6.76092978e-03 4.84046001e-04 2.48242914e-02]\n"
     ]
    }
   ],
   "metadata": {
    "execution": {
     "iopub.execute_input": "2021-09-18T12:53:18.232998Z",
     "iopub.status.busy": "2021-09-18T12:53:18.232194Z",
     "iopub.status.idle": "2021-09-18T12:53:18.260053Z",
     "shell.execute_reply": "2021-09-18T12:53:18.259469Z",
     "shell.execute_reply.started": "2021-09-18T12:08:17.244701Z"
    },
    "papermill": {
     "duration": 0.108109,
     "end_time": "2021-09-18T12:53:18.260193",
     "exception": false,
     "start_time": "2021-09-18T12:53:18.152084",
     "status": "completed"
    },
    "tags": []
   }
  },
  {
   "cell_type": "markdown",
   "source": [
    "A plot of feature importance in prediction of the flight price."
   ],
   "metadata": {
    "papermill": {
     "duration": 0.075644,
     "end_time": "2021-09-18T12:53:18.413612",
     "exception": false,
     "start_time": "2021-09-18T12:53:18.337968",
     "status": "completed"
    },
    "tags": []
   }
  },
  {
   "cell_type": "code",
   "execution_count": 50,
   "source": [
    "plt.figure(figsize = (25,18))\r\n",
    "feat_importances = pd.Series(selection.feature_importances_, index=X.columns)\r\n",
    "feat_importances.nlargest(20).plot(kind='barh')\r\n",
    "plt.show()"
   ],
   "outputs": [
    {
     "output_type": "display_data",
     "data": {
      "image/png": "[encoded data removed]",
      "text/plain": [
       "<Figure size 1800x1296 with 1 Axes>"
      ]
     },
     "metadata": {
      "needs_background": "light"
     }
    }
   ],
   "metadata": {
    "execution": {
     "iopub.execute_input": "2021-09-18T12:53:18.570112Z",
     "iopub.status.busy": "2021-09-18T12:53:18.569385Z",
     "iopub.status.idle": "2021-09-18T12:53:18.943649Z",
     "shell.execute_reply": "2021-09-18T12:53:18.944021Z",
     "shell.execute_reply.started": "2021-09-18T12:08:18.076385Z"
    },
    "papermill": {
     "duration": 0.454723,
     "end_time": "2021-09-18T12:53:18.944176",
     "exception": false,
     "start_time": "2021-09-18T12:53:18.489453",
     "status": "completed"
    },
    "tags": []
   }
  },
  {
   "cell_type": "markdown",
   "source": [
    "# **Using Random Forests to fit an initial vague model**"
   ],
   "metadata": {
    "papermill": {
     "duration": 0.13402,
     "end_time": "2021-09-18T12:53:19.158007",
     "exception": false,
     "start_time": "2021-09-18T12:53:19.023987",
     "status": "completed"
    },
    "tags": []
   }
  },
  {
   "cell_type": "markdown",
   "source": [
    "**Test train split**"
   ],
   "metadata": {
    "papermill": {
     "duration": 0.13844,
     "end_time": "2021-09-18T12:53:19.421368",
     "exception": false,
     "start_time": "2021-09-18T12:53:19.282928",
     "status": "completed"
    },
    "tags": []
   }
  },
  {
   "cell_type": "code",
   "execution_count": 51,
   "source": [
    "X_train, X_test, y_train, y_test = train_test_split(X, y, test_size = 0.2, random_state = 42)\r\n"
   ],
   "outputs": [],
   "metadata": {
    "execution": {
     "iopub.execute_input": "2021-09-18T12:53:19.827393Z",
     "iopub.status.busy": "2021-09-18T12:53:19.826797Z",
     "iopub.status.idle": "2021-09-18T12:53:19.836380Z",
     "shell.execute_reply": "2021-09-18T12:53:19.836999Z",
     "shell.execute_reply.started": "2021-09-18T12:08:20.416294Z"
    },
    "papermill": {
     "duration": 0.232055,
     "end_time": "2021-09-18T12:53:19.837200",
     "exception": false,
     "start_time": "2021-09-18T12:53:19.605145",
     "status": "completed"
    },
    "tags": []
   }
  },
  {
   "cell_type": "markdown",
   "source": [
    "**Scaling the data**"
   ],
   "metadata": {
    "papermill": {
     "duration": 0.125221,
     "end_time": "2021-09-18T12:53:20.086775",
     "exception": false,
     "start_time": "2021-09-18T12:53:19.961554",
     "status": "completed"
    },
    "tags": []
   }
  },
  {
   "cell_type": "code",
   "execution_count": 52,
   "source": [
    "scaler = StandardScaler()\r\n",
    "scaled_X_train = scaler.fit_transform(X_train)\r\n",
    "scaled_X_test = scaler.transform(X_test)"
   ],
   "outputs": [],
   "metadata": {
    "execution": {
     "iopub.execute_input": "2021-09-18T12:53:20.359477Z",
     "iopub.status.busy": "2021-09-18T12:53:20.358485Z",
     "iopub.status.idle": "2021-09-18T12:53:20.364899Z",
     "shell.execute_reply": "2021-09-18T12:53:20.365415Z",
     "shell.execute_reply.started": "2021-09-18T12:08:23.475476Z"
    },
    "papermill": {
     "duration": 0.14899,
     "end_time": "2021-09-18T12:53:20.365606",
     "exception": false,
     "start_time": "2021-09-18T12:53:20.216616",
     "status": "completed"
    },
    "tags": []
   }
  },
  {
   "cell_type": "markdown",
   "source": [
    "**Declaring the model and fitting the train data on it**"
   ],
   "metadata": {
    "papermill": {
     "duration": 0.127028,
     "end_time": "2021-09-18T12:53:20.619654",
     "exception": false,
     "start_time": "2021-09-18T12:53:20.492626",
     "status": "completed"
    },
    "tags": []
   }
  },
  {
   "cell_type": "code",
   "execution_count": 53,
   "source": [
    "reg_rf = RandomForestRegressor()\r\n",
    "reg_rf.fit(scaled_X_train, y_train)"
   ],
   "outputs": [
    {
     "output_type": "execute_result",
     "data": {
      "text/plain": [
       "RandomForestRegressor()"
      ]
     },
     "metadata": {},
     "execution_count": 53
    }
   ],
   "metadata": {
    "execution": {
     "iopub.execute_input": "2021-09-18T12:53:20.786659Z",
     "iopub.status.busy": "2021-09-18T12:53:20.785821Z",
     "iopub.status.idle": "2021-09-18T12:53:23.311580Z",
     "shell.execute_reply": "2021-09-18T12:53:23.312000Z",
     "shell.execute_reply.started": "2021-09-18T12:08:25.465656Z"
    },
    "papermill": {
     "duration": 2.608053,
     "end_time": "2021-09-18T12:53:23.312146",
     "exception": false,
     "start_time": "2021-09-18T12:53:20.704093",
     "status": "completed"
    },
    "tags": []
   }
  },
  {
   "cell_type": "markdown",
   "source": [
    "**Making Predictions**"
   ],
   "metadata": {
    "papermill": {
     "duration": 0.076429,
     "end_time": "2021-09-18T12:53:23.465292",
     "exception": false,
     "start_time": "2021-09-18T12:53:23.388863",
     "status": "completed"
    },
    "tags": []
   }
  },
  {
   "cell_type": "code",
   "execution_count": 54,
   "source": [
    "y_pred = reg_rf.predict(scaled_X_test)"
   ],
   "outputs": [],
   "metadata": {
    "execution": {
     "iopub.execute_input": "2021-09-18T12:53:23.623837Z",
     "iopub.status.busy": "2021-09-18T12:53:23.623050Z",
     "iopub.status.idle": "2021-09-18T12:53:23.680207Z",
     "shell.execute_reply": "2021-09-18T12:53:23.679813Z",
     "shell.execute_reply.started": "2021-09-18T12:42:04.156854Z"
    },
    "papermill": {
     "duration": 0.138202,
     "end_time": "2021-09-18T12:53:23.680318",
     "exception": false,
     "start_time": "2021-09-18T12:53:23.542116",
     "status": "completed"
    },
    "tags": []
   }
  },
  {
   "cell_type": "code",
   "execution_count": 55,
   "source": [
    "reg_rf.score(X_train, y_train)\r\n"
   ],
   "outputs": [
    {
     "output_type": "execute_result",
     "data": {
      "text/plain": [
       "0.25055861978764826"
      ]
     },
     "metadata": {},
     "execution_count": 55
    }
   ],
   "metadata": {
    "execution": {
     "iopub.execute_input": "2021-09-18T12:53:23.841121Z",
     "iopub.status.busy": "2021-09-18T12:53:23.840327Z",
     "iopub.status.idle": "2021-09-18T12:53:23.900099Z",
     "shell.execute_reply": "2021-09-18T12:53:23.899694Z",
     "shell.execute_reply.started": "2021-09-18T12:42:05.343723Z"
    },
    "papermill": {
     "duration": 0.143171,
     "end_time": "2021-09-18T12:53:23.900210",
     "exception": false,
     "start_time": "2021-09-18T12:53:23.757039",
     "status": "completed"
    },
    "tags": []
   }
  },
  {
   "cell_type": "code",
   "execution_count": 56,
   "source": [
    "sns.displot(y_test-y_pred, kde = True)\r\n",
    "plt.show()"
   ],
   "outputs": [
    {
     "output_type": "display_data",
     "data": {
      "image/png": "[encoded data removed]",
      "text/plain": [
       "<Figure size 360x360 with 1 Axes>"
      ]
     },
     "metadata": {
      "needs_background": "light"
     }
    }
   ],
   "metadata": {
    "execution": {
     "iopub.execute_input": "2021-09-18T12:53:24.058931Z",
     "iopub.status.busy": "2021-09-18T12:53:24.058171Z",
     "iopub.status.idle": "2021-09-18T12:53:24.819911Z",
     "shell.execute_reply": "2021-09-18T12:53:24.819471Z",
     "shell.execute_reply.started": "2021-09-18T12:42:09.883236Z"
    },
    "papermill": {
     "duration": 0.842723,
     "end_time": "2021-09-18T12:53:24.820036",
     "exception": false,
     "start_time": "2021-09-18T12:53:23.977313",
     "status": "completed"
    },
    "tags": []
   }
  },
  {
   "cell_type": "code",
   "execution_count": 57,
   "source": [
    "\r\n",
    "plt.scatter(y_test, y_pred, alpha = 0.5)\r\n",
    "plt.xlabel(\"y_test\")\r\n",
    "plt.ylabel(\"y_pred\")\r\n",
    "plt.show()"
   ],
   "outputs": [
    {
     "output_type": "display_data",
     "data": {
      "image/png": "[encoded data removed]",
      "text/plain": [
       "<Figure size 432x288 with 1 Axes>"
      ]
     },
     "metadata": {
      "needs_background": "light"
     }
    }
   ],
   "metadata": {
    "execution": {
     "iopub.execute_input": "2021-09-18T12:53:25.004264Z",
     "iopub.status.busy": "2021-09-18T12:53:25.003473Z",
     "iopub.status.idle": "2021-09-18T12:53:25.168228Z",
     "shell.execute_reply": "2021-09-18T12:53:25.167824Z",
     "shell.execute_reply.started": "2021-09-18T12:42:15.272024Z"
    },
    "papermill": {
     "duration": 0.269024,
     "end_time": "2021-09-18T12:53:25.168346",
     "exception": false,
     "start_time": "2021-09-18T12:53:24.899322",
     "status": "completed"
    },
    "tags": []
   }
  },
  {
   "cell_type": "code",
   "execution_count": 58,
   "source": [
    "print('MAE:', mean_absolute_error(y_test, y_pred))\r\n",
    "print('MSE:', mean_squared_error(y_test, y_pred))\r\n",
    "print('RMSE:', np.sqrt(mean_squared_error(y_test, y_pred)))"
   ],
   "outputs": [
    {
     "output_type": "stream",
     "name": "stdout",
     "text": [
      "MAE: 1183.3857448699846\n",
      "MSE: 4402171.156029499\n",
      "RMSE: 2098.1351615254675\n"
     ]
    }
   ],
   "metadata": {
    "execution": {
     "iopub.execute_input": "2021-09-18T12:53:25.331046Z",
     "iopub.status.busy": "2021-09-18T12:53:25.330264Z",
     "iopub.status.idle": "2021-09-18T12:53:25.338877Z",
     "shell.execute_reply": "2021-09-18T12:53:25.338260Z",
     "shell.execute_reply.started": "2021-09-18T12:42:18.110438Z"
    },
    "papermill": {
     "duration": 0.090708,
     "end_time": "2021-09-18T12:53:25.339020",
     "exception": false,
     "start_time": "2021-09-18T12:53:25.248312",
     "status": "completed"
    },
    "tags": []
   }
  },
  {
   "cell_type": "code",
   "execution_count": 59,
   "source": [
    "r2_score(y_test, y_pred)"
   ],
   "outputs": [
    {
     "output_type": "execute_result",
     "data": {
      "text/plain": [
       "0.7958371367810333"
      ]
     },
     "metadata": {},
     "execution_count": 59
    }
   ],
   "metadata": {
    "execution": {
     "iopub.execute_input": "2021-09-18T12:53:25.505549Z",
     "iopub.status.busy": "2021-09-18T12:53:25.504908Z",
     "iopub.status.idle": "2021-09-18T12:53:25.507476Z",
     "shell.execute_reply": "2021-09-18T12:53:25.507912Z",
     "shell.execute_reply.started": "2021-09-18T12:42:37.395467Z"
    },
    "papermill": {
     "duration": 0.087062,
     "end_time": "2021-09-18T12:53:25.508034",
     "exception": false,
     "start_time": "2021-09-18T12:53:25.420972",
     "status": "completed"
    },
    "tags": []
   }
  },
  {
   "cell_type": "markdown",
   "source": [
    "**Clearly, This model is not performing that good, so we need to perform hyperparameter tuning on this**\n",
    "\n",
    "**We will do this with the help of Randomized Search CV**"
   ],
   "metadata": {
    "papermill": {
     "duration": 0.078899,
     "end_time": "2021-09-18T12:53:25.667799",
     "exception": false,
     "start_time": "2021-09-18T12:53:25.588900",
     "status": "completed"
    },
    "tags": []
   }
  },
  {
   "cell_type": "code",
   "execution_count": 60,
   "source": [
    "# Number of trees in random forest\r\n",
    "n_estimators = [int(x) for x in np.linspace(start = 100, stop = 1200, num = 12)]\r\n",
    "# Number of features to consider at every split\r\n",
    "max_features = ['auto', 'sqrt']\r\n",
    "# Maximum number of levels in tree\r\n",
    "max_depth = [int(x) for x in np.linspace(5, 30, num = 6)]\r\n",
    "# Minimum number of samples required to split a node\r\n",
    "min_samples_split = [2, 5, 10, 15, 100]\r\n",
    "# Minimum number of samples required at each leaf node\r\n",
    "min_samples_leaf = [1, 2, 5, 10]"
   ],
   "outputs": [],
   "metadata": {
    "execution": {
     "iopub.execute_input": "2021-09-18T12:53:25.833420Z",
     "iopub.status.busy": "2021-09-18T12:53:25.832601Z",
     "iopub.status.idle": "2021-09-18T12:53:25.835009Z",
     "shell.execute_reply": "2021-09-18T12:53:25.834606Z",
     "shell.execute_reply.started": "2021-09-18T12:08:38.050923Z"
    },
    "papermill": {
     "duration": 0.087853,
     "end_time": "2021-09-18T12:53:25.835117",
     "exception": false,
     "start_time": "2021-09-18T12:53:25.747264",
     "status": "completed"
    },
    "tags": []
   }
  },
  {
   "cell_type": "code",
   "execution_count": 61,
   "source": [
    "# Creating the parameter grid\r\n",
    "\r\n",
    "random_grid = {'n_estimators': n_estimators,\r\n",
    "               'max_features': max_features,\r\n",
    "               'max_depth': max_depth,\r\n",
    "               'min_samples_split': min_samples_split,\r\n",
    "               'min_samples_leaf': min_samples_leaf}"
   ],
   "outputs": [],
   "metadata": {
    "execution": {
     "iopub.execute_input": "2021-09-18T12:53:25.998757Z",
     "iopub.status.busy": "2021-09-18T12:53:25.997978Z",
     "iopub.status.idle": "2021-09-18T12:53:26.000001Z",
     "shell.execute_reply": "2021-09-18T12:53:26.000383Z",
     "shell.execute_reply.started": "2021-09-18T12:08:39.086975Z"
    },
    "papermill": {
     "duration": 0.086395,
     "end_time": "2021-09-18T12:53:26.000508",
     "exception": false,
     "start_time": "2021-09-18T12:53:25.914113",
     "status": "completed"
    },
    "tags": []
   }
  },
  {
   "cell_type": "code",
   "execution_count": 62,
   "source": [
    "# Grid search of parameters, using 5 fold cross validation, search across 50 different combinations\r\n",
    "final_model = RandomizedSearchCV(estimator = reg_rf, \r\n",
    "                               param_distributions = random_grid,\r\n",
    "                               scoring='neg_mean_squared_error', \r\n",
    "                               n_iter = 10, cv = 5, verbose=2,\r\n",
    "                               random_state=42, n_jobs = 1)"
   ],
   "outputs": [],
   "metadata": {
    "execution": {
     "iopub.execute_input": "2021-09-18T12:53:26.174515Z",
     "iopub.status.busy": "2021-09-18T12:53:26.173684Z",
     "iopub.status.idle": "2021-09-18T12:53:26.176200Z",
     "shell.execute_reply": "2021-09-18T12:53:26.175712Z",
     "shell.execute_reply.started": "2021-09-18T12:08:40.739958Z"
    },
    "papermill": {
     "duration": 0.087358,
     "end_time": "2021-09-18T12:53:26.176312",
     "exception": false,
     "start_time": "2021-09-18T12:53:26.088954",
     "status": "completed"
    },
    "tags": []
   }
  },
  {
   "cell_type": "markdown",
   "source": [
    "**Fitting the model on the Randomized Search CV instance.**"
   ],
   "metadata": {
    "papermill": {
     "duration": 0.078639,
     "end_time": "2021-09-18T12:53:26.334628",
     "exception": false,
     "start_time": "2021-09-18T12:53:26.255989",
     "status": "completed"
    },
    "tags": []
   }
  },
  {
   "cell_type": "code",
   "execution_count": 63,
   "source": [
    "final_model.fit(scaled_X_train,y_train)\r\n"
   ],
   "outputs": [
    {
     "output_type": "stream",
     "name": "stdout",
     "text": [
      "Fitting 5 folds for each of 10 candidates, totalling 50 fits\n",
      "[CV] END max_depth=10, max_features=sqrt, min_samples_leaf=5, min_samples_split=5, n_estimators=900; total time=   4.4s\n",
      "[CV] END max_depth=10, max_features=sqrt, min_samples_leaf=5, min_samples_split=5, n_estimators=900; total time=   4.3s\n",
      "[CV] END max_depth=10, max_features=sqrt, min_samples_leaf=5, min_samples_split=5, n_estimators=900; total time=   4.4s\n",
      "[CV] END max_depth=10, max_features=sqrt, min_samples_leaf=5, min_samples_split=5, n_estimators=900; total time=   4.2s\n",
      "[CV] END max_depth=10, max_features=sqrt, min_samples_leaf=5, min_samples_split=5, n_estimators=900; total time=   4.2s\n",
      "[CV] END max_depth=15, max_features=sqrt, min_samples_leaf=2, min_samples_split=10, n_estimators=1100; total time=   6.6s\n",
      "[CV] END max_depth=15, max_features=sqrt, min_samples_leaf=2, min_samples_split=10, n_estimators=1100; total time=   6.4s\n",
      "[CV] END max_depth=15, max_features=sqrt, min_samples_leaf=2, min_samples_split=10, n_estimators=1100; total time=   6.3s\n",
      "[CV] END max_depth=15, max_features=sqrt, min_samples_leaf=2, min_samples_split=10, n_estimators=1100; total time=   6.5s\n",
      "[CV] END max_depth=15, max_features=sqrt, min_samples_leaf=2, min_samples_split=10, n_estimators=1100; total time=   6.3s\n",
      "[CV] END max_depth=15, max_features=auto, min_samples_leaf=5, min_samples_split=100, n_estimators=300; total time=   4.0s\n",
      "[CV] END max_depth=15, max_features=auto, min_samples_leaf=5, min_samples_split=100, n_estimators=300; total time=   3.9s\n",
      "[CV] END max_depth=15, max_features=auto, min_samples_leaf=5, min_samples_split=100, n_estimators=300; total time=   3.8s\n",
      "[CV] END max_depth=15, max_features=auto, min_samples_leaf=5, min_samples_split=100, n_estimators=300; total time=   3.9s\n",
      "[CV] END max_depth=15, max_features=auto, min_samples_leaf=5, min_samples_split=100, n_estimators=300; total time=   4.0s\n",
      "[CV] END max_depth=15, max_features=auto, min_samples_leaf=5, min_samples_split=5, n_estimators=400; total time=   6.9s\n",
      "[CV] END max_depth=15, max_features=auto, min_samples_leaf=5, min_samples_split=5, n_estimators=400; total time=   7.1s\n",
      "[CV] END max_depth=15, max_features=auto, min_samples_leaf=5, min_samples_split=5, n_estimators=400; total time=   6.9s\n",
      "[CV] END max_depth=15, max_features=auto, min_samples_leaf=5, min_samples_split=5, n_estimators=400; total time=   6.9s\n",
      "[CV] END max_depth=15, max_features=auto, min_samples_leaf=5, min_samples_split=5, n_estimators=400; total time=   7.1s\n",
      "[CV] END max_depth=20, max_features=auto, min_samples_leaf=10, min_samples_split=5, n_estimators=700; total time=  10.8s\n",
      "[CV] END max_depth=20, max_features=auto, min_samples_leaf=10, min_samples_split=5, n_estimators=700; total time=  11.6s\n",
      "[CV] END max_depth=20, max_features=auto, min_samples_leaf=10, min_samples_split=5, n_estimators=700; total time=  11.7s\n",
      "[CV] END max_depth=20, max_features=auto, min_samples_leaf=10, min_samples_split=5, n_estimators=700; total time=  11.4s\n",
      "[CV] END max_depth=20, max_features=auto, min_samples_leaf=10, min_samples_split=5, n_estimators=700; total time=  10.7s\n",
      "[CV] END max_depth=25, max_features=sqrt, min_samples_leaf=1, min_samples_split=2, n_estimators=1000; total time=   9.3s\n",
      "[CV] END max_depth=25, max_features=sqrt, min_samples_leaf=1, min_samples_split=2, n_estimators=1000; total time=  10.3s\n",
      "[CV] END max_depth=25, max_features=sqrt, min_samples_leaf=1, min_samples_split=2, n_estimators=1000; total time=  10.1s\n",
      "[CV] END max_depth=25, max_features=sqrt, min_samples_leaf=1, min_samples_split=2, n_estimators=1000; total time=  11.2s\n",
      "[CV] END max_depth=25, max_features=sqrt, min_samples_leaf=1, min_samples_split=2, n_estimators=1000; total time=  10.6s\n",
      "[CV] END max_depth=5, max_features=sqrt, min_samples_leaf=10, min_samples_split=15, n_estimators=1100; total time=   3.2s\n",
      "[CV] END max_depth=5, max_features=sqrt, min_samples_leaf=10, min_samples_split=15, n_estimators=1100; total time=   3.1s\n",
      "[CV] END max_depth=5, max_features=sqrt, min_samples_leaf=10, min_samples_split=15, n_estimators=1100; total time=   3.1s\n",
      "[CV] END max_depth=5, max_features=sqrt, min_samples_leaf=10, min_samples_split=15, n_estimators=1100; total time=   3.1s\n",
      "[CV] END max_depth=5, max_features=sqrt, min_samples_leaf=10, min_samples_split=15, n_estimators=1100; total time=   3.3s\n",
      "[CV] END max_depth=15, max_features=sqrt, min_samples_leaf=1, min_samples_split=15, n_estimators=300; total time=   1.5s\n",
      "[CV] END max_depth=15, max_features=sqrt, min_samples_leaf=1, min_samples_split=15, n_estimators=300; total time=   1.4s\n",
      "[CV] END max_depth=15, max_features=sqrt, min_samples_leaf=1, min_samples_split=15, n_estimators=300; total time=   1.5s\n",
      "[CV] END max_depth=15, max_features=sqrt, min_samples_leaf=1, min_samples_split=15, n_estimators=300; total time=   1.5s\n",
      "[CV] END max_depth=15, max_features=sqrt, min_samples_leaf=1, min_samples_split=15, n_estimators=300; total time=   1.5s\n",
      "[CV] END max_depth=5, max_features=sqrt, min_samples_leaf=2, min_samples_split=10, n_estimators=700; total time=   1.9s\n",
      "[CV] END max_depth=5, max_features=sqrt, min_samples_leaf=2, min_samples_split=10, n_estimators=700; total time=   2.0s\n",
      "[CV] END max_depth=5, max_features=sqrt, min_samples_leaf=2, min_samples_split=10, n_estimators=700; total time=   1.9s\n",
      "[CV] END max_depth=5, max_features=sqrt, min_samples_leaf=2, min_samples_split=10, n_estimators=700; total time=   2.0s\n",
      "[CV] END max_depth=5, max_features=sqrt, min_samples_leaf=2, min_samples_split=10, n_estimators=700; total time=   2.2s\n",
      "[CV] END max_depth=20, max_features=auto, min_samples_leaf=1, min_samples_split=15, n_estimators=700; total time=  13.2s\n",
      "[CV] END max_depth=20, max_features=auto, min_samples_leaf=1, min_samples_split=15, n_estimators=700; total time=  12.2s\n",
      "[CV] END max_depth=20, max_features=auto, min_samples_leaf=1, min_samples_split=15, n_estimators=700; total time=  12.3s\n",
      "[CV] END max_depth=20, max_features=auto, min_samples_leaf=1, min_samples_split=15, n_estimators=700; total time=  12.1s\n",
      "[CV] END max_depth=20, max_features=auto, min_samples_leaf=1, min_samples_split=15, n_estimators=700; total time=  12.5s\n"
     ]
    },
    {
     "output_type": "execute_result",
     "data": {
      "text/plain": [
       "RandomizedSearchCV(cv=5, estimator=RandomForestRegressor(), n_jobs=1,\n",
       "                   param_distributions={'max_depth': [5, 10, 15, 20, 25, 30],\n",
       "                                        'max_features': ['auto', 'sqrt'],\n",
       "                                        'min_samples_leaf': [1, 2, 5, 10],\n",
       "                                        'min_samples_split': [2, 5, 10, 15,\n",
       "                                                              100],\n",
       "                                        'n_estimators': [100, 200, 300, 400,\n",
       "                                                         500, 600, 700, 800,\n",
       "                                                         900, 1000, 1100,\n",
       "                                                         1200]},\n",
       "                   random_state=42, scoring='neg_mean_squared_error',\n",
       "                   verbose=2)"
      ]
     },
     "metadata": {},
     "execution_count": 63
    }
   ],
   "metadata": {
    "execution": {
     "iopub.execute_input": "2021-09-18T12:53:26.498519Z",
     "iopub.status.busy": "2021-09-18T12:53:26.497711Z",
     "iopub.status.idle": "2021-09-18T12:58:22.474964Z",
     "shell.execute_reply": "2021-09-18T12:58:22.474539Z",
     "shell.execute_reply.started": "2021-09-18T12:08:42.786294Z"
    },
    "papermill": {
     "duration": 296.061557,
     "end_time": "2021-09-18T12:58:22.475087",
     "exception": false,
     "start_time": "2021-09-18T12:53:26.413530",
     "status": "completed"
    },
    "tags": []
   }
  },
  {
   "cell_type": "code",
   "execution_count": 64,
   "source": [
    "final_model.best_params_\r\n"
   ],
   "outputs": [
    {
     "output_type": "execute_result",
     "data": {
      "text/plain": [
       "{'n_estimators': 700,\n",
       " 'min_samples_split': 15,\n",
       " 'min_samples_leaf': 1,\n",
       " 'max_features': 'auto',\n",
       " 'max_depth': 20}"
      ]
     },
     "metadata": {},
     "execution_count": 64
    }
   ],
   "metadata": {
    "execution": {
     "iopub.execute_input": "2021-09-18T12:58:22.666660Z",
     "iopub.status.busy": "2021-09-18T12:58:22.666060Z",
     "iopub.status.idle": "2021-09-18T12:58:22.668603Z",
     "shell.execute_reply": "2021-09-18T12:58:22.669001Z",
     "shell.execute_reply.started": "2021-09-18T12:14:09.120910Z"
    },
    "papermill": {
     "duration": 0.100607,
     "end_time": "2021-09-18T12:58:22.669130",
     "exception": false,
     "start_time": "2021-09-18T12:58:22.568523",
     "status": "completed"
    },
    "tags": []
   }
  },
  {
   "cell_type": "code",
   "execution_count": 65,
   "source": [
    "predictions = final_model.predict(scaled_X_test)"
   ],
   "outputs": [],
   "metadata": {
    "execution": {
     "iopub.execute_input": "2021-09-18T12:58:22.858016Z",
     "iopub.status.busy": "2021-09-18T12:58:22.857259Z",
     "iopub.status.idle": "2021-09-18T12:58:23.090161Z",
     "shell.execute_reply": "2021-09-18T12:58:23.089738Z",
     "shell.execute_reply.started": "2021-09-18T12:14:09.131103Z"
    },
    "papermill": {
     "duration": 0.328481,
     "end_time": "2021-09-18T12:58:23.090279",
     "exception": false,
     "start_time": "2021-09-18T12:58:22.761798",
     "status": "completed"
    },
    "tags": []
   }
  },
  {
   "cell_type": "code",
   "execution_count": 66,
   "source": [
    "plt.figure(figsize = (20,18))\r\n",
    "sns.displot(y_test-predictions, kde = True)\r\n",
    "plt.show()"
   ],
   "outputs": [
    {
     "output_type": "display_data",
     "data": {
      "text/plain": [
       "<Figure size 1440x1296 with 0 Axes>"
      ]
     },
     "metadata": {}
    },
    {
     "output_type": "display_data",
     "data": {
      "image/png": "[encoded data removed]",
      "text/plain": [
       "<Figure size 360x360 with 1 Axes>"
      ]
     },
     "metadata": {
      "needs_background": "light"
     }
    }
   ],
   "metadata": {
    "execution": {
     "iopub.execute_input": "2021-09-18T12:58:23.287012Z",
     "iopub.status.busy": "2021-09-18T12:58:23.286173Z",
     "iopub.status.idle": "2021-09-18T12:58:23.957991Z",
     "shell.execute_reply": "2021-09-18T12:58:23.957191Z",
     "shell.execute_reply.started": "2021-09-18T12:21:59.756433Z"
    },
    "papermill": {
     "duration": 0.773464,
     "end_time": "2021-09-18T12:58:23.958120",
     "exception": false,
     "start_time": "2021-09-18T12:58:23.184656",
     "status": "completed"
    },
    "tags": []
   }
  },
  {
   "cell_type": "code",
   "execution_count": 67,
   "source": [
    "plt.figure(figsize = (8,8))\r\n",
    "plt.scatter(y_test, predictions, alpha = 0.5)\r\n",
    "plt.xlabel(\"y_test\")\r\n",
    "plt.ylabel(\"y_pred\")\r\n",
    "plt.show()"
   ],
   "outputs": [
    {
     "output_type": "display_data",
     "data": {
      "image/png": "[encoded data removed]",
      "text/plain": [
       "<Figure size 576x576 with 1 Axes>"
      ]
     },
     "metadata": {
      "needs_background": "light"
     }
    }
   ],
   "metadata": {
    "execution": {
     "iopub.execute_input": "2021-09-18T12:58:24.176200Z",
     "iopub.status.busy": "2021-09-18T12:58:24.167218Z",
     "iopub.status.idle": "2021-09-18T12:58:24.344714Z",
     "shell.execute_reply": "2021-09-18T12:58:24.345372Z",
     "shell.execute_reply.started": "2021-09-18T12:22:03.943824Z"
    },
    "papermill": {
     "duration": 0.292463,
     "end_time": "2021-09-18T12:58:24.345516",
     "exception": false,
     "start_time": "2021-09-18T12:58:24.053053",
     "status": "completed"
    },
    "tags": []
   }
  },
  {
   "cell_type": "markdown",
   "source": [
    "**Clearly this is a much better model than the previous one!**"
   ],
   "metadata": {
    "papermill": {
     "duration": 0.095288,
     "end_time": "2021-09-18T12:58:24.536851",
     "exception": false,
     "start_time": "2021-09-18T12:58:24.441563",
     "status": "completed"
    },
    "tags": []
   }
  },
  {
   "cell_type": "code",
   "execution_count": 68,
   "source": [
    "print('MAE:', mean_absolute_error(y_test, predictions))\r\n",
    "print('MSE:', mean_squared_error(y_test, predictions))\r\n",
    "print('RMSE:', np.sqrt(mean_squared_error(y_test, predictions)))"
   ],
   "outputs": [
    {
     "output_type": "stream",
     "name": "stdout",
     "text": [
      "MAE: 1165.515631089272\n",
      "MSE: 4059891.7537278356\n",
      "RMSE: 2014.9173069205187\n"
     ]
    }
   ],
   "metadata": {
    "execution": {
     "iopub.execute_input": "2021-09-18T12:58:24.738205Z",
     "iopub.status.busy": "2021-09-18T12:58:24.736579Z",
     "iopub.status.idle": "2021-09-18T12:58:24.740478Z",
     "shell.execute_reply": "2021-09-18T12:58:24.740019Z",
     "shell.execute_reply.started": "2021-09-18T12:22:42.337798Z"
    },
    "papermill": {
     "duration": 0.108046,
     "end_time": "2021-09-18T12:58:24.740599",
     "exception": false,
     "start_time": "2021-09-18T12:58:24.632553",
     "status": "completed"
    },
    "tags": []
   }
  },
  {
   "cell_type": "code",
   "execution_count": 69,
   "source": [
    "r2_score(y_test, predictions)"
   ],
   "outputs": [
    {
     "output_type": "execute_result",
     "data": {
      "text/plain": [
       "0.8117112907650443"
      ]
     },
     "metadata": {},
     "execution_count": 69
    }
   ],
   "metadata": {
    "execution": {
     "iopub.execute_input": "2021-09-18T12:58:24.940514Z",
     "iopub.status.busy": "2021-09-18T12:58:24.939832Z",
     "iopub.status.idle": "2021-09-18T12:58:24.942793Z",
     "shell.execute_reply": "2021-09-18T12:58:24.943177Z",
     "shell.execute_reply.started": "2021-09-18T12:23:07.869436Z"
    },
    "papermill": {
     "duration": 0.106205,
     "end_time": "2021-09-18T12:58:24.943323",
     "exception": false,
     "start_time": "2021-09-18T12:58:24.837118",
     "status": "completed"
    },
    "tags": []
   }
  },
  {
   "cell_type": "markdown",
   "source": [
    "**r2_score has also improved to 81.2% value!**"
   ],
   "metadata": {
    "papermill": {
     "duration": 0.096741,
     "end_time": "2021-09-18T12:58:25.136302",
     "exception": false,
     "start_time": "2021-09-18T12:58:25.039561",
     "status": "completed"
    },
    "tags": []
   }
  },
  {
   "cell_type": "markdown",
   "source": [
    "**So I think we can use this model for our prediction puposes and hence our Flight Price Prediction model is completed**"
   ],
   "metadata": {
    "papermill": {
     "duration": 0.096423,
     "end_time": "2021-09-18T12:58:25.330042",
     "exception": false,
     "start_time": "2021-09-18T12:58:25.233619",
     "status": "completed"
    },
    "tags": []
   }
  },
  {
   "cell_type": "markdown",
   "source": [
    "# **TEST SET**\n",
    "\n",
    "Now we need to import our test dataset and perform all the preprocessing steps again on it!\n",
    "Basically this dataset is used for making predictions on a certain amount of data and it will be saved in the output"
   ],
   "metadata": {
    "papermill": {
     "duration": 0.096125,
     "end_time": "2021-09-18T12:58:25.522026",
     "exception": false,
     "start_time": "2021-09-18T12:58:25.425901",
     "status": "completed"
    },
    "tags": []
   }
  },
  {
   "cell_type": "code",
   "execution_count": 74,
   "source": [
    "test_data = pd.read_csv('Test_set.csv')"
   ],
   "outputs": [],
   "metadata": {
    "execution": {
     "iopub.execute_input": "2021-09-18T12:58:25.718163Z",
     "iopub.status.busy": "2021-09-18T12:58:25.717636Z",
     "iopub.status.idle": "2021-09-18T12:58:25.741978Z",
     "shell.execute_reply": "2021-09-18T12:58:25.741536Z",
     "shell.execute_reply.started": "2021-09-18T12:29:40.914598Z"
    },
    "papermill": {
     "duration": 0.123917,
     "end_time": "2021-09-18T12:58:25.742088",
     "exception": false,
     "start_time": "2021-09-18T12:58:25.618171",
     "status": "completed"
    },
    "tags": []
   }
  },
  {
   "cell_type": "code",
   "execution_count": 75,
   "source": [
    "test_data.drop('Unnamed: 0', axis = 1, inplace = True)"
   ],
   "outputs": [],
   "metadata": {
    "execution": {
     "iopub.execute_input": "2021-09-18T12:58:25.940957Z",
     "iopub.status.busy": "2021-09-18T12:58:25.940286Z",
     "iopub.status.idle": "2021-09-18T12:58:25.942971Z",
     "shell.execute_reply": "2021-09-18T12:58:25.943329Z",
     "shell.execute_reply.started": "2021-09-18T12:29:41.172575Z"
    },
    "papermill": {
     "duration": 0.105081,
     "end_time": "2021-09-18T12:58:25.943499",
     "exception": false,
     "start_time": "2021-09-18T12:58:25.838418",
     "status": "completed"
    },
    "tags": []
   }
  },
  {
   "cell_type": "code",
   "execution_count": 76,
   "source": [
    "test_data.head()"
   ],
   "outputs": [
    {
     "output_type": "execute_result",
     "data": {
      "text/html": [
       "<div>\n",
       "<style scoped>\n",
       "    .dataframe tbody tr th:only-of-type {\n",
       "        vertical-align: middle;\n",
       "    }\n",
       "\n",
       "    .dataframe tbody tr th {\n",
       "        vertical-align: top;\n",
       "    }\n",
       "\n",
       "    .dataframe thead th {\n",
       "        text-align: right;\n",
       "    }\n",
       "</style>\n",
       "<table border=\"1\" class=\"dataframe\">\n",
       "  <thead>\n",
       "    <tr style=\"text-align: right;\">\n",
       "      <th></th>\n",
       "      <th>Airline</th>\n",
       "      <th>Date_of_Journey</th>\n",
       "      <th>Source</th>\n",
       "      <th>Destination</th>\n",
       "      <th>Route</th>\n",
       "      <th>Dep_Time</th>\n",
       "      <th>Arrival_Time</th>\n",
       "      <th>Duration</th>\n",
       "      <th>Total_Stops</th>\n",
       "      <th>Additional_Info</th>\n",
       "    </tr>\n",
       "  </thead>\n",
       "  <tbody>\n",
       "    <tr>\n",
       "      <th>0</th>\n",
       "      <td>Jet Airways</td>\n",
       "      <td>6/06/2019</td>\n",
       "      <td>Delhi</td>\n",
       "      <td>Cochin</td>\n",
       "      <td>DEL → BOM → COK</td>\n",
       "      <td>17:30</td>\n",
       "      <td>04:25 07 Jun</td>\n",
       "      <td>10h 55m</td>\n",
       "      <td>1 stop</td>\n",
       "      <td>No info</td>\n",
       "    </tr>\n",
       "    <tr>\n",
       "      <th>1</th>\n",
       "      <td>IndiGo</td>\n",
       "      <td>12/05/2019</td>\n",
       "      <td>Kolkata</td>\n",
       "      <td>Banglore</td>\n",
       "      <td>CCU → MAA → BLR</td>\n",
       "      <td>06:20</td>\n",
       "      <td>10:20</td>\n",
       "      <td>4h</td>\n",
       "      <td>1 stop</td>\n",
       "      <td>No info</td>\n",
       "    </tr>\n",
       "    <tr>\n",
       "      <th>2</th>\n",
       "      <td>Jet Airways</td>\n",
       "      <td>21/05/2019</td>\n",
       "      <td>Delhi</td>\n",
       "      <td>Cochin</td>\n",
       "      <td>DEL → BOM → COK</td>\n",
       "      <td>19:15</td>\n",
       "      <td>19:00 22 May</td>\n",
       "      <td>23h 45m</td>\n",
       "      <td>1 stop</td>\n",
       "      <td>In-flight meal not included</td>\n",
       "    </tr>\n",
       "    <tr>\n",
       "      <th>3</th>\n",
       "      <td>Multiple carriers</td>\n",
       "      <td>21/05/2019</td>\n",
       "      <td>Delhi</td>\n",
       "      <td>Cochin</td>\n",
       "      <td>DEL → BOM → COK</td>\n",
       "      <td>08:00</td>\n",
       "      <td>21:00</td>\n",
       "      <td>13h</td>\n",
       "      <td>1 stop</td>\n",
       "      <td>No info</td>\n",
       "    </tr>\n",
       "    <tr>\n",
       "      <th>4</th>\n",
       "      <td>Air Asia</td>\n",
       "      <td>24/06/2019</td>\n",
       "      <td>Banglore</td>\n",
       "      <td>Delhi</td>\n",
       "      <td>BLR → DEL</td>\n",
       "      <td>23:55</td>\n",
       "      <td>02:45 25 Jun</td>\n",
       "      <td>2h 50m</td>\n",
       "      <td>non-stop</td>\n",
       "      <td>No info</td>\n",
       "    </tr>\n",
       "  </tbody>\n",
       "</table>\n",
       "</div>"
      ],
      "text/plain": [
       "             Airline Date_of_Journey    Source Destination            Route  \\\n",
       "0        Jet Airways       6/06/2019     Delhi      Cochin  DEL → BOM → COK   \n",
       "1             IndiGo      12/05/2019   Kolkata    Banglore  CCU → MAA → BLR   \n",
       "2        Jet Airways      21/05/2019     Delhi      Cochin  DEL → BOM → COK   \n",
       "3  Multiple carriers      21/05/2019     Delhi      Cochin  DEL → BOM → COK   \n",
       "4           Air Asia      24/06/2019  Banglore       Delhi        BLR → DEL   \n",
       "\n",
       "  Dep_Time  Arrival_Time Duration Total_Stops              Additional_Info  \n",
       "0    17:30  04:25 07 Jun  10h 55m      1 stop                      No info  \n",
       "1    06:20         10:20       4h      1 stop                      No info  \n",
       "2    19:15  19:00 22 May  23h 45m      1 stop  In-flight meal not included  \n",
       "3    08:00         21:00      13h      1 stop                      No info  \n",
       "4    23:55  02:45 25 Jun   2h 50m    non-stop                      No info  "
      ]
     },
     "metadata": {},
     "execution_count": 76
    }
   ],
   "metadata": {
    "execution": {
     "iopub.execute_input": "2021-09-18T12:58:26.163792Z",
     "iopub.status.busy": "2021-09-18T12:58:26.163066Z",
     "iopub.status.idle": "2021-09-18T12:58:26.166246Z",
     "shell.execute_reply": "2021-09-18T12:58:26.166653Z",
     "shell.execute_reply.started": "2021-09-18T12:29:41.373757Z"
    },
    "papermill": {
     "duration": 0.118008,
     "end_time": "2021-09-18T12:58:26.166784",
     "exception": false,
     "start_time": "2021-09-18T12:58:26.048776",
     "status": "completed"
    },
    "tags": []
   }
  },
  {
   "cell_type": "code",
   "execution_count": 77,
   "source": [
    "# Preprocessing\r\n",
    "\r\n",
    "print(\"Test data Info\")\r\n",
    "print(\"-\"*75)\r\n",
    "print(test_data.info())\r\n",
    "\r\n",
    "print('\\n\\n')\r\n",
    "\r\n",
    "print(\"Null values :\")\r\n",
    "print(\"-\"*75)\r\n",
    "test_data.dropna(inplace = True)\r\n",
    "print(test_data.isnull().sum())\r\n",
    "\r\n",
    "# EDA\r\n",
    "\r\n",
    "# Date_of_Journey\r\n",
    "test_data[\"Journey_day\"] = pd.to_datetime(test_data.Date_of_Journey, format=\"%d/%m/%Y\").dt.day\r\n",
    "test_data[\"Journey_month\"] = pd.to_datetime(test_data[\"Date_of_Journey\"], format = \"%d/%m/%Y\").dt.month\r\n",
    "test_data.drop([\"Date_of_Journey\"], axis = 1, inplace = True)\r\n",
    "\r\n",
    "# Dep_Time\r\n",
    "test_data[\"Dep_hour\"] = pd.to_datetime(test_data[\"Dep_Time\"]).dt.hour\r\n",
    "test_data[\"Dep_min\"] = pd.to_datetime(test_data[\"Dep_Time\"]).dt.minute\r\n",
    "test_data.drop([\"Dep_Time\"], axis = 1, inplace = True)\r\n",
    "\r\n",
    "# Arrival_Time\r\n",
    "test_data[\"Arrival_hour\"] = pd.to_datetime(test_data.Arrival_Time).dt.hour\r\n",
    "test_data[\"Arrival_min\"] = pd.to_datetime(test_data.Arrival_Time).dt.minute\r\n",
    "test_data.drop([\"Arrival_Time\"], axis = 1, inplace = True)\r\n",
    "\r\n",
    "# Duration\r\n",
    "duration = list(test_data[\"Duration\"])\r\n",
    "\r\n",
    "for i in range(len(duration)):\r\n",
    "    if len(duration[i].split()) != 2:    # Check if duration contains only hour or mins\r\n",
    "        if \"h\" in duration[i]:\r\n",
    "            duration[i] = duration[i].strip() + \" 0m\"   # Adds 0 minute\r\n",
    "        else:\r\n",
    "            duration[i] = \"0h \" + duration[i]           # Adds 0 hour\r\n",
    "\r\n",
    "duration_hours = []\r\n",
    "duration_mins = []\r\n",
    "for i in range(len(duration)):\r\n",
    "    duration_hours.append(int(duration[i].split(sep = \"h\")[0]))    # Extract hours from duration\r\n",
    "    duration_mins.append(int(duration[i].split(sep = \"m\")[0].split()[-1]))   # Extracts only minutes from duration\r\n",
    "\r\n",
    "# Adding Duration column to test set\r\n",
    "test_data[\"Duration_hours\"] = duration_hours\r\n",
    "test_data[\"Duration_mins\"] = duration_mins\r\n",
    "test_data.drop([\"Duration\"], axis = 1, inplace = True)\r\n",
    "\r\n",
    "\r\n",
    "# Categorical data\r\n",
    "\r\n",
    "print(\"Airline\")\r\n",
    "print(\"-\"*75)\r\n",
    "print(test_data[\"Airline\"].value_counts())\r\n",
    "Airline = pd.get_dummies(test_data[[\"Airline\"]], drop_first= True)\r\n",
    "\r\n",
    "print()\r\n",
    "\r\n",
    "print(\"Source\")\r\n",
    "print(\"-\"*75)\r\n",
    "print(test_data[\"Source\"].value_counts())\r\n",
    "Source = pd.get_dummies(test_data[[\"Source\"]], drop_first= True)\r\n",
    "\r\n",
    "print()\r\n",
    "\r\n",
    "print(\"Destination\")\r\n",
    "print(\"-\"*75)\r\n",
    "print(test_data[\"Destination\"].value_counts())\r\n",
    "Destination = pd.get_dummies(test_data[[\"Destination\"]], drop_first = True)\r\n",
    "\r\n",
    "# Additional_Info contains almost 80% no_info\r\n",
    "# Route and Total_Stops are related to each other\r\n",
    "test_data.drop([\"Route\", \"Additional_Info\"], axis = 1, inplace = True)\r\n",
    "\r\n",
    "# Replacing Total_Stops\r\n",
    "test_data.replace({\"non-stop\": 0, \"1 stop\": 1, \"2 stops\": 2, \"3 stops\": 3, \"4 stops\": 4}, inplace = True)\r\n",
    "\r\n",
    "# Concatenate dataframe --> test_data + Airline + Source + Destination\r\n",
    "final_test_data = pd.concat([test_data, Airline, Source, Destination], axis = 1)\r\n",
    "\r\n",
    "final_test_data.drop([\"Airline\", \"Source\", \"Destination\"], axis = 1, inplace = True)\r\n",
    "\r\n",
    "print()\r\n",
    "print()\r\n",
    "\r\n",
    "print(\"Shape of test data : \", final_test_data.shape)"
   ],
   "outputs": [
    {
     "output_type": "stream",
     "name": "stdout",
     "text": [
      "Test data Info\n",
      "---------------------------------------------------------------------------\n",
      "<class 'pandas.core.frame.DataFrame'>\n",
      "RangeIndex: 2671 entries, 0 to 2670\n",
      "Data columns (total 10 columns):\n",
      " #   Column           Non-Null Count  Dtype \n",
      "---  ------           --------------  ----- \n",
      " 0   Airline          2671 non-null   object\n",
      " 1   Date_of_Journey  2671 non-null   object\n",
      " 2   Source           2671 non-null   object\n",
      " 3   Destination      2671 non-null   object\n",
      " 4   Route            2671 non-null   object\n",
      " 5   Dep_Time         2671 non-null   object\n",
      " 6   Arrival_Time     2671 non-null   object\n",
      " 7   Duration         2671 non-null   object\n",
      " 8   Total_Stops      2671 non-null   object\n",
      " 9   Additional_Info  2671 non-null   object\n",
      "dtypes: object(10)\n",
      "memory usage: 208.8+ KB\n",
      "None\n",
      "\n",
      "\n",
      "\n",
      "Null values :\n",
      "---------------------------------------------------------------------------\n",
      "Airline            0\n",
      "Date_of_Journey    0\n",
      "Source             0\n",
      "Destination        0\n",
      "Route              0\n",
      "Dep_Time           0\n",
      "Arrival_Time       0\n",
      "Duration           0\n",
      "Total_Stops        0\n",
      "Additional_Info    0\n",
      "dtype: int64\n",
      "Airline\n",
      "---------------------------------------------------------------------------\n",
      "Jet Airways                          897\n",
      "IndiGo                               511\n",
      "Air India                            440\n",
      "Multiple carriers                    347\n",
      "SpiceJet                             208\n",
      "Vistara                              129\n",
      "Air Asia                              86\n",
      "GoAir                                 46\n",
      "Multiple carriers Premium economy      3\n",
      "Vistara Premium economy                2\n",
      "Jet Airways Business                   2\n",
      "Name: Airline, dtype: int64\n",
      "\n",
      "Source\n",
      "---------------------------------------------------------------------------\n",
      "Delhi       1145\n",
      "Kolkata      710\n",
      "Banglore     555\n",
      "Mumbai       186\n",
      "Chennai       75\n",
      "Name: Source, dtype: int64\n",
      "\n",
      "Destination\n",
      "---------------------------------------------------------------------------\n",
      "Cochin       1145\n",
      "Banglore      710\n",
      "Delhi         317\n",
      "New Delhi     238\n",
      "Hyderabad     186\n",
      "Kolkata        75\n",
      "Name: Destination, dtype: int64\n",
      "\n",
      "\n",
      "Shape of test data :  (2671, 28)\n"
     ]
    }
   ],
   "metadata": {
    "execution": {
     "iopub.execute_input": "2021-09-18T12:58:26.391891Z",
     "iopub.status.busy": "2021-09-18T12:58:26.386783Z",
     "iopub.status.idle": "2021-09-18T12:58:26.547070Z",
     "shell.execute_reply": "2021-09-18T12:58:26.546666Z",
     "shell.execute_reply.started": "2021-09-18T12:29:41.587056Z"
    },
    "papermill": {
     "duration": 0.283362,
     "end_time": "2021-09-18T12:58:26.547186",
     "exception": false,
     "start_time": "2021-09-18T12:58:26.263824",
     "status": "completed"
    },
    "tags": []
   }
  },
  {
   "cell_type": "code",
   "execution_count": 78,
   "source": [
    "final_test_data.head()"
   ],
   "outputs": [
    {
     "output_type": "execute_result",
     "data": {
      "text/html": [
       "<div>\n",
       "<style scoped>\n",
       "    .dataframe tbody tr th:only-of-type {\n",
       "        vertical-align: middle;\n",
       "    }\n",
       "\n",
       "    .dataframe tbody tr th {\n",
       "        vertical-align: top;\n",
       "    }\n",
       "\n",
       "    .dataframe thead th {\n",
       "        text-align: right;\n",
       "    }\n",
       "</style>\n",
       "<table border=\"1\" class=\"dataframe\">\n",
       "  <thead>\n",
       "    <tr style=\"text-align: right;\">\n",
       "      <th></th>\n",
       "      <th>Total_Stops</th>\n",
       "      <th>Journey_day</th>\n",
       "      <th>Journey_month</th>\n",
       "      <th>Dep_hour</th>\n",
       "      <th>Dep_min</th>\n",
       "      <th>Arrival_hour</th>\n",
       "      <th>Arrival_min</th>\n",
       "      <th>Duration_hours</th>\n",
       "      <th>Duration_mins</th>\n",
       "      <th>Airline_Air India</th>\n",
       "      <th>Airline_GoAir</th>\n",
       "      <th>Airline_IndiGo</th>\n",
       "      <th>Airline_Jet Airways</th>\n",
       "      <th>Airline_Jet Airways Business</th>\n",
       "      <th>Airline_Multiple carriers</th>\n",
       "      <th>Airline_Multiple carriers Premium economy</th>\n",
       "      <th>Airline_SpiceJet</th>\n",
       "      <th>Airline_Vistara</th>\n",
       "      <th>Airline_Vistara Premium economy</th>\n",
       "      <th>Source_Chennai</th>\n",
       "      <th>Source_Delhi</th>\n",
       "      <th>Source_Kolkata</th>\n",
       "      <th>Source_Mumbai</th>\n",
       "      <th>Destination_Cochin</th>\n",
       "      <th>Destination_Delhi</th>\n",
       "      <th>Destination_Hyderabad</th>\n",
       "      <th>Destination_Kolkata</th>\n",
       "      <th>Destination_New Delhi</th>\n",
       "    </tr>\n",
       "  </thead>\n",
       "  <tbody>\n",
       "    <tr>\n",
       "      <th>0</th>\n",
       "      <td>1</td>\n",
       "      <td>6</td>\n",
       "      <td>6</td>\n",
       "      <td>17</td>\n",
       "      <td>30</td>\n",
       "      <td>4</td>\n",
       "      <td>25</td>\n",
       "      <td>10</td>\n",
       "      <td>55</td>\n",
       "      <td>0</td>\n",
       "      <td>0</td>\n",
       "      <td>0</td>\n",
       "      <td>1</td>\n",
       "      <td>0</td>\n",
       "      <td>0</td>\n",
       "      <td>0</td>\n",
       "      <td>0</td>\n",
       "      <td>0</td>\n",
       "      <td>0</td>\n",
       "      <td>0</td>\n",
       "      <td>1</td>\n",
       "      <td>0</td>\n",
       "      <td>0</td>\n",
       "      <td>1</td>\n",
       "      <td>0</td>\n",
       "      <td>0</td>\n",
       "      <td>0</td>\n",
       "      <td>0</td>\n",
       "    </tr>\n",
       "    <tr>\n",
       "      <th>1</th>\n",
       "      <td>1</td>\n",
       "      <td>12</td>\n",
       "      <td>5</td>\n",
       "      <td>6</td>\n",
       "      <td>20</td>\n",
       "      <td>10</td>\n",
       "      <td>20</td>\n",
       "      <td>4</td>\n",
       "      <td>0</td>\n",
       "      <td>0</td>\n",
       "      <td>0</td>\n",
       "      <td>1</td>\n",
       "      <td>0</td>\n",
       "      <td>0</td>\n",
       "      <td>0</td>\n",
       "      <td>0</td>\n",
       "      <td>0</td>\n",
       "      <td>0</td>\n",
       "      <td>0</td>\n",
       "      <td>0</td>\n",
       "      <td>0</td>\n",
       "      <td>1</td>\n",
       "      <td>0</td>\n",
       "      <td>0</td>\n",
       "      <td>0</td>\n",
       "      <td>0</td>\n",
       "      <td>0</td>\n",
       "      <td>0</td>\n",
       "    </tr>\n",
       "    <tr>\n",
       "      <th>2</th>\n",
       "      <td>1</td>\n",
       "      <td>21</td>\n",
       "      <td>5</td>\n",
       "      <td>19</td>\n",
       "      <td>15</td>\n",
       "      <td>19</td>\n",
       "      <td>0</td>\n",
       "      <td>23</td>\n",
       "      <td>45</td>\n",
       "      <td>0</td>\n",
       "      <td>0</td>\n",
       "      <td>0</td>\n",
       "      <td>1</td>\n",
       "      <td>0</td>\n",
       "      <td>0</td>\n",
       "      <td>0</td>\n",
       "      <td>0</td>\n",
       "      <td>0</td>\n",
       "      <td>0</td>\n",
       "      <td>0</td>\n",
       "      <td>1</td>\n",
       "      <td>0</td>\n",
       "      <td>0</td>\n",
       "      <td>1</td>\n",
       "      <td>0</td>\n",
       "      <td>0</td>\n",
       "      <td>0</td>\n",
       "      <td>0</td>\n",
       "    </tr>\n",
       "    <tr>\n",
       "      <th>3</th>\n",
       "      <td>1</td>\n",
       "      <td>21</td>\n",
       "      <td>5</td>\n",
       "      <td>8</td>\n",
       "      <td>0</td>\n",
       "      <td>21</td>\n",
       "      <td>0</td>\n",
       "      <td>13</td>\n",
       "      <td>0</td>\n",
       "      <td>0</td>\n",
       "      <td>0</td>\n",
       "      <td>0</td>\n",
       "      <td>0</td>\n",
       "      <td>0</td>\n",
       "      <td>1</td>\n",
       "      <td>0</td>\n",
       "      <td>0</td>\n",
       "      <td>0</td>\n",
       "      <td>0</td>\n",
       "      <td>0</td>\n",
       "      <td>1</td>\n",
       "      <td>0</td>\n",
       "      <td>0</td>\n",
       "      <td>1</td>\n",
       "      <td>0</td>\n",
       "      <td>0</td>\n",
       "      <td>0</td>\n",
       "      <td>0</td>\n",
       "    </tr>\n",
       "    <tr>\n",
       "      <th>4</th>\n",
       "      <td>0</td>\n",
       "      <td>24</td>\n",
       "      <td>6</td>\n",
       "      <td>23</td>\n",
       "      <td>55</td>\n",
       "      <td>2</td>\n",
       "      <td>45</td>\n",
       "      <td>2</td>\n",
       "      <td>50</td>\n",
       "      <td>0</td>\n",
       "      <td>0</td>\n",
       "      <td>0</td>\n",
       "      <td>0</td>\n",
       "      <td>0</td>\n",
       "      <td>0</td>\n",
       "      <td>0</td>\n",
       "      <td>0</td>\n",
       "      <td>0</td>\n",
       "      <td>0</td>\n",
       "      <td>0</td>\n",
       "      <td>0</td>\n",
       "      <td>0</td>\n",
       "      <td>0</td>\n",
       "      <td>0</td>\n",
       "      <td>1</td>\n",
       "      <td>0</td>\n",
       "      <td>0</td>\n",
       "      <td>0</td>\n",
       "    </tr>\n",
       "  </tbody>\n",
       "</table>\n",
       "</div>"
      ],
      "text/plain": [
       "   Total_Stops  Journey_day  Journey_month  Dep_hour  Dep_min  Arrival_hour  \\\n",
       "0            1            6              6        17       30             4   \n",
       "1            1           12              5         6       20            10   \n",
       "2            1           21              5        19       15            19   \n",
       "3            1           21              5         8        0            21   \n",
       "4            0           24              6        23       55             2   \n",
       "\n",
       "   Arrival_min  Duration_hours  Duration_mins  Airline_Air India  \\\n",
       "0           25              10             55                  0   \n",
       "1           20               4              0                  0   \n",
       "2            0              23             45                  0   \n",
       "3            0              13              0                  0   \n",
       "4           45               2             50                  0   \n",
       "\n",
       "   Airline_GoAir  Airline_IndiGo  Airline_Jet Airways  \\\n",
       "0              0               0                    1   \n",
       "1              0               1                    0   \n",
       "2              0               0                    1   \n",
       "3              0               0                    0   \n",
       "4              0               0                    0   \n",
       "\n",
       "   Airline_Jet Airways Business  Airline_Multiple carriers  \\\n",
       "0                             0                          0   \n",
       "1                             0                          0   \n",
       "2                             0                          0   \n",
       "3                             0                          1   \n",
       "4                             0                          0   \n",
       "\n",
       "   Airline_Multiple carriers Premium economy  Airline_SpiceJet  \\\n",
       "0                                          0                 0   \n",
       "1                                          0                 0   \n",
       "2                                          0                 0   \n",
       "3                                          0                 0   \n",
       "4                                          0                 0   \n",
       "\n",
       "   Airline_Vistara  Airline_Vistara Premium economy  Source_Chennai  \\\n",
       "0                0                                0               0   \n",
       "1                0                                0               0   \n",
       "2                0                                0               0   \n",
       "3                0                                0               0   \n",
       "4                0                                0               0   \n",
       "\n",
       "   Source_Delhi  Source_Kolkata  Source_Mumbai  Destination_Cochin  \\\n",
       "0             1               0              0                   1   \n",
       "1             0               1              0                   0   \n",
       "2             1               0              0                   1   \n",
       "3             1               0              0                   1   \n",
       "4             0               0              0                   0   \n",
       "\n",
       "   Destination_Delhi  Destination_Hyderabad  Destination_Kolkata  \\\n",
       "0                  0                      0                    0   \n",
       "1                  0                      0                    0   \n",
       "2                  0                      0                    0   \n",
       "3                  0                      0                    0   \n",
       "4                  1                      0                    0   \n",
       "\n",
       "   Destination_New Delhi  \n",
       "0                      0  \n",
       "1                      0  \n",
       "2                      0  \n",
       "3                      0  \n",
       "4                      0  "
      ]
     },
     "metadata": {},
     "execution_count": 78
    }
   ],
   "metadata": {
    "execution": {
     "iopub.execute_input": "2021-09-18T12:58:26.759317Z",
     "iopub.status.busy": "2021-09-18T12:58:26.758378Z",
     "iopub.status.idle": "2021-09-18T12:58:26.762144Z",
     "shell.execute_reply": "2021-09-18T12:58:26.762532Z",
     "shell.execute_reply.started": "2021-09-18T12:29:41.857080Z"
    },
    "papermill": {
     "duration": 0.117838,
     "end_time": "2021-09-18T12:58:26.762670",
     "exception": false,
     "start_time": "2021-09-18T12:58:26.644832",
     "status": "completed"
    },
    "tags": []
   }
  },
  {
   "cell_type": "code",
   "execution_count": 79,
   "source": [
    "final_test_data.info()"
   ],
   "outputs": [
    {
     "output_type": "stream",
     "name": "stdout",
     "text": [
      "<class 'pandas.core.frame.DataFrame'>\n",
      "Int64Index: 2671 entries, 0 to 2670\n",
      "Data columns (total 28 columns):\n",
      " #   Column                                     Non-Null Count  Dtype\n",
      "---  ------                                     --------------  -----\n",
      " 0   Total_Stops                                2671 non-null   int64\n",
      " 1   Journey_day                                2671 non-null   int64\n",
      " 2   Journey_month                              2671 non-null   int64\n",
      " 3   Dep_hour                                   2671 non-null   int64\n",
      " 4   Dep_min                                    2671 non-null   int64\n",
      " 5   Arrival_hour                               2671 non-null   int64\n",
      " 6   Arrival_min                                2671 non-null   int64\n",
      " 7   Duration_hours                             2671 non-null   int64\n",
      " 8   Duration_mins                              2671 non-null   int64\n",
      " 9   Airline_Air India                          2671 non-null   uint8\n",
      " 10  Airline_GoAir                              2671 non-null   uint8\n",
      " 11  Airline_IndiGo                             2671 non-null   uint8\n",
      " 12  Airline_Jet Airways                        2671 non-null   uint8\n",
      " 13  Airline_Jet Airways Business               2671 non-null   uint8\n",
      " 14  Airline_Multiple carriers                  2671 non-null   uint8\n",
      " 15  Airline_Multiple carriers Premium economy  2671 non-null   uint8\n",
      " 16  Airline_SpiceJet                           2671 non-null   uint8\n",
      " 17  Airline_Vistara                            2671 non-null   uint8\n",
      " 18  Airline_Vistara Premium economy            2671 non-null   uint8\n",
      " 19  Source_Chennai                             2671 non-null   uint8\n",
      " 20  Source_Delhi                               2671 non-null   uint8\n",
      " 21  Source_Kolkata                             2671 non-null   uint8\n",
      " 22  Source_Mumbai                              2671 non-null   uint8\n",
      " 23  Destination_Cochin                         2671 non-null   uint8\n",
      " 24  Destination_Delhi                          2671 non-null   uint8\n",
      " 25  Destination_Hyderabad                      2671 non-null   uint8\n",
      " 26  Destination_Kolkata                        2671 non-null   uint8\n",
      " 27  Destination_New Delhi                      2671 non-null   uint8\n",
      "dtypes: int64(9), uint8(19)\n",
      "memory usage: 258.2 KB\n"
     ]
    }
   ],
   "metadata": {
    "execution": {
     "iopub.execute_input": "2021-09-18T12:58:26.965410Z",
     "iopub.status.busy": "2021-09-18T12:58:26.964600Z",
     "iopub.status.idle": "2021-09-18T12:58:26.976224Z",
     "shell.execute_reply": "2021-09-18T12:58:26.976643Z",
     "shell.execute_reply.started": "2021-09-18T12:29:43.450463Z"
    },
    "papermill": {
     "duration": 0.115969,
     "end_time": "2021-09-18T12:58:26.976774",
     "exception": false,
     "start_time": "2021-09-18T12:58:26.860805",
     "status": "completed"
    },
    "tags": []
   }
  },
  {
   "cell_type": "markdown",
   "source": [
    "**1. Scale this new data with already fitted scaler**"
   ],
   "metadata": {
    "papermill": {
     "duration": 0.173236,
     "end_time": "2021-09-18T12:58:27.287423",
     "exception": false,
     "start_time": "2021-09-18T12:58:27.114187",
     "status": "completed"
    },
    "tags": []
   }
  },
  {
   "cell_type": "code",
   "execution_count": 80,
   "source": [
    "scaled_test_data = scaler.transform(final_test_data)"
   ],
   "outputs": [],
   "metadata": {
    "execution": {
     "iopub.execute_input": "2021-09-18T12:58:27.613170Z",
     "iopub.status.busy": "2021-09-18T12:58:27.612530Z",
     "iopub.status.idle": "2021-09-18T12:58:27.617460Z",
     "shell.execute_reply": "2021-09-18T12:58:27.616974Z",
     "shell.execute_reply.started": "2021-09-18T12:29:54.887344Z"
    },
    "papermill": {
     "duration": 0.164978,
     "end_time": "2021-09-18T12:58:27.617573",
     "exception": false,
     "start_time": "2021-09-18T12:58:27.452595",
     "status": "completed"
    },
    "tags": []
   }
  },
  {
   "cell_type": "markdown",
   "source": [
    "**2. Make predictions using already existing model**"
   ],
   "metadata": {
    "papermill": {
     "duration": 0.099409,
     "end_time": "2021-09-18T12:58:27.817901",
     "exception": false,
     "start_time": "2021-09-18T12:58:27.718492",
     "status": "completed"
    },
    "tags": []
   }
  },
  {
   "cell_type": "code",
   "execution_count": 81,
   "source": [
    "price = final_model.predict(scaled_test_data)"
   ],
   "outputs": [],
   "metadata": {
    "execution": {
     "iopub.execute_input": "2021-09-18T12:58:28.019255Z",
     "iopub.status.busy": "2021-09-18T12:58:28.018484Z",
     "iopub.status.idle": "2021-09-18T12:58:28.294681Z",
     "shell.execute_reply": "2021-09-18T12:58:28.294169Z",
     "shell.execute_reply.started": "2021-09-18T12:33:49.101785Z"
    },
    "papermill": {
     "duration": 0.378234,
     "end_time": "2021-09-18T12:58:28.294817",
     "exception": false,
     "start_time": "2021-09-18T12:58:27.916583",
     "status": "completed"
    },
    "tags": []
   }
  },
  {
   "cell_type": "code",
   "execution_count": 82,
   "source": [
    "price"
   ],
   "outputs": [
    {
     "output_type": "execute_result",
     "data": {
      "text/plain": [
       "array([11798.34605928,  4239.58644986, 14759.3589692 , ...,\n",
       "       15782.19508579, 13869.92518288,  7823.29228518])"
      ]
     },
     "metadata": {},
     "execution_count": 82
    }
   ],
   "metadata": {
    "execution": {
     "iopub.execute_input": "2021-09-18T12:58:28.496656Z",
     "iopub.status.busy": "2021-09-18T12:58:28.496050Z",
     "iopub.status.idle": "2021-09-18T12:58:28.498671Z",
     "shell.execute_reply": "2021-09-18T12:58:28.499075Z",
     "shell.execute_reply.started": "2021-09-18T12:33:50.591069Z"
    },
    "papermill": {
     "duration": 0.106138,
     "end_time": "2021-09-18T12:58:28.499203",
     "exception": false,
     "start_time": "2021-09-18T12:58:28.393065",
     "status": "completed"
    },
    "tags": []
   }
  },
  {
   "cell_type": "markdown",
   "source": [
    "**3. Converting it to a pandas DataFrame**"
   ],
   "metadata": {
    "papermill": {
     "duration": 0.09891,
     "end_time": "2021-09-18T12:58:28.696231",
     "exception": false,
     "start_time": "2021-09-18T12:58:28.597321",
     "status": "completed"
    },
    "tags": []
   }
  },
  {
   "cell_type": "code",
   "execution_count": 83,
   "source": [
    "price = pd.DataFrame(price, columns=['Predicted Price'])"
   ],
   "outputs": [],
   "metadata": {
    "execution": {
     "iopub.execute_input": "2021-09-18T12:58:28.899512Z",
     "iopub.status.busy": "2021-09-18T12:58:28.898292Z",
     "iopub.status.idle": "2021-09-18T12:58:28.900548Z",
     "shell.execute_reply": "2021-09-18T12:58:28.900984Z",
     "shell.execute_reply.started": "2021-09-18T12:33:55.872733Z"
    },
    "papermill": {
     "duration": 0.106448,
     "end_time": "2021-09-18T12:58:28.901115",
     "exception": false,
     "start_time": "2021-09-18T12:58:28.794667",
     "status": "completed"
    },
    "tags": []
   }
  },
  {
   "cell_type": "code",
   "execution_count": 84,
   "source": [
    "price"
   ],
   "outputs": [
    {
     "output_type": "execute_result",
     "data": {
      "text/html": [
       "<div>\n",
       "<style scoped>\n",
       "    .dataframe tbody tr th:only-of-type {\n",
       "        vertical-align: middle;\n",
       "    }\n",
       "\n",
       "    .dataframe tbody tr th {\n",
       "        vertical-align: top;\n",
       "    }\n",
       "\n",
       "    .dataframe thead th {\n",
       "        text-align: right;\n",
       "    }\n",
       "</style>\n",
       "<table border=\"1\" class=\"dataframe\">\n",
       "  <thead>\n",
       "    <tr style=\"text-align: right;\">\n",
       "      <th></th>\n",
       "      <th>Predicted Price</th>\n",
       "    </tr>\n",
       "  </thead>\n",
       "  <tbody>\n",
       "    <tr>\n",
       "      <th>0</th>\n",
       "      <td>11798.346059</td>\n",
       "    </tr>\n",
       "    <tr>\n",
       "      <th>1</th>\n",
       "      <td>4239.586450</td>\n",
       "    </tr>\n",
       "    <tr>\n",
       "      <th>2</th>\n",
       "      <td>14759.358969</td>\n",
       "    </tr>\n",
       "    <tr>\n",
       "      <th>3</th>\n",
       "      <td>11308.608198</td>\n",
       "    </tr>\n",
       "    <tr>\n",
       "      <th>4</th>\n",
       "      <td>3974.040094</td>\n",
       "    </tr>\n",
       "    <tr>\n",
       "      <th>...</th>\n",
       "      <td>...</td>\n",
       "    </tr>\n",
       "    <tr>\n",
       "      <th>2666</th>\n",
       "      <td>10271.281913</td>\n",
       "    </tr>\n",
       "    <tr>\n",
       "      <th>2667</th>\n",
       "      <td>4600.749398</td>\n",
       "    </tr>\n",
       "    <tr>\n",
       "      <th>2668</th>\n",
       "      <td>15782.195086</td>\n",
       "    </tr>\n",
       "    <tr>\n",
       "      <th>2669</th>\n",
       "      <td>13869.925183</td>\n",
       "    </tr>\n",
       "    <tr>\n",
       "      <th>2670</th>\n",
       "      <td>7823.292285</td>\n",
       "    </tr>\n",
       "  </tbody>\n",
       "</table>\n",
       "<p>2671 rows × 1 columns</p>\n",
       "</div>"
      ],
      "text/plain": [
       "      Predicted Price\n",
       "0        11798.346059\n",
       "1         4239.586450\n",
       "2        14759.358969\n",
       "3        11308.608198\n",
       "4         3974.040094\n",
       "...               ...\n",
       "2666     10271.281913\n",
       "2667      4600.749398\n",
       "2668     15782.195086\n",
       "2669     13869.925183\n",
       "2670      7823.292285\n",
       "\n",
       "[2671 rows x 1 columns]"
      ]
     },
     "metadata": {},
     "execution_count": 84
    }
   ],
   "metadata": {
    "execution": {
     "iopub.execute_input": "2021-09-18T12:58:29.107163Z",
     "iopub.status.busy": "2021-09-18T12:58:29.106463Z",
     "iopub.status.idle": "2021-09-18T12:58:29.110990Z",
     "shell.execute_reply": "2021-09-18T12:58:29.110444Z",
     "shell.execute_reply.started": "2021-09-18T12:33:57.305480Z"
    },
    "papermill": {
     "duration": 0.11186,
     "end_time": "2021-09-18T12:58:29.111132",
     "exception": false,
     "start_time": "2021-09-18T12:58:28.999272",
     "status": "completed"
    },
    "tags": []
   }
  },
  {
   "cell_type": "markdown",
   "source": [
    "**4. Saving this DataFrame as a csv file!**"
   ],
   "metadata": {
    "papermill": {
     "duration": 0.099581,
     "end_time": "2021-09-18T12:58:29.310529",
     "exception": false,
     "start_time": "2021-09-18T12:58:29.210948",
     "status": "completed"
    },
    "tags": []
   }
  },
  {
   "cell_type": "code",
   "execution_count": 85,
   "source": [
    "price.to_csv('Predicted_Prices.csv')"
   ],
   "outputs": [],
   "metadata": {
    "execution": {
     "iopub.execute_input": "2021-09-18T12:58:29.513175Z",
     "iopub.status.busy": "2021-09-18T12:58:29.512513Z",
     "iopub.status.idle": "2021-09-18T12:58:29.526543Z",
     "shell.execute_reply": "2021-09-18T12:58:29.526112Z",
     "shell.execute_reply.started": "2021-09-18T12:34:26.749484Z"
    },
    "papermill": {
     "duration": 0.117678,
     "end_time": "2021-09-18T12:58:29.526660",
     "exception": false,
     "start_time": "2021-09-18T12:58:29.408982",
     "status": "completed"
    },
    "tags": []
   }
  },
  {
   "cell_type": "markdown",
   "source": [
    "# **THANK YOU!**"
   ],
   "metadata": {
    "papermill": {
     "duration": 0.097945,
     "end_time": "2021-09-18T12:58:29.722837",
     "exception": false,
     "start_time": "2021-09-18T12:58:29.624892",
     "status": "completed"
    },
    "tags": []
   }
  },
  {
   "cell_type": "code",
   "execution_count": 86,
   "source": [
    "import pickle\r\n",
    "# open a file, where you ant to store the data\r\n",
    "file = open('flight_rf.pkl', 'wb')\r\n",
    "\r\n",
    "# dump information to that file\r\n",
    "pickle.dump(reg_rf, file)"
   ],
   "outputs": [],
   "metadata": {}
  },
  {
   "cell_type": "markdown",
   "source": [],
   "metadata": {}
  }
 ],
 "metadata": {
  "kernelspec": {
   "name": "python3",
   "display_name": "Python 3.9.0 64-bit"
  },
  "language_info": {
   "codemirror_mode": {
    "name": "ipython",
    "version": 3
   },
   "file_extension": ".py",
   "mimetype": "text/x-python",
   "name": "python",
   "nbconvert_exporter": "python",
   "pygments_lexer": "ipython3",
   "version": "3.9.0"
  },
  "papermill": {
   "default_parameters": {},
   "duration": 332.283529,
   "end_time": "2021-09-18T12:58:30.328482",
   "environment_variables": {},
   "exception": null,
   "input_path": "__notebook__.ipynb",
   "output_path": "__notebook__.ipynb",
   "parameters": {},
   "start_time": "2021-09-18T12:52:58.044953",
   "version": "2.3.3"
  },
  "interpreter": {
   "hash": "c569cd2e17f62341e0f08a54f9a867c3c0d3a6f67454072d7de41a8b5dff8343"
  }
 },
 "nbformat": 4,
 "nbformat_minor": 5
}